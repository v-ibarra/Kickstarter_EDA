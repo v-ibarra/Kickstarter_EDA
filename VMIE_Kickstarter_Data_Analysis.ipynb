{
 "cells": [
  {
   "cell_type": "markdown",
   "metadata": {},
   "source": [
    "# Kickstarter Data Analysis\n",
    "## Victor Manuel Ibarra Encinas\n",
    "\n",
    "------"
   ]
  },
  {
   "cell_type": "markdown",
   "metadata": {},
   "source": [
    "# Import Library"
   ]
  },
  {
   "cell_type": "code",
   "execution_count": 2,
   "metadata": {},
   "outputs": [],
   "source": [
    "import pandas as pd\n",
    "import numpy as np\n",
    "import matplotlib\n",
    "import matplotlib.pyplot as plt\n",
    "import seaborn as sns\n",
    "import dfply\n",
    "from scipy import stats\n",
    "from statsmodels.distributions.empirical_distribution import ECDF\n",
    "#import dc_stat_think as dcst\n",
    "#from mlxtend.preprocessing import minmax_scaling\n",
    "%matplotlib inline"
   ]
  },
  {
   "cell_type": "markdown",
   "metadata": {},
   "source": [
    "# Dataset"
   ]
  },
  {
   "cell_type": "code",
   "execution_count": 3,
   "metadata": {},
   "outputs": [
    {
     "data": {
      "text/html": [
       "<div>\n",
       "<style scoped>\n",
       "    .dataframe tbody tr th:only-of-type {\n",
       "        vertical-align: middle;\n",
       "    }\n",
       "\n",
       "    .dataframe tbody tr th {\n",
       "        vertical-align: top;\n",
       "    }\n",
       "\n",
       "    .dataframe thead th {\n",
       "        text-align: right;\n",
       "    }\n",
       "</style>\n",
       "<table border=\"1\" class=\"dataframe\">\n",
       "  <thead>\n",
       "    <tr style=\"text-align: right;\">\n",
       "      <th></th>\n",
       "      <th>ID</th>\n",
       "      <th>name</th>\n",
       "      <th>category</th>\n",
       "      <th>main_category</th>\n",
       "      <th>currency</th>\n",
       "      <th>deadline</th>\n",
       "      <th>goal</th>\n",
       "      <th>launched</th>\n",
       "      <th>pledged</th>\n",
       "      <th>state</th>\n",
       "      <th>backers</th>\n",
       "      <th>country</th>\n",
       "      <th>usd pledged</th>\n",
       "      <th>usd_pledged_real</th>\n",
       "      <th>usd_goal_real</th>\n",
       "    </tr>\n",
       "  </thead>\n",
       "  <tbody>\n",
       "    <tr>\n",
       "      <th>0</th>\n",
       "      <td>1000002330</td>\n",
       "      <td>The Songs of Adelaide &amp; Abullah</td>\n",
       "      <td>Poetry</td>\n",
       "      <td>Publishing</td>\n",
       "      <td>GBP</td>\n",
       "      <td>2015-10-09</td>\n",
       "      <td>1000.0</td>\n",
       "      <td>2015-08-11 12:12:28</td>\n",
       "      <td>0.0</td>\n",
       "      <td>failed</td>\n",
       "      <td>0</td>\n",
       "      <td>GB</td>\n",
       "      <td>0.0</td>\n",
       "      <td>0.0</td>\n",
       "      <td>1533.95</td>\n",
       "    </tr>\n",
       "    <tr>\n",
       "      <th>1</th>\n",
       "      <td>1000003930</td>\n",
       "      <td>Greeting From Earth: ZGAC Arts Capsule For ET</td>\n",
       "      <td>Narrative Film</td>\n",
       "      <td>Film &amp; Video</td>\n",
       "      <td>USD</td>\n",
       "      <td>2017-11-01</td>\n",
       "      <td>30000.0</td>\n",
       "      <td>2017-09-02 04:43:57</td>\n",
       "      <td>2421.0</td>\n",
       "      <td>failed</td>\n",
       "      <td>15</td>\n",
       "      <td>US</td>\n",
       "      <td>100.0</td>\n",
       "      <td>2421.0</td>\n",
       "      <td>30000.00</td>\n",
       "    </tr>\n",
       "    <tr>\n",
       "      <th>2</th>\n",
       "      <td>1000004038</td>\n",
       "      <td>Where is Hank?</td>\n",
       "      <td>Narrative Film</td>\n",
       "      <td>Film &amp; Video</td>\n",
       "      <td>USD</td>\n",
       "      <td>2013-02-26</td>\n",
       "      <td>45000.0</td>\n",
       "      <td>2013-01-12 00:20:50</td>\n",
       "      <td>220.0</td>\n",
       "      <td>failed</td>\n",
       "      <td>3</td>\n",
       "      <td>US</td>\n",
       "      <td>220.0</td>\n",
       "      <td>220.0</td>\n",
       "      <td>45000.00</td>\n",
       "    </tr>\n",
       "    <tr>\n",
       "      <th>3</th>\n",
       "      <td>1000007540</td>\n",
       "      <td>ToshiCapital Rekordz Needs Help to Complete Album</td>\n",
       "      <td>Music</td>\n",
       "      <td>Music</td>\n",
       "      <td>USD</td>\n",
       "      <td>2012-04-16</td>\n",
       "      <td>5000.0</td>\n",
       "      <td>2012-03-17 03:24:11</td>\n",
       "      <td>1.0</td>\n",
       "      <td>failed</td>\n",
       "      <td>1</td>\n",
       "      <td>US</td>\n",
       "      <td>1.0</td>\n",
       "      <td>1.0</td>\n",
       "      <td>5000.00</td>\n",
       "    </tr>\n",
       "    <tr>\n",
       "      <th>4</th>\n",
       "      <td>1000011046</td>\n",
       "      <td>Community Film Project: The Art of Neighborhoo...</td>\n",
       "      <td>Film &amp; Video</td>\n",
       "      <td>Film &amp; Video</td>\n",
       "      <td>USD</td>\n",
       "      <td>2015-08-29</td>\n",
       "      <td>19500.0</td>\n",
       "      <td>2015-07-04 08:35:03</td>\n",
       "      <td>1283.0</td>\n",
       "      <td>canceled</td>\n",
       "      <td>14</td>\n",
       "      <td>US</td>\n",
       "      <td>1283.0</td>\n",
       "      <td>1283.0</td>\n",
       "      <td>19500.00</td>\n",
       "    </tr>\n",
       "  </tbody>\n",
       "</table>\n",
       "</div>"
      ],
      "text/plain": [
       "           ID                                               name  \\\n",
       "0  1000002330                    The Songs of Adelaide & Abullah   \n",
       "1  1000003930      Greeting From Earth: ZGAC Arts Capsule For ET   \n",
       "2  1000004038                                     Where is Hank?   \n",
       "3  1000007540  ToshiCapital Rekordz Needs Help to Complete Album   \n",
       "4  1000011046  Community Film Project: The Art of Neighborhoo...   \n",
       "\n",
       "         category main_category currency    deadline     goal  \\\n",
       "0          Poetry    Publishing      GBP  2015-10-09   1000.0   \n",
       "1  Narrative Film  Film & Video      USD  2017-11-01  30000.0   \n",
       "2  Narrative Film  Film & Video      USD  2013-02-26  45000.0   \n",
       "3           Music         Music      USD  2012-04-16   5000.0   \n",
       "4    Film & Video  Film & Video      USD  2015-08-29  19500.0   \n",
       "\n",
       "              launched  pledged     state  backers country  usd pledged  \\\n",
       "0  2015-08-11 12:12:28      0.0    failed        0      GB          0.0   \n",
       "1  2017-09-02 04:43:57   2421.0    failed       15      US        100.0   \n",
       "2  2013-01-12 00:20:50    220.0    failed        3      US        220.0   \n",
       "3  2012-03-17 03:24:11      1.0    failed        1      US          1.0   \n",
       "4  2015-07-04 08:35:03   1283.0  canceled       14      US       1283.0   \n",
       "\n",
       "   usd_pledged_real  usd_goal_real  \n",
       "0               0.0        1533.95  \n",
       "1            2421.0       30000.00  \n",
       "2             220.0       45000.00  \n",
       "3               1.0        5000.00  \n",
       "4            1283.0       19500.00  "
      ]
     },
     "execution_count": 3,
     "metadata": {},
     "output_type": "execute_result"
    }
   ],
   "source": [
    "df = pd.read_csv(r'C:\\Users\\USER\\Documents\\Maestria\\Programacion101\\Kickstarter\\ks-projects-201801.csv')\n",
    "df.head()"
   ]
  },
  {
   "cell_type": "code",
   "execution_count": null,
   "metadata": {},
   "outputs": [],
   "source": [
    "#df"
   ]
  },
  {
   "cell_type": "code",
   "execution_count": 4,
   "metadata": {},
   "outputs": [
    {
     "data": {
      "text/plain": [
       "(378661, 15)"
      ]
     },
     "execution_count": 4,
     "metadata": {},
     "output_type": "execute_result"
    }
   ],
   "source": [
    "df.shape"
   ]
  },
  {
   "cell_type": "code",
   "execution_count": 5,
   "metadata": {},
   "outputs": [
    {
     "data": {
      "text/plain": [
       "378661"
      ]
     },
     "execution_count": 5,
     "metadata": {},
     "output_type": "execute_result"
    }
   ],
   "source": [
    "len(df)"
   ]
  },
  {
   "cell_type": "markdown",
   "metadata": {},
   "source": [
    "## Exploración de datos"
   ]
  },
  {
   "cell_type": "code",
   "execution_count": 6,
   "metadata": {},
   "outputs": [
    {
     "name": "stdout",
     "output_type": "stream",
     "text": [
      "<class 'pandas.core.frame.DataFrame'>\n",
      "RangeIndex: 378661 entries, 0 to 378660\n",
      "Data columns (total 15 columns):\n",
      " #   Column            Non-Null Count   Dtype  \n",
      "---  ------            --------------   -----  \n",
      " 0   ID                378661 non-null  int64  \n",
      " 1   name              378657 non-null  object \n",
      " 2   category          378661 non-null  object \n",
      " 3   main_category     378661 non-null  object \n",
      " 4   currency          378661 non-null  object \n",
      " 5   deadline          378661 non-null  object \n",
      " 6   goal              378661 non-null  float64\n",
      " 7   launched          378661 non-null  object \n",
      " 8   pledged           378661 non-null  float64\n",
      " 9   state             378661 non-null  object \n",
      " 10  backers           378661 non-null  int64  \n",
      " 11  country           378661 non-null  object \n",
      " 12  usd pledged       374864 non-null  float64\n",
      " 13  usd_pledged_real  378661 non-null  float64\n",
      " 14  usd_goal_real     378661 non-null  float64\n",
      "dtypes: float64(5), int64(2), object(8)\n",
      "memory usage: 43.3+ MB\n"
     ]
    }
   ],
   "source": [
    "df.info()"
   ]
  },
  {
   "cell_type": "code",
   "execution_count": 7,
   "metadata": {},
   "outputs": [
    {
     "data": {
      "text/plain": [
       "ID                     0\n",
       "name                   4\n",
       "category               0\n",
       "main_category          0\n",
       "currency               0\n",
       "deadline               0\n",
       "goal                   0\n",
       "launched               0\n",
       "pledged                0\n",
       "state                  0\n",
       "backers                0\n",
       "country                0\n",
       "usd pledged         3797\n",
       "usd_pledged_real       0\n",
       "usd_goal_real          0\n",
       "dtype: int64"
      ]
     },
     "execution_count": 7,
     "metadata": {},
     "output_type": "execute_result"
    }
   ],
   "source": [
    "missing_values_count = df.isnull().sum()\n",
    "missing_values_count"
   ]
  },
  {
   "cell_type": "code",
   "execution_count": 11,
   "metadata": {},
   "outputs": [
    {
     "data": {
      "text/html": [
       "<div>\n",
       "<style scoped>\n",
       "    .dataframe tbody tr th:only-of-type {\n",
       "        vertical-align: middle;\n",
       "    }\n",
       "\n",
       "    .dataframe tbody tr th {\n",
       "        vertical-align: top;\n",
       "    }\n",
       "\n",
       "    .dataframe thead th {\n",
       "        text-align: right;\n",
       "    }\n",
       "</style>\n",
       "<table border=\"1\" class=\"dataframe\">\n",
       "  <thead>\n",
       "    <tr style=\"text-align: right;\">\n",
       "      <th></th>\n",
       "      <th>ID</th>\n",
       "      <th>goal</th>\n",
       "      <th>pledged</th>\n",
       "      <th>backers</th>\n",
       "      <th>usd pledged</th>\n",
       "      <th>usd_pledged_real</th>\n",
       "      <th>usd_goal_real</th>\n",
       "    </tr>\n",
       "  </thead>\n",
       "  <tbody>\n",
       "    <tr>\n",
       "      <th>count</th>\n",
       "      <td>3.786610e+05</td>\n",
       "      <td>3.786610e+05</td>\n",
       "      <td>3.786610e+05</td>\n",
       "      <td>378661.000000</td>\n",
       "      <td>3.748640e+05</td>\n",
       "      <td>3.786610e+05</td>\n",
       "      <td>3.786610e+05</td>\n",
       "    </tr>\n",
       "    <tr>\n",
       "      <th>mean</th>\n",
       "      <td>1.074731e+09</td>\n",
       "      <td>4.908079e+04</td>\n",
       "      <td>9.682979e+03</td>\n",
       "      <td>105.617476</td>\n",
       "      <td>7.036729e+03</td>\n",
       "      <td>9.058924e+03</td>\n",
       "      <td>4.545440e+04</td>\n",
       "    </tr>\n",
       "    <tr>\n",
       "      <th>std</th>\n",
       "      <td>6.190862e+08</td>\n",
       "      <td>1.183391e+06</td>\n",
       "      <td>9.563601e+04</td>\n",
       "      <td>907.185035</td>\n",
       "      <td>7.863975e+04</td>\n",
       "      <td>9.097334e+04</td>\n",
       "      <td>1.152950e+06</td>\n",
       "    </tr>\n",
       "    <tr>\n",
       "      <th>min</th>\n",
       "      <td>5.971000e+03</td>\n",
       "      <td>1.000000e-02</td>\n",
       "      <td>0.000000e+00</td>\n",
       "      <td>0.000000</td>\n",
       "      <td>0.000000e+00</td>\n",
       "      <td>0.000000e+00</td>\n",
       "      <td>1.000000e-02</td>\n",
       "    </tr>\n",
       "    <tr>\n",
       "      <th>25%</th>\n",
       "      <td>5.382635e+08</td>\n",
       "      <td>2.000000e+03</td>\n",
       "      <td>3.000000e+01</td>\n",
       "      <td>2.000000</td>\n",
       "      <td>1.698000e+01</td>\n",
       "      <td>3.100000e+01</td>\n",
       "      <td>2.000000e+03</td>\n",
       "    </tr>\n",
       "    <tr>\n",
       "      <th>50%</th>\n",
       "      <td>1.075276e+09</td>\n",
       "      <td>5.200000e+03</td>\n",
       "      <td>6.200000e+02</td>\n",
       "      <td>12.000000</td>\n",
       "      <td>3.947200e+02</td>\n",
       "      <td>6.243300e+02</td>\n",
       "      <td>5.500000e+03</td>\n",
       "    </tr>\n",
       "    <tr>\n",
       "      <th>75%</th>\n",
       "      <td>1.610149e+09</td>\n",
       "      <td>1.600000e+04</td>\n",
       "      <td>4.076000e+03</td>\n",
       "      <td>56.000000</td>\n",
       "      <td>3.034090e+03</td>\n",
       "      <td>4.050000e+03</td>\n",
       "      <td>1.550000e+04</td>\n",
       "    </tr>\n",
       "    <tr>\n",
       "      <th>max</th>\n",
       "      <td>2.147476e+09</td>\n",
       "      <td>1.000000e+08</td>\n",
       "      <td>2.033899e+07</td>\n",
       "      <td>219382.000000</td>\n",
       "      <td>2.033899e+07</td>\n",
       "      <td>2.033899e+07</td>\n",
       "      <td>1.663614e+08</td>\n",
       "    </tr>\n",
       "  </tbody>\n",
       "</table>\n",
       "</div>"
      ],
      "text/plain": [
       "                 ID          goal       pledged        backers   usd pledged  \\\n",
       "count  3.786610e+05  3.786610e+05  3.786610e+05  378661.000000  3.748640e+05   \n",
       "mean   1.074731e+09  4.908079e+04  9.682979e+03     105.617476  7.036729e+03   \n",
       "std    6.190862e+08  1.183391e+06  9.563601e+04     907.185035  7.863975e+04   \n",
       "min    5.971000e+03  1.000000e-02  0.000000e+00       0.000000  0.000000e+00   \n",
       "25%    5.382635e+08  2.000000e+03  3.000000e+01       2.000000  1.698000e+01   \n",
       "50%    1.075276e+09  5.200000e+03  6.200000e+02      12.000000  3.947200e+02   \n",
       "75%    1.610149e+09  1.600000e+04  4.076000e+03      56.000000  3.034090e+03   \n",
       "max    2.147476e+09  1.000000e+08  2.033899e+07  219382.000000  2.033899e+07   \n",
       "\n",
       "       usd_pledged_real  usd_goal_real  \n",
       "count      3.786610e+05   3.786610e+05  \n",
       "mean       9.058924e+03   4.545440e+04  \n",
       "std        9.097334e+04   1.152950e+06  \n",
       "min        0.000000e+00   1.000000e-02  \n",
       "25%        3.100000e+01   2.000000e+03  \n",
       "50%        6.243300e+02   5.500000e+03  \n",
       "75%        4.050000e+03   1.550000e+04  \n",
       "max        2.033899e+07   1.663614e+08  "
      ]
     },
     "execution_count": 11,
     "metadata": {},
     "output_type": "execute_result"
    }
   ],
   "source": [
    "df.describe()"
   ]
  },
  {
   "cell_type": "code",
   "execution_count": 12,
   "metadata": {},
   "outputs": [
    {
     "data": {
      "text/html": [
       "<div>\n",
       "<style scoped>\n",
       "    .dataframe tbody tr th:only-of-type {\n",
       "        vertical-align: middle;\n",
       "    }\n",
       "\n",
       "    .dataframe tbody tr th {\n",
       "        vertical-align: top;\n",
       "    }\n",
       "\n",
       "    .dataframe thead th {\n",
       "        text-align: right;\n",
       "    }\n",
       "</style>\n",
       "<table border=\"1\" class=\"dataframe\">\n",
       "  <thead>\n",
       "    <tr style=\"text-align: right;\">\n",
       "      <th></th>\n",
       "      <th>ID</th>\n",
       "      <th>name</th>\n",
       "      <th>category</th>\n",
       "      <th>main_category</th>\n",
       "      <th>currency</th>\n",
       "      <th>deadline</th>\n",
       "      <th>goal</th>\n",
       "      <th>launched</th>\n",
       "      <th>pledged</th>\n",
       "      <th>state</th>\n",
       "      <th>backers</th>\n",
       "      <th>country</th>\n",
       "      <th>usd pledged</th>\n",
       "      <th>usd_pledged_real</th>\n",
       "      <th>usd_goal_real</th>\n",
       "    </tr>\n",
       "  </thead>\n",
       "  <tbody>\n",
       "    <tr>\n",
       "      <th>0</th>\n",
       "      <td>1000002330</td>\n",
       "      <td>The Songs of Adelaide &amp; Abullah</td>\n",
       "      <td>Poetry</td>\n",
       "      <td>Publishing</td>\n",
       "      <td>GBP</td>\n",
       "      <td>2015-10-09</td>\n",
       "      <td>1000.0</td>\n",
       "      <td>2015-08-11 12:12:28</td>\n",
       "      <td>0.0</td>\n",
       "      <td>failed</td>\n",
       "      <td>0</td>\n",
       "      <td>GB</td>\n",
       "      <td>0.0</td>\n",
       "      <td>0.0</td>\n",
       "      <td>1533.95</td>\n",
       "    </tr>\n",
       "    <tr>\n",
       "      <th>10</th>\n",
       "      <td>100004721</td>\n",
       "      <td>Of Jesus and Madmen</td>\n",
       "      <td>Nonfiction</td>\n",
       "      <td>Publishing</td>\n",
       "      <td>CAD</td>\n",
       "      <td>2013-10-09</td>\n",
       "      <td>2500.0</td>\n",
       "      <td>2013-09-09 18:19:37</td>\n",
       "      <td>0.0</td>\n",
       "      <td>failed</td>\n",
       "      <td>0</td>\n",
       "      <td>CA</td>\n",
       "      <td>0.0</td>\n",
       "      <td>0.0</td>\n",
       "      <td>2406.39</td>\n",
       "    </tr>\n",
       "    <tr>\n",
       "      <th>12</th>\n",
       "      <td>1000055792</td>\n",
       "      <td>The Cottage Market</td>\n",
       "      <td>Crafts</td>\n",
       "      <td>Crafts</td>\n",
       "      <td>USD</td>\n",
       "      <td>2014-10-02</td>\n",
       "      <td>5000.0</td>\n",
       "      <td>2014-09-02 17:11:50</td>\n",
       "      <td>0.0</td>\n",
       "      <td>failed</td>\n",
       "      <td>0</td>\n",
       "      <td>US</td>\n",
       "      <td>0.0</td>\n",
       "      <td>0.0</td>\n",
       "      <td>5000.00</td>\n",
       "    </tr>\n",
       "    <tr>\n",
       "      <th>13</th>\n",
       "      <td>1000056157</td>\n",
       "      <td>G-Spot Place for Gamers to connect with eachot...</td>\n",
       "      <td>Games</td>\n",
       "      <td>Games</td>\n",
       "      <td>USD</td>\n",
       "      <td>2016-03-25</td>\n",
       "      <td>200000.0</td>\n",
       "      <td>2016-02-09 23:01:12</td>\n",
       "      <td>0.0</td>\n",
       "      <td>failed</td>\n",
       "      <td>0</td>\n",
       "      <td>US</td>\n",
       "      <td>0.0</td>\n",
       "      <td>0.0</td>\n",
       "      <td>200000.00</td>\n",
       "    </tr>\n",
       "    <tr>\n",
       "      <th>26</th>\n",
       "      <td>1000103948</td>\n",
       "      <td>Superhero Teddy Bear</td>\n",
       "      <td>DIY</td>\n",
       "      <td>Crafts</td>\n",
       "      <td>GBP</td>\n",
       "      <td>2016-01-05</td>\n",
       "      <td>12000.0</td>\n",
       "      <td>2015-12-06 20:09:06</td>\n",
       "      <td>0.0</td>\n",
       "      <td>failed</td>\n",
       "      <td>0</td>\n",
       "      <td>GB</td>\n",
       "      <td>0.0</td>\n",
       "      <td>0.0</td>\n",
       "      <td>17489.65</td>\n",
       "    </tr>\n",
       "    <tr>\n",
       "      <th>...</th>\n",
       "      <td>...</td>\n",
       "      <td>...</td>\n",
       "      <td>...</td>\n",
       "      <td>...</td>\n",
       "      <td>...</td>\n",
       "      <td>...</td>\n",
       "      <td>...</td>\n",
       "      <td>...</td>\n",
       "      <td>...</td>\n",
       "      <td>...</td>\n",
       "      <td>...</td>\n",
       "      <td>...</td>\n",
       "      <td>...</td>\n",
       "      <td>...</td>\n",
       "      <td>...</td>\n",
       "    </tr>\n",
       "    <tr>\n",
       "      <th>378632</th>\n",
       "      <td>99984851</td>\n",
       "      <td>\"Loreto\"</td>\n",
       "      <td>Comedy</td>\n",
       "      <td>Film &amp; Video</td>\n",
       "      <td>USD</td>\n",
       "      <td>2014-06-05</td>\n",
       "      <td>12000.0</td>\n",
       "      <td>2014-05-06 23:50:34</td>\n",
       "      <td>0.0</td>\n",
       "      <td>failed</td>\n",
       "      <td>0</td>\n",
       "      <td>US</td>\n",
       "      <td>0.0</td>\n",
       "      <td>0.0</td>\n",
       "      <td>12000.00</td>\n",
       "    </tr>\n",
       "    <tr>\n",
       "      <th>378641</th>\n",
       "      <td>99991751</td>\n",
       "      <td>Here is the oasis for the youngest in the world.</td>\n",
       "      <td>Product Design</td>\n",
       "      <td>Design</td>\n",
       "      <td>CHF</td>\n",
       "      <td>2015-09-04</td>\n",
       "      <td>80000.0</td>\n",
       "      <td>2015-07-06 18:00:47</td>\n",
       "      <td>0.0</td>\n",
       "      <td>failed</td>\n",
       "      <td>0</td>\n",
       "      <td>CH</td>\n",
       "      <td>0.0</td>\n",
       "      <td>0.0</td>\n",
       "      <td>82207.27</td>\n",
       "    </tr>\n",
       "    <tr>\n",
       "      <th>378643</th>\n",
       "      <td>999931480</td>\n",
       "      <td>Google Glass Shield (Canceled)</td>\n",
       "      <td>3D Printing</td>\n",
       "      <td>Technology</td>\n",
       "      <td>USD</td>\n",
       "      <td>2014-05-26</td>\n",
       "      <td>6500.0</td>\n",
       "      <td>2014-05-05 20:22:45</td>\n",
       "      <td>0.0</td>\n",
       "      <td>canceled</td>\n",
       "      <td>0</td>\n",
       "      <td>US</td>\n",
       "      <td>0.0</td>\n",
       "      <td>0.0</td>\n",
       "      <td>6500.00</td>\n",
       "    </tr>\n",
       "    <tr>\n",
       "      <th>378650</th>\n",
       "      <td>99996661</td>\n",
       "      <td>Date Seat - Boston iOS App</td>\n",
       "      <td>Apps</td>\n",
       "      <td>Technology</td>\n",
       "      <td>USD</td>\n",
       "      <td>2016-09-05</td>\n",
       "      <td>6000.0</td>\n",
       "      <td>2016-07-29 15:36:29</td>\n",
       "      <td>0.0</td>\n",
       "      <td>failed</td>\n",
       "      <td>0</td>\n",
       "      <td>US</td>\n",
       "      <td>0.0</td>\n",
       "      <td>0.0</td>\n",
       "      <td>6000.00</td>\n",
       "    </tr>\n",
       "    <tr>\n",
       "      <th>378655</th>\n",
       "      <td>999976312</td>\n",
       "      <td>Angela's Poetry (Canceled)</td>\n",
       "      <td>Poetry</td>\n",
       "      <td>Publishing</td>\n",
       "      <td>CAD</td>\n",
       "      <td>2014-09-20</td>\n",
       "      <td>5500.0</td>\n",
       "      <td>2014-08-06 03:46:07</td>\n",
       "      <td>0.0</td>\n",
       "      <td>canceled</td>\n",
       "      <td>0</td>\n",
       "      <td>CA</td>\n",
       "      <td>0.0</td>\n",
       "      <td>0.0</td>\n",
       "      <td>4949.60</td>\n",
       "    </tr>\n",
       "  </tbody>\n",
       "</table>\n",
       "<p>55609 rows × 15 columns</p>\n",
       "</div>"
      ],
      "text/plain": [
       "                ID                                               name  \\\n",
       "0       1000002330                    The Songs of Adelaide & Abullah   \n",
       "10       100004721                                Of Jesus and Madmen   \n",
       "12      1000055792                                 The Cottage Market   \n",
       "13      1000056157  G-Spot Place for Gamers to connect with eachot...   \n",
       "26      1000103948                               Superhero Teddy Bear   \n",
       "...            ...                                                ...   \n",
       "378632    99984851                                           \"Loreto\"   \n",
       "378641    99991751   Here is the oasis for the youngest in the world.   \n",
       "378643   999931480                     Google Glass Shield (Canceled)   \n",
       "378650    99996661                         Date Seat - Boston iOS App   \n",
       "378655   999976312                         Angela's Poetry (Canceled)   \n",
       "\n",
       "              category main_category currency    deadline      goal  \\\n",
       "0               Poetry    Publishing      GBP  2015-10-09    1000.0   \n",
       "10          Nonfiction    Publishing      CAD  2013-10-09    2500.0   \n",
       "12              Crafts        Crafts      USD  2014-10-02    5000.0   \n",
       "13               Games         Games      USD  2016-03-25  200000.0   \n",
       "26                 DIY        Crafts      GBP  2016-01-05   12000.0   \n",
       "...                ...           ...      ...         ...       ...   \n",
       "378632          Comedy  Film & Video      USD  2014-06-05   12000.0   \n",
       "378641  Product Design        Design      CHF  2015-09-04   80000.0   \n",
       "378643     3D Printing    Technology      USD  2014-05-26    6500.0   \n",
       "378650            Apps    Technology      USD  2016-09-05    6000.0   \n",
       "378655          Poetry    Publishing      CAD  2014-09-20    5500.0   \n",
       "\n",
       "                   launched  pledged     state  backers country  usd pledged  \\\n",
       "0       2015-08-11 12:12:28      0.0    failed        0      GB          0.0   \n",
       "10      2013-09-09 18:19:37      0.0    failed        0      CA          0.0   \n",
       "12      2014-09-02 17:11:50      0.0    failed        0      US          0.0   \n",
       "13      2016-02-09 23:01:12      0.0    failed        0      US          0.0   \n",
       "26      2015-12-06 20:09:06      0.0    failed        0      GB          0.0   \n",
       "...                     ...      ...       ...      ...     ...          ...   \n",
       "378632  2014-05-06 23:50:34      0.0    failed        0      US          0.0   \n",
       "378641  2015-07-06 18:00:47      0.0    failed        0      CH          0.0   \n",
       "378643  2014-05-05 20:22:45      0.0  canceled        0      US          0.0   \n",
       "378650  2016-07-29 15:36:29      0.0    failed        0      US          0.0   \n",
       "378655  2014-08-06 03:46:07      0.0  canceled        0      CA          0.0   \n",
       "\n",
       "        usd_pledged_real  usd_goal_real  \n",
       "0                    0.0        1533.95  \n",
       "10                   0.0        2406.39  \n",
       "12                   0.0        5000.00  \n",
       "13                   0.0      200000.00  \n",
       "26                   0.0       17489.65  \n",
       "...                  ...            ...  \n",
       "378632               0.0       12000.00  \n",
       "378641               0.0       82207.27  \n",
       "378643               0.0        6500.00  \n",
       "378650               0.0        6000.00  \n",
       "378655               0.0        4949.60  \n",
       "\n",
       "[55609 rows x 15 columns]"
      ]
     },
     "execution_count": 12,
     "metadata": {},
     "output_type": "execute_result"
    }
   ],
   "source": [
    "df >> dfply.filter_by((df.backers <= 0))"
   ]
  },
  {
   "cell_type": "code",
   "execution_count": 13,
   "metadata": {},
   "outputs": [
    {
     "data": {
      "text/html": [
       "<div>\n",
       "<style scoped>\n",
       "    .dataframe tbody tr th:only-of-type {\n",
       "        vertical-align: middle;\n",
       "    }\n",
       "\n",
       "    .dataframe tbody tr th {\n",
       "        vertical-align: top;\n",
       "    }\n",
       "\n",
       "    .dataframe thead th {\n",
       "        text-align: right;\n",
       "    }\n",
       "</style>\n",
       "<table border=\"1\" class=\"dataframe\">\n",
       "  <thead>\n",
       "    <tr style=\"text-align: right;\">\n",
       "      <th></th>\n",
       "      <th>ID</th>\n",
       "      <th>name</th>\n",
       "      <th>category</th>\n",
       "      <th>main_category</th>\n",
       "      <th>currency</th>\n",
       "      <th>deadline</th>\n",
       "      <th>goal</th>\n",
       "      <th>launched</th>\n",
       "      <th>pledged</th>\n",
       "      <th>state</th>\n",
       "      <th>backers</th>\n",
       "      <th>country</th>\n",
       "      <th>usd pledged</th>\n",
       "      <th>usd_pledged_real</th>\n",
       "      <th>usd_goal_real</th>\n",
       "    </tr>\n",
       "  </thead>\n",
       "  <tbody>\n",
       "  </tbody>\n",
       "</table>\n",
       "</div>"
      ],
      "text/plain": [
       "Empty DataFrame\n",
       "Columns: [ID, name, category, main_category, currency, deadline, goal, launched, pledged, state, backers, country, usd pledged, usd_pledged_real, usd_goal_real]\n",
       "Index: []"
      ]
     },
     "execution_count": 13,
     "metadata": {},
     "output_type": "execute_result"
    }
   ],
   "source": [
    "df >> dfply.filter_by((df.backers <= 0) & df.state == 'successful')"
   ]
  },
  {
   "cell_type": "markdown",
   "metadata": {},
   "source": [
    "### La columna \"usd pledged\" tiene 3796 como valores nulos, que representan el 1%, serán descartados para el presente análisis"
   ]
  },
  {
   "cell_type": "code",
   "execution_count": 14,
   "metadata": {},
   "outputs": [
    {
     "data": {
      "text/plain": [
       "1.0027438790897398"
      ]
     },
     "execution_count": 14,
     "metadata": {},
     "output_type": "execute_result"
    }
   ],
   "source": [
    "(3797/len(df))*100"
   ]
  },
  {
   "cell_type": "markdown",
   "metadata": {},
   "source": [
    "### La columna \"usd pledged\" tiene 52,527 con valores = 0 usd los cuales serán descartados."
   ]
  },
  {
   "cell_type": "code",
   "execution_count": 15,
   "metadata": {},
   "outputs": [
    {
     "data": {
      "text/plain": [
       "0.00         52527\n",
       "1.00          9195\n",
       "10.00         5034\n",
       "25.00         3994\n",
       "50.00         3626\n",
       "             ...  \n",
       "303.57           1\n",
       "189983.12        1\n",
       "7211.70          1\n",
       "5305.69          1\n",
       "3026.75          1\n",
       "Name: pledged, Length: 62130, dtype: int64"
      ]
     },
     "execution_count": 15,
     "metadata": {},
     "output_type": "execute_result"
    }
   ],
   "source": [
    "df['pledged'].value_counts()"
   ]
  },
  {
   "cell_type": "code",
   "execution_count": 16,
   "metadata": {},
   "outputs": [
    {
     "data": {
      "text/plain": [
       "5000.0     29779\n",
       "10000.0    26029\n",
       "1000.0     16950\n",
       "3000.0     15743\n",
       "2000.0     15257\n",
       "           ...  \n",
       "2981.0         1\n",
       "728.0          1\n",
       "9064.0         1\n",
       "18350.0        1\n",
       "15780.0        1\n",
       "Name: goal, Length: 8353, dtype: int64"
      ]
     },
     "execution_count": 16,
     "metadata": {},
     "output_type": "execute_result"
    }
   ],
   "source": [
    "df['goal'].value_counts()"
   ]
  },
  {
   "cell_type": "code",
   "execution_count": 17,
   "metadata": {},
   "outputs": [
    {
     "data": {
      "text/plain": [
       "0        55609\n",
       "1        34869\n",
       "2        23196\n",
       "3        16063\n",
       "4        12068\n",
       "         ...  \n",
       "2691         1\n",
       "3712         1\n",
       "3456         1\n",
       "74405        1\n",
       "2047         1\n",
       "Name: backers, Length: 3963, dtype: int64"
      ]
     },
     "execution_count": 17,
     "metadata": {},
     "output_type": "execute_result"
    }
   ],
   "source": [
    "df['backers'].value_counts()"
   ]
  },
  {
   "cell_type": "code",
   "execution_count": 18,
   "metadata": {},
   "outputs": [
    {
     "data": {
      "text/plain": [
       "0.00        68112\n",
       "1.00         5341\n",
       "25.00        3877\n",
       "10.00        3624\n",
       "50.00        3141\n",
       "            ...  \n",
       "10315.88        1\n",
       "1615.79         1\n",
       "13251.25        1\n",
       "165.94          1\n",
       "2205.64         1\n",
       "Name: usd pledged, Length: 95455, dtype: int64"
      ]
     },
     "execution_count": 18,
     "metadata": {},
     "output_type": "execute_result"
    }
   ],
   "source": [
    "df['usd pledged'].value_counts()"
   ]
  },
  {
   "cell_type": "code",
   "execution_count": 19,
   "metadata": {},
   "outputs": [
    {
     "data": {
      "text/plain": [
       "0.00         52527\n",
       "1.00          6678\n",
       "10.00         3633\n",
       "25.00         3455\n",
       "50.00         2937\n",
       "             ...  \n",
       "103748.00        1\n",
       "286892.62        1\n",
       "27235.69         1\n",
       "10756.22         1\n",
       "3575.02          1\n",
       "Name: usd_pledged_real, Length: 106065, dtype: int64"
      ]
     },
     "execution_count": 19,
     "metadata": {},
     "output_type": "execute_result"
    }
   ],
   "source": [
    "df['usd_pledged_real'].value_counts()"
   ]
  },
  {
   "cell_type": "code",
   "execution_count": 20,
   "metadata": {},
   "outputs": [
    {
     "data": {
      "text/plain": [
       "5000.00      24173\n",
       "10000.00     20786\n",
       "1000.00      13029\n",
       "3000.00      12699\n",
       "2000.00      11915\n",
       "             ...  \n",
       "6561.57          1\n",
       "12346.25         1\n",
       "2392.95          1\n",
       "1757.91          1\n",
       "781250.00        1\n",
       "Name: usd_goal_real, Length: 50339, dtype: int64"
      ]
     },
     "execution_count": 20,
     "metadata": {},
     "output_type": "execute_result"
    }
   ],
   "source": [
    "df['usd_goal_real'].value_counts()"
   ]
  },
  {
   "cell_type": "code",
   "execution_count": 21,
   "metadata": {},
   "outputs": [
    {
     "data": {
      "text/plain": [
       "Product Design     22314\n",
       "Documentary        16139\n",
       "Music              15727\n",
       "Tabletop Games     14180\n",
       "Shorts             12357\n",
       "                   ...  \n",
       "Residencies           69\n",
       "Letterpress           49\n",
       "Chiptune              35\n",
       "Literary Spaces       27\n",
       "Taxidermy             13\n",
       "Name: category, Length: 159, dtype: int64"
      ]
     },
     "execution_count": 21,
     "metadata": {},
     "output_type": "execute_result"
    }
   ],
   "source": [
    "df['category'].value_counts()"
   ]
  },
  {
   "cell_type": "code",
   "execution_count": 22,
   "metadata": {},
   "outputs": [
    {
     "data": {
      "text/plain": [
       "dtype('O')"
      ]
     },
     "execution_count": 22,
     "metadata": {},
     "output_type": "execute_result"
    }
   ],
   "source": [
    "df['category'].dtype"
   ]
  },
  {
   "cell_type": "markdown",
   "metadata": {},
   "source": [
    "### State labels"
   ]
  },
  {
   "cell_type": "code",
   "execution_count": 23,
   "metadata": {},
   "outputs": [
    {
     "data": {
      "text/plain": [
       "failed        197719\n",
       "successful    133956\n",
       "canceled       38779\n",
       "undefined       3562\n",
       "live            2799\n",
       "suspended       1846\n",
       "Name: state, dtype: int64"
      ]
     },
     "execution_count": 23,
     "metadata": {},
     "output_type": "execute_result"
    }
   ],
   "source": [
    "Main_State = df['state'].value_counts()\n",
    "Main_State"
   ]
  },
  {
   "cell_type": "code",
   "execution_count": 24,
   "metadata": {},
   "outputs": [
    {
     "data": {
      "text/plain": [
       "378661"
      ]
     },
     "execution_count": 24,
     "metadata": {},
     "output_type": "execute_result"
    }
   ],
   "source": [
    "Main_State.sum(axis = 0, skipna = True)"
   ]
  },
  {
   "cell_type": "code",
   "execution_count": 25,
   "metadata": {},
   "outputs": [
    {
     "data": {
      "text/html": [
       "<div>\n",
       "<style scoped>\n",
       "    .dataframe tbody tr th:only-of-type {\n",
       "        vertical-align: middle;\n",
       "    }\n",
       "\n",
       "    .dataframe tbody tr th {\n",
       "        vertical-align: top;\n",
       "    }\n",
       "\n",
       "    .dataframe thead th {\n",
       "        text-align: right;\n",
       "    }\n",
       "</style>\n",
       "<table border=\"1\" class=\"dataframe\">\n",
       "  <thead>\n",
       "    <tr style=\"text-align: right;\">\n",
       "      <th></th>\n",
       "      <th>Tcount</th>\n",
       "      <th>Total pctg</th>\n",
       "    </tr>\n",
       "  </thead>\n",
       "  <tbody>\n",
       "    <tr>\n",
       "      <th>failed</th>\n",
       "      <td>197719</td>\n",
       "      <td>52.215306</td>\n",
       "    </tr>\n",
       "    <tr>\n",
       "      <th>successful</th>\n",
       "      <td>133956</td>\n",
       "      <td>35.376234</td>\n",
       "    </tr>\n",
       "    <tr>\n",
       "      <th>canceled</th>\n",
       "      <td>38779</td>\n",
       "      <td>10.241086</td>\n",
       "    </tr>\n",
       "    <tr>\n",
       "      <th>undefined</th>\n",
       "      <td>3562</td>\n",
       "      <td>0.940683</td>\n",
       "    </tr>\n",
       "    <tr>\n",
       "      <th>live</th>\n",
       "      <td>2799</td>\n",
       "      <td>0.739184</td>\n",
       "    </tr>\n",
       "    <tr>\n",
       "      <th>suspended</th>\n",
       "      <td>1846</td>\n",
       "      <td>0.487507</td>\n",
       "    </tr>\n",
       "  </tbody>\n",
       "</table>\n",
       "</div>"
      ],
      "text/plain": [
       "            Tcount  Total pctg\n",
       "failed      197719   52.215306\n",
       "successful  133956   35.376234\n",
       "canceled     38779   10.241086\n",
       "undefined     3562    0.940683\n",
       "live          2799    0.739184\n",
       "suspended     1846    0.487507"
      ]
     },
     "execution_count": 25,
     "metadata": {},
     "output_type": "execute_result"
    }
   ],
   "source": [
    "Main_State_df = pd.DataFrame(Main_State)\n",
    "Main_State_df['avg']= Main_State_df['state']*100/378661\n",
    "Main_State_df.columns=['Tcount','Total pctg']\n",
    "Main_State_df"
   ]
  },
  {
   "cell_type": "code",
   "execution_count": 26,
   "metadata": {},
   "outputs": [
    {
     "data": {
      "text/plain": [
       "Text(0.5, 0, 'Campaigns')"
      ]
     },
     "execution_count": 26,
     "metadata": {},
     "output_type": "execute_result"
    },
    {
     "data": {
      "image/png": "[encoded data removed]",
      "text/plain": [
       "<Figure size 864x576 with 1 Axes>"
      ]
     },
     "metadata": {
      "needs_background": "light"
     },
     "output_type": "display_data"
    }
   ],
   "source": [
    "x = Main_State.index.tolist()\n",
    "y = Main_State\n",
    "\n",
    "plt.figure(figsize=(12, 8)) #make it bigger\n",
    "plt.yticks(np.arange(len(x)),x, fontsize = 16)\n",
    "plt.gca().invert_yaxis() #make rank 1 show at the top\n",
    "plt.barh(np.arange(len(x)),y)\n",
    "plt.title('State', fontsize = 20)\n",
    "plt.xlabel('Campaigns', fontsize = 16)"
   ]
  },
  {
   "cell_type": "markdown",
   "metadata": {},
   "source": [
    "### Main Categories: Most popular"
   ]
  },
  {
   "cell_type": "code",
   "execution_count": 27,
   "metadata": {},
   "outputs": [
    {
     "data": {
      "text/plain": [
       "Film & Video    63585\n",
       "Music           51918\n",
       "Publishing      39874\n",
       "Games           35231\n",
       "Technology      32569\n",
       "Design          30070\n",
       "Art             28153\n",
       "Food            24602\n",
       "Fashion         22816\n",
       "Theater         10913\n",
       "Comics          10819\n",
       "Photography     10779\n",
       "Crafts           8809\n",
       "Journalism       4755\n",
       "Dance            3768\n",
       "Name: main_category, dtype: int64"
      ]
     },
     "execution_count": 27,
     "metadata": {},
     "output_type": "execute_result"
    }
   ],
   "source": [
    "Main_Categories = df['main_category'].value_counts()\n",
    "Main_Categories"
   ]
  },
  {
   "cell_type": "code",
   "execution_count": 28,
   "metadata": {},
   "outputs": [
    {
     "data": {
      "text/plain": [
       "Text(0.5, 0, 'Campaigns')"
      ]
     },
     "execution_count": 28,
     "metadata": {},
     "output_type": "execute_result"
    },
    {
     "data": {
      "image/png": "[encoded data removed]",
      "text/plain": [
       "<Figure size 864x576 with 1 Axes>"
      ]
     },
     "metadata": {
      "needs_background": "light"
     },
     "output_type": "display_data"
    }
   ],
   "source": [
    "x = Main_Categories.index.tolist()\n",
    "y = Main_Categories\n",
    "\n",
    "plt.figure(figsize=(12, 8)) #make it bigger\n",
    "plt.yticks(np.arange(len(x)),x, fontsize = 16)\n",
    "plt.gca().invert_yaxis() #make rank 1 show at the top\n",
    "plt.barh(np.arange(len(x)),y)\n",
    "plt.title('Main Categories', fontsize = 20)\n",
    "plt.xlabel('Campaigns', fontsize = 16)"
   ]
  },
  {
   "cell_type": "markdown",
   "metadata": {},
   "source": [
    "### Most successful categories:\n",
    "### Categories with status = success"
   ]
  },
  {
   "cell_type": "code",
   "execution_count": 29,
   "metadata": {},
   "outputs": [
    {
     "data": {
      "text/plain": [
       "Music           24197\n",
       "Film & Video    23623\n",
       "Games           12518\n",
       "Publishing      12300\n",
       "Art             11510\n",
       "Design          10550\n",
       "Theater          6534\n",
       "Technology       6434\n",
       "Food             6085\n",
       "Comics           5842\n",
       "Fashion          5593\n",
       "Photography      3305\n",
       "Dance            2338\n",
       "Crafts           2115\n",
       "Journalism       1012\n",
       "Name: main_category, dtype: int64"
      ]
     },
     "execution_count": 29,
     "metadata": {},
     "output_type": "execute_result"
    }
   ],
   "source": [
    "Cat_Exito = df.loc[df.state=='successful','main_category'].value_counts()\n",
    "Cat_Exito"
   ]
  },
  {
   "cell_type": "code",
   "execution_count": 30,
   "metadata": {},
   "outputs": [
    {
     "data": {
      "text/plain": [
       "Text(0.5, 0, 'Campaigns')"
      ]
     },
     "execution_count": 30,
     "metadata": {},
     "output_type": "execute_result"
    },
    {
     "data": {
      "image/png": "[encoded data removed]",
      "text/plain": [
       "<Figure size 864x576 with 1 Axes>"
      ]
     },
     "metadata": {
      "needs_background": "light"
     },
     "output_type": "display_data"
    }
   ],
   "source": [
    "x = Cat_Exito.index.tolist()\n",
    "y = Cat_Exito\n",
    "\n",
    "plt.figure(figsize=(12, 8)) #make it bigger\n",
    "plt.yticks(np.arange(len(x)),x, fontsize = 16)\n",
    "plt.gca().invert_yaxis() #make rank 1 show at the top\n",
    "plt.barh(np.arange(len(x)),y)\n",
    "plt.title('Success Main Categories', fontsize = 20)\n",
    "plt.xlabel('Campaigns', fontsize = 16)"
   ]
  },
  {
   "cell_type": "markdown",
   "metadata": {},
   "source": [
    "### Most failed categories"
   ]
  },
  {
   "cell_type": "code",
   "execution_count": 31,
   "metadata": {},
   "outputs": [
    {
     "data": {
      "text/plain": [
       "Film & Video    32904\n",
       "Publishing      23145\n",
       "Music           21752\n",
       "Technology      20616\n",
       "Games           16003\n",
       "Food            15969\n",
       "Design          14814\n",
       "Fashion         14182\n",
       "Art             14131\n",
       "Photography      6384\n",
       "Crafts           5703\n",
       "Comics           4036\n",
       "Theater          3708\n",
       "Journalism       3137\n",
       "Dance            1235\n",
       "Name: main_category, dtype: int64"
      ]
     },
     "execution_count": 31,
     "metadata": {},
     "output_type": "execute_result"
    }
   ],
   "source": [
    "Cat_Failed = df.loc[df.state=='failed','main_category'].value_counts()\n",
    "Cat_Failed"
   ]
  },
  {
   "cell_type": "code",
   "execution_count": 32,
   "metadata": {},
   "outputs": [
    {
     "data": {
      "text/plain": [
       "Text(0.5, 0, 'Campaigns')"
      ]
     },
     "execution_count": 32,
     "metadata": {},
     "output_type": "execute_result"
    },
    {
     "data": {
      "image/png": "[encoded data removed]",
      "text/plain": [
       "<Figure size 864x576 with 1 Axes>"
      ]
     },
     "metadata": {
      "needs_background": "light"
     },
     "output_type": "display_data"
    }
   ],
   "source": [
    "x = Cat_Failed.index.tolist()\n",
    "y = Cat_Failed\n",
    "\n",
    "plt.figure(figsize=(12, 8)) #make it bigger\n",
    "plt.yticks(np.arange(len(x)),x, fontsize = 16)\n",
    "plt.gca().invert_yaxis() #make rank 1 show at the top\n",
    "plt.barh(np.arange(len(x)),y)\n",
    "plt.title('Failed Main Categories', fontsize = 20)\n",
    "plt.xlabel('Campaigns', fontsize = 16)"
   ]
  },
  {
   "cell_type": "code",
   "execution_count": 33,
   "metadata": {},
   "outputs": [
    {
     "data": {
      "text/plain": [
       "Games           6202\n",
       "Film & Video    5755\n",
       "Technology      4715\n",
       "Design          4152\n",
       "Publishing      3602\n",
       "Music           3305\n",
       "Fashion         2650\n",
       "Art             2222\n",
       "Food            2211\n",
       "Photography      986\n",
       "Crafts           843\n",
       "Comics           842\n",
       "Theater          608\n",
       "Journalism       523\n",
       "Dance            163\n",
       "Name: main_category, dtype: int64"
      ]
     },
     "execution_count": 33,
     "metadata": {},
     "output_type": "execute_result"
    }
   ],
   "source": [
    "Cat_Canceled = df.loc[df.state=='canceled','main_category'].value_counts()\n",
    "Cat_Canceled"
   ]
  },
  {
   "cell_type": "code",
   "execution_count": 34,
   "metadata": {},
   "outputs": [
    {
     "data": {
      "text/plain": [
       "Text(0.5, 0, 'Campaigns')"
      ]
     },
     "execution_count": 34,
     "metadata": {},
     "output_type": "execute_result"
    },
    {
     "data": {
      "image/png": "[encoded data removed]",
      "text/plain": [
       "<Figure size 864x576 with 1 Axes>"
      ]
     },
     "metadata": {
      "needs_background": "light"
     },
     "output_type": "display_data"
    }
   ],
   "source": [
    "x = Cat_Canceled.index.tolist()\n",
    "y = Cat_Canceled\n",
    "\n",
    "plt.figure(figsize=(12, 8)) #make it bigger\n",
    "plt.yticks(np.arange(len(x)),x, fontsize = 16)\n",
    "plt.gca().invert_yaxis() #make rank 1 show at the top\n",
    "plt.barh(np.arange(len(x)),y)\n",
    "plt.title('Canceled Main Categories', fontsize = 20)\n",
    "plt.xlabel('Campaigns', fontsize = 16)"
   ]
  },
  {
   "cell_type": "markdown",
   "metadata": {},
   "source": [
    "### Date Parse"
   ]
  },
  {
   "cell_type": "code",
   "execution_count": 35,
   "metadata": {},
   "outputs": [
    {
     "data": {
      "text/plain": [
       "dtype('O')"
      ]
     },
     "execution_count": 35,
     "metadata": {},
     "output_type": "execute_result"
    }
   ],
   "source": [
    "df['deadline'].dtype"
   ]
  },
  {
   "cell_type": "code",
   "execution_count": 36,
   "metadata": {},
   "outputs": [
    {
     "data": {
      "text/plain": [
       "dtype('O')"
      ]
     },
     "execution_count": 36,
     "metadata": {},
     "output_type": "execute_result"
    }
   ],
   "source": [
    "df['launched'].dtype"
   ]
  },
  {
   "cell_type": "code",
   "execution_count": 37,
   "metadata": {},
   "outputs": [
    {
     "name": "stdout",
     "output_type": "stream",
     "text": [
      "datetime64[ns] 0        2015-08-11 12:12:28\n",
      "1        2017-09-02 04:43:57\n",
      "2        2013-01-12 00:20:50\n",
      "3        2012-03-17 03:24:11\n",
      "4        2015-07-04 08:35:03\n",
      "                 ...        \n",
      "378656   2014-09-17 02:35:30\n",
      "378657   2011-06-22 03:35:14\n",
      "378658   2010-07-01 19:40:30\n",
      "378659   2016-01-13 18:13:53\n",
      "378660   2011-07-19 09:07:47\n",
      "Name: launched, Length: 378661, dtype: datetime64[ns]\n"
     ]
    }
   ],
   "source": [
    "df['deadline'] = pd.to_datetime(df['deadline'])\n",
    "df['launched'] = pd.to_datetime(df['launched'])\n",
    "print(df['deadline'].dtype, df['launched'])"
   ]
  },
  {
   "cell_type": "code",
   "execution_count": 38,
   "metadata": {},
   "outputs": [
    {
     "data": {
      "text/html": [
       "<div>\n",
       "<style scoped>\n",
       "    .dataframe tbody tr th:only-of-type {\n",
       "        vertical-align: middle;\n",
       "    }\n",
       "\n",
       "    .dataframe tbody tr th {\n",
       "        vertical-align: top;\n",
       "    }\n",
       "\n",
       "    .dataframe thead th {\n",
       "        text-align: right;\n",
       "    }\n",
       "</style>\n",
       "<table border=\"1\" class=\"dataframe\">\n",
       "  <thead>\n",
       "    <tr style=\"text-align: right;\">\n",
       "      <th></th>\n",
       "      <th>ID</th>\n",
       "      <th>name</th>\n",
       "      <th>category</th>\n",
       "      <th>main_category</th>\n",
       "      <th>currency</th>\n",
       "      <th>deadline</th>\n",
       "      <th>goal</th>\n",
       "      <th>launched</th>\n",
       "      <th>pledged</th>\n",
       "      <th>state</th>\n",
       "      <th>backers</th>\n",
       "      <th>country</th>\n",
       "      <th>usd pledged</th>\n",
       "      <th>usd_pledged_real</th>\n",
       "      <th>usd_goal_real</th>\n",
       "      <th>duration</th>\n",
       "    </tr>\n",
       "  </thead>\n",
       "  <tbody>\n",
       "    <tr>\n",
       "      <th>0</th>\n",
       "      <td>1000002330</td>\n",
       "      <td>The Songs of Adelaide &amp; Abullah</td>\n",
       "      <td>Poetry</td>\n",
       "      <td>Publishing</td>\n",
       "      <td>GBP</td>\n",
       "      <td>2015-10-09</td>\n",
       "      <td>1000.0</td>\n",
       "      <td>2015-08-11 12:12:28</td>\n",
       "      <td>0.0</td>\n",
       "      <td>failed</td>\n",
       "      <td>0</td>\n",
       "      <td>GB</td>\n",
       "      <td>0.0</td>\n",
       "      <td>0.0</td>\n",
       "      <td>1533.95</td>\n",
       "      <td>58 days 11:47:32</td>\n",
       "    </tr>\n",
       "    <tr>\n",
       "      <th>1</th>\n",
       "      <td>1000003930</td>\n",
       "      <td>Greeting From Earth: ZGAC Arts Capsule For ET</td>\n",
       "      <td>Narrative Film</td>\n",
       "      <td>Film &amp; Video</td>\n",
       "      <td>USD</td>\n",
       "      <td>2017-11-01</td>\n",
       "      <td>30000.0</td>\n",
       "      <td>2017-09-02 04:43:57</td>\n",
       "      <td>2421.0</td>\n",
       "      <td>failed</td>\n",
       "      <td>15</td>\n",
       "      <td>US</td>\n",
       "      <td>100.0</td>\n",
       "      <td>2421.0</td>\n",
       "      <td>30000.00</td>\n",
       "      <td>59 days 19:16:03</td>\n",
       "    </tr>\n",
       "    <tr>\n",
       "      <th>2</th>\n",
       "      <td>1000004038</td>\n",
       "      <td>Where is Hank?</td>\n",
       "      <td>Narrative Film</td>\n",
       "      <td>Film &amp; Video</td>\n",
       "      <td>USD</td>\n",
       "      <td>2013-02-26</td>\n",
       "      <td>45000.0</td>\n",
       "      <td>2013-01-12 00:20:50</td>\n",
       "      <td>220.0</td>\n",
       "      <td>failed</td>\n",
       "      <td>3</td>\n",
       "      <td>US</td>\n",
       "      <td>220.0</td>\n",
       "      <td>220.0</td>\n",
       "      <td>45000.00</td>\n",
       "      <td>44 days 23:39:10</td>\n",
       "    </tr>\n",
       "    <tr>\n",
       "      <th>3</th>\n",
       "      <td>1000007540</td>\n",
       "      <td>ToshiCapital Rekordz Needs Help to Complete Album</td>\n",
       "      <td>Music</td>\n",
       "      <td>Music</td>\n",
       "      <td>USD</td>\n",
       "      <td>2012-04-16</td>\n",
       "      <td>5000.0</td>\n",
       "      <td>2012-03-17 03:24:11</td>\n",
       "      <td>1.0</td>\n",
       "      <td>failed</td>\n",
       "      <td>1</td>\n",
       "      <td>US</td>\n",
       "      <td>1.0</td>\n",
       "      <td>1.0</td>\n",
       "      <td>5000.00</td>\n",
       "      <td>29 days 20:35:49</td>\n",
       "    </tr>\n",
       "    <tr>\n",
       "      <th>4</th>\n",
       "      <td>1000011046</td>\n",
       "      <td>Community Film Project: The Art of Neighborhoo...</td>\n",
       "      <td>Film &amp; Video</td>\n",
       "      <td>Film &amp; Video</td>\n",
       "      <td>USD</td>\n",
       "      <td>2015-08-29</td>\n",
       "      <td>19500.0</td>\n",
       "      <td>2015-07-04 08:35:03</td>\n",
       "      <td>1283.0</td>\n",
       "      <td>canceled</td>\n",
       "      <td>14</td>\n",
       "      <td>US</td>\n",
       "      <td>1283.0</td>\n",
       "      <td>1283.0</td>\n",
       "      <td>19500.00</td>\n",
       "      <td>55 days 15:24:57</td>\n",
       "    </tr>\n",
       "    <tr>\n",
       "      <th>...</th>\n",
       "      <td>...</td>\n",
       "      <td>...</td>\n",
       "      <td>...</td>\n",
       "      <td>...</td>\n",
       "      <td>...</td>\n",
       "      <td>...</td>\n",
       "      <td>...</td>\n",
       "      <td>...</td>\n",
       "      <td>...</td>\n",
       "      <td>...</td>\n",
       "      <td>...</td>\n",
       "      <td>...</td>\n",
       "      <td>...</td>\n",
       "      <td>...</td>\n",
       "      <td>...</td>\n",
       "      <td>...</td>\n",
       "    </tr>\n",
       "    <tr>\n",
       "      <th>378656</th>\n",
       "      <td>999976400</td>\n",
       "      <td>ChknTruk Nationwide Charity Drive 2014 (Canceled)</td>\n",
       "      <td>Documentary</td>\n",
       "      <td>Film &amp; Video</td>\n",
       "      <td>USD</td>\n",
       "      <td>2014-10-17</td>\n",
       "      <td>50000.0</td>\n",
       "      <td>2014-09-17 02:35:30</td>\n",
       "      <td>25.0</td>\n",
       "      <td>canceled</td>\n",
       "      <td>1</td>\n",
       "      <td>US</td>\n",
       "      <td>25.0</td>\n",
       "      <td>25.0</td>\n",
       "      <td>50000.00</td>\n",
       "      <td>29 days 21:24:30</td>\n",
       "    </tr>\n",
       "    <tr>\n",
       "      <th>378657</th>\n",
       "      <td>999977640</td>\n",
       "      <td>The Tribe</td>\n",
       "      <td>Narrative Film</td>\n",
       "      <td>Film &amp; Video</td>\n",
       "      <td>USD</td>\n",
       "      <td>2011-07-19</td>\n",
       "      <td>1500.0</td>\n",
       "      <td>2011-06-22 03:35:14</td>\n",
       "      <td>155.0</td>\n",
       "      <td>failed</td>\n",
       "      <td>5</td>\n",
       "      <td>US</td>\n",
       "      <td>155.0</td>\n",
       "      <td>155.0</td>\n",
       "      <td>1500.00</td>\n",
       "      <td>26 days 20:24:46</td>\n",
       "    </tr>\n",
       "    <tr>\n",
       "      <th>378658</th>\n",
       "      <td>999986353</td>\n",
       "      <td>Walls of Remedy- New lesbian Romantic Comedy f...</td>\n",
       "      <td>Narrative Film</td>\n",
       "      <td>Film &amp; Video</td>\n",
       "      <td>USD</td>\n",
       "      <td>2010-08-16</td>\n",
       "      <td>15000.0</td>\n",
       "      <td>2010-07-01 19:40:30</td>\n",
       "      <td>20.0</td>\n",
       "      <td>failed</td>\n",
       "      <td>1</td>\n",
       "      <td>US</td>\n",
       "      <td>20.0</td>\n",
       "      <td>20.0</td>\n",
       "      <td>15000.00</td>\n",
       "      <td>45 days 04:19:30</td>\n",
       "    </tr>\n",
       "    <tr>\n",
       "      <th>378659</th>\n",
       "      <td>999987933</td>\n",
       "      <td>BioDefense Education Kit</td>\n",
       "      <td>Technology</td>\n",
       "      <td>Technology</td>\n",
       "      <td>USD</td>\n",
       "      <td>2016-02-13</td>\n",
       "      <td>15000.0</td>\n",
       "      <td>2016-01-13 18:13:53</td>\n",
       "      <td>200.0</td>\n",
       "      <td>failed</td>\n",
       "      <td>6</td>\n",
       "      <td>US</td>\n",
       "      <td>200.0</td>\n",
       "      <td>200.0</td>\n",
       "      <td>15000.00</td>\n",
       "      <td>30 days 05:46:07</td>\n",
       "    </tr>\n",
       "    <tr>\n",
       "      <th>378660</th>\n",
       "      <td>999988282</td>\n",
       "      <td>Nou Renmen Ayiti!  We Love Haiti!</td>\n",
       "      <td>Performance Art</td>\n",
       "      <td>Art</td>\n",
       "      <td>USD</td>\n",
       "      <td>2011-08-16</td>\n",
       "      <td>2000.0</td>\n",
       "      <td>2011-07-19 09:07:47</td>\n",
       "      <td>524.0</td>\n",
       "      <td>failed</td>\n",
       "      <td>17</td>\n",
       "      <td>US</td>\n",
       "      <td>524.0</td>\n",
       "      <td>524.0</td>\n",
       "      <td>2000.00</td>\n",
       "      <td>27 days 14:52:13</td>\n",
       "    </tr>\n",
       "  </tbody>\n",
       "</table>\n",
       "<p>378661 rows × 16 columns</p>\n",
       "</div>"
      ],
      "text/plain": [
       "                ID                                               name  \\\n",
       "0       1000002330                    The Songs of Adelaide & Abullah   \n",
       "1       1000003930      Greeting From Earth: ZGAC Arts Capsule For ET   \n",
       "2       1000004038                                     Where is Hank?   \n",
       "3       1000007540  ToshiCapital Rekordz Needs Help to Complete Album   \n",
       "4       1000011046  Community Film Project: The Art of Neighborhoo...   \n",
       "...            ...                                                ...   \n",
       "378656   999976400  ChknTruk Nationwide Charity Drive 2014 (Canceled)   \n",
       "378657   999977640                                          The Tribe   \n",
       "378658   999986353  Walls of Remedy- New lesbian Romantic Comedy f...   \n",
       "378659   999987933                           BioDefense Education Kit   \n",
       "378660   999988282                  Nou Renmen Ayiti!  We Love Haiti!   \n",
       "\n",
       "               category main_category currency   deadline     goal  \\\n",
       "0                Poetry    Publishing      GBP 2015-10-09   1000.0   \n",
       "1        Narrative Film  Film & Video      USD 2017-11-01  30000.0   \n",
       "2        Narrative Film  Film & Video      USD 2013-02-26  45000.0   \n",
       "3                 Music         Music      USD 2012-04-16   5000.0   \n",
       "4          Film & Video  Film & Video      USD 2015-08-29  19500.0   \n",
       "...                 ...           ...      ...        ...      ...   \n",
       "378656      Documentary  Film & Video      USD 2014-10-17  50000.0   \n",
       "378657   Narrative Film  Film & Video      USD 2011-07-19   1500.0   \n",
       "378658   Narrative Film  Film & Video      USD 2010-08-16  15000.0   \n",
       "378659       Technology    Technology      USD 2016-02-13  15000.0   \n",
       "378660  Performance Art           Art      USD 2011-08-16   2000.0   \n",
       "\n",
       "                  launched  pledged     state  backers country  usd pledged  \\\n",
       "0      2015-08-11 12:12:28      0.0    failed        0      GB          0.0   \n",
       "1      2017-09-02 04:43:57   2421.0    failed       15      US        100.0   \n",
       "2      2013-01-12 00:20:50    220.0    failed        3      US        220.0   \n",
       "3      2012-03-17 03:24:11      1.0    failed        1      US          1.0   \n",
       "4      2015-07-04 08:35:03   1283.0  canceled       14      US       1283.0   \n",
       "...                    ...      ...       ...      ...     ...          ...   \n",
       "378656 2014-09-17 02:35:30     25.0  canceled        1      US         25.0   \n",
       "378657 2011-06-22 03:35:14    155.0    failed        5      US        155.0   \n",
       "378658 2010-07-01 19:40:30     20.0    failed        1      US         20.0   \n",
       "378659 2016-01-13 18:13:53    200.0    failed        6      US        200.0   \n",
       "378660 2011-07-19 09:07:47    524.0    failed       17      US        524.0   \n",
       "\n",
       "        usd_pledged_real  usd_goal_real         duration  \n",
       "0                    0.0        1533.95 58 days 11:47:32  \n",
       "1                 2421.0       30000.00 59 days 19:16:03  \n",
       "2                  220.0       45000.00 44 days 23:39:10  \n",
       "3                    1.0        5000.00 29 days 20:35:49  \n",
       "4                 1283.0       19500.00 55 days 15:24:57  \n",
       "...                  ...            ...              ...  \n",
       "378656              25.0       50000.00 29 days 21:24:30  \n",
       "378657             155.0        1500.00 26 days 20:24:46  \n",
       "378658              20.0       15000.00 45 days 04:19:30  \n",
       "378659             200.0       15000.00 30 days 05:46:07  \n",
       "378660             524.0        2000.00 27 days 14:52:13  \n",
       "\n",
       "[378661 rows x 16 columns]"
      ]
     },
     "execution_count": 38,
     "metadata": {},
     "output_type": "execute_result"
    }
   ],
   "source": [
    "df['duration'] = df['deadline'] - df['launched']\n",
    "df"
   ]
  },
  {
   "cell_type": "markdown",
   "metadata": {},
   "source": [
    "### Launched dates on 1970? "
   ]
  },
  {
   "cell_type": "code",
   "execution_count": 39,
   "metadata": {},
   "outputs": [
    {
     "data": {
      "text/html": [
       "<div>\n",
       "<style scoped>\n",
       "    .dataframe tbody tr th:only-of-type {\n",
       "        vertical-align: middle;\n",
       "    }\n",
       "\n",
       "    .dataframe tbody tr th {\n",
       "        vertical-align: top;\n",
       "    }\n",
       "\n",
       "    .dataframe thead th {\n",
       "        text-align: right;\n",
       "    }\n",
       "</style>\n",
       "<table border=\"1\" class=\"dataframe\">\n",
       "  <thead>\n",
       "    <tr style=\"text-align: right;\">\n",
       "      <th></th>\n",
       "      <th>ID</th>\n",
       "      <th>name</th>\n",
       "      <th>category</th>\n",
       "      <th>main_category</th>\n",
       "      <th>currency</th>\n",
       "      <th>deadline</th>\n",
       "      <th>goal</th>\n",
       "      <th>launched</th>\n",
       "      <th>pledged</th>\n",
       "      <th>state</th>\n",
       "      <th>backers</th>\n",
       "      <th>country</th>\n",
       "      <th>usd pledged</th>\n",
       "      <th>usd_pledged_real</th>\n",
       "      <th>usd_goal_real</th>\n",
       "      <th>duration</th>\n",
       "    </tr>\n",
       "  </thead>\n",
       "  <tbody>\n",
       "    <tr>\n",
       "      <th>75397</th>\n",
       "      <td>1384087152</td>\n",
       "      <td>\"ICHOR\"  (Canceled)</td>\n",
       "      <td>Film &amp; Video</td>\n",
       "      <td>Film &amp; Video</td>\n",
       "      <td>USD</td>\n",
       "      <td>2010-05-21</td>\n",
       "      <td>700.0</td>\n",
       "      <td>1970-01-01 01:00:00</td>\n",
       "      <td>0.0</td>\n",
       "      <td>canceled</td>\n",
       "      <td>0</td>\n",
       "      <td>US</td>\n",
       "      <td>0.00</td>\n",
       "      <td>0.00</td>\n",
       "      <td>700.00</td>\n",
       "      <td>14749 days 23:00:00</td>\n",
       "    </tr>\n",
       "    <tr>\n",
       "      <th>319002</th>\n",
       "      <td>69489148</td>\n",
       "      <td>Student Auditions Music 2015</td>\n",
       "      <td>Publishing</td>\n",
       "      <td>Publishing</td>\n",
       "      <td>CHF</td>\n",
       "      <td>2015-10-31</td>\n",
       "      <td>1900.0</td>\n",
       "      <td>1970-01-01 01:00:00</td>\n",
       "      <td>0.0</td>\n",
       "      <td>suspended</td>\n",
       "      <td>0</td>\n",
       "      <td>CH</td>\n",
       "      <td>0.00</td>\n",
       "      <td>0.00</td>\n",
       "      <td>1905.97</td>\n",
       "      <td>16738 days 23:00:00</td>\n",
       "    </tr>\n",
       "    <tr>\n",
       "      <th>2842</th>\n",
       "      <td>1014746686</td>\n",
       "      <td>Salt of the Earth: A Dead Sea Movie (Canceled)</td>\n",
       "      <td>Film &amp; Video</td>\n",
       "      <td>Film &amp; Video</td>\n",
       "      <td>USD</td>\n",
       "      <td>2010-09-15</td>\n",
       "      <td>5000.0</td>\n",
       "      <td>1970-01-01 01:00:00</td>\n",
       "      <td>0.0</td>\n",
       "      <td>canceled</td>\n",
       "      <td>0</td>\n",
       "      <td>US</td>\n",
       "      <td>0.00</td>\n",
       "      <td>0.00</td>\n",
       "      <td>5000.00</td>\n",
       "      <td>14866 days 23:00:00</td>\n",
       "    </tr>\n",
       "    <tr>\n",
       "      <th>94579</th>\n",
       "      <td>1480763647</td>\n",
       "      <td>Support Solo Theater! Help \"Ungrateful Daughte...</td>\n",
       "      <td>Theater</td>\n",
       "      <td>Theater</td>\n",
       "      <td>USD</td>\n",
       "      <td>2010-06-01</td>\n",
       "      <td>4000.0</td>\n",
       "      <td>1970-01-01 01:00:00</td>\n",
       "      <td>0.0</td>\n",
       "      <td>canceled</td>\n",
       "      <td>0</td>\n",
       "      <td>US</td>\n",
       "      <td>0.00</td>\n",
       "      <td>0.00</td>\n",
       "      <td>4000.00</td>\n",
       "      <td>14760 days 23:00:00</td>\n",
       "    </tr>\n",
       "    <tr>\n",
       "      <th>247913</th>\n",
       "      <td>330942060</td>\n",
       "      <td>Help RIZ Make A Charity Album: 8 Songs, 8 Caus...</td>\n",
       "      <td>Music</td>\n",
       "      <td>Music</td>\n",
       "      <td>USD</td>\n",
       "      <td>2010-05-04</td>\n",
       "      <td>10000.0</td>\n",
       "      <td>1970-01-01 01:00:00</td>\n",
       "      <td>0.0</td>\n",
       "      <td>canceled</td>\n",
       "      <td>0</td>\n",
       "      <td>US</td>\n",
       "      <td>0.00</td>\n",
       "      <td>0.00</td>\n",
       "      <td>10000.00</td>\n",
       "      <td>14732 days 23:00:00</td>\n",
       "    </tr>\n",
       "    <tr>\n",
       "      <th>...</th>\n",
       "      <td>...</td>\n",
       "      <td>...</td>\n",
       "      <td>...</td>\n",
       "      <td>...</td>\n",
       "      <td>...</td>\n",
       "      <td>...</td>\n",
       "      <td>...</td>\n",
       "      <td>...</td>\n",
       "      <td>...</td>\n",
       "      <td>...</td>\n",
       "      <td>...</td>\n",
       "      <td>...</td>\n",
       "      <td>...</td>\n",
       "      <td>...</td>\n",
       "      <td>...</td>\n",
       "      <td>...</td>\n",
       "    </tr>\n",
       "    <tr>\n",
       "      <th>95778</th>\n",
       "      <td>1486845240</td>\n",
       "      <td>Americas Got Talent - Serious MAK</td>\n",
       "      <td>Hip-Hop</td>\n",
       "      <td>Music</td>\n",
       "      <td>USD</td>\n",
       "      <td>2018-01-16</td>\n",
       "      <td>500.0</td>\n",
       "      <td>2018-01-02 14:13:09</td>\n",
       "      <td>0.0</td>\n",
       "      <td>live</td>\n",
       "      <td>0</td>\n",
       "      <td>US</td>\n",
       "      <td>0.00</td>\n",
       "      <td>0.00</td>\n",
       "      <td>500.00</td>\n",
       "      <td>13 days 09:46:51</td>\n",
       "    </tr>\n",
       "    <tr>\n",
       "      <th>373787</th>\n",
       "      <td>974738310</td>\n",
       "      <td>EVO Planner: The World's First Personalized Fl...</td>\n",
       "      <td>Product Design</td>\n",
       "      <td>Design</td>\n",
       "      <td>USD</td>\n",
       "      <td>2018-02-09</td>\n",
       "      <td>15000.0</td>\n",
       "      <td>2018-01-02 14:15:38</td>\n",
       "      <td>269.0</td>\n",
       "      <td>live</td>\n",
       "      <td>8</td>\n",
       "      <td>US</td>\n",
       "      <td>269.00</td>\n",
       "      <td>269.00</td>\n",
       "      <td>15000.00</td>\n",
       "      <td>37 days 09:44:22</td>\n",
       "    </tr>\n",
       "    <tr>\n",
       "      <th>217150</th>\n",
       "      <td>2106246194</td>\n",
       "      <td>Help save La Gattara, Arizona's first Cat Cafe!</td>\n",
       "      <td>Food</td>\n",
       "      <td>Food</td>\n",
       "      <td>USD</td>\n",
       "      <td>2018-01-16</td>\n",
       "      <td>10000.0</td>\n",
       "      <td>2018-01-02 14:17:46</td>\n",
       "      <td>165.0</td>\n",
       "      <td>live</td>\n",
       "      <td>3</td>\n",
       "      <td>US</td>\n",
       "      <td>165.00</td>\n",
       "      <td>165.00</td>\n",
       "      <td>10000.00</td>\n",
       "      <td>13 days 09:42:14</td>\n",
       "    </tr>\n",
       "    <tr>\n",
       "      <th>163161</th>\n",
       "      <td>1830173355</td>\n",
       "      <td>Digital Dagger Coin</td>\n",
       "      <td>Art</td>\n",
       "      <td>Art</td>\n",
       "      <td>USD</td>\n",
       "      <td>2018-02-01</td>\n",
       "      <td>650.0</td>\n",
       "      <td>2018-01-02 14:38:17</td>\n",
       "      <td>7.0</td>\n",
       "      <td>live</td>\n",
       "      <td>1</td>\n",
       "      <td>US</td>\n",
       "      <td>7.00</td>\n",
       "      <td>7.00</td>\n",
       "      <td>650.00</td>\n",
       "      <td>29 days 09:21:43</td>\n",
       "    </tr>\n",
       "    <tr>\n",
       "      <th>66683</th>\n",
       "      <td>1339173863</td>\n",
       "      <td>Spirits of the Forest</td>\n",
       "      <td>Tabletop Games</td>\n",
       "      <td>Games</td>\n",
       "      <td>EUR</td>\n",
       "      <td>2018-01-26</td>\n",
       "      <td>20000.0</td>\n",
       "      <td>2018-01-02 15:02:31</td>\n",
       "      <td>3694.0</td>\n",
       "      <td>live</td>\n",
       "      <td>82</td>\n",
       "      <td>ES</td>\n",
       "      <td>4435.93</td>\n",
       "      <td>4483.39</td>\n",
       "      <td>24273.91</td>\n",
       "      <td>23 days 08:57:29</td>\n",
       "    </tr>\n",
       "  </tbody>\n",
       "</table>\n",
       "<p>378661 rows × 16 columns</p>\n",
       "</div>"
      ],
      "text/plain": [
       "                ID                                               name  \\\n",
       "75397   1384087152                                \"ICHOR\"  (Canceled)   \n",
       "319002    69489148                       Student Auditions Music 2015   \n",
       "2842    1014746686     Salt of the Earth: A Dead Sea Movie (Canceled)   \n",
       "94579   1480763647  Support Solo Theater! Help \"Ungrateful Daughte...   \n",
       "247913   330942060  Help RIZ Make A Charity Album: 8 Songs, 8 Caus...   \n",
       "...            ...                                                ...   \n",
       "95778   1486845240                  Americas Got Talent - Serious MAK   \n",
       "373787   974738310  EVO Planner: The World's First Personalized Fl...   \n",
       "217150  2106246194    Help save La Gattara, Arizona's first Cat Cafe!   \n",
       "163161  1830173355                                Digital Dagger Coin   \n",
       "66683   1339173863                              Spirits of the Forest   \n",
       "\n",
       "              category main_category currency   deadline     goal  \\\n",
       "75397     Film & Video  Film & Video      USD 2010-05-21    700.0   \n",
       "319002      Publishing    Publishing      CHF 2015-10-31   1900.0   \n",
       "2842      Film & Video  Film & Video      USD 2010-09-15   5000.0   \n",
       "94579          Theater       Theater      USD 2010-06-01   4000.0   \n",
       "247913           Music         Music      USD 2010-05-04  10000.0   \n",
       "...                ...           ...      ...        ...      ...   \n",
       "95778          Hip-Hop         Music      USD 2018-01-16    500.0   \n",
       "373787  Product Design        Design      USD 2018-02-09  15000.0   \n",
       "217150            Food          Food      USD 2018-01-16  10000.0   \n",
       "163161             Art           Art      USD 2018-02-01    650.0   \n",
       "66683   Tabletop Games         Games      EUR 2018-01-26  20000.0   \n",
       "\n",
       "                  launched  pledged      state  backers country  usd pledged  \\\n",
       "75397  1970-01-01 01:00:00      0.0   canceled        0      US         0.00   \n",
       "319002 1970-01-01 01:00:00      0.0  suspended        0      CH         0.00   \n",
       "2842   1970-01-01 01:00:00      0.0   canceled        0      US         0.00   \n",
       "94579  1970-01-01 01:00:00      0.0   canceled        0      US         0.00   \n",
       "247913 1970-01-01 01:00:00      0.0   canceled        0      US         0.00   \n",
       "...                    ...      ...        ...      ...     ...          ...   \n",
       "95778  2018-01-02 14:13:09      0.0       live        0      US         0.00   \n",
       "373787 2018-01-02 14:15:38    269.0       live        8      US       269.00   \n",
       "217150 2018-01-02 14:17:46    165.0       live        3      US       165.00   \n",
       "163161 2018-01-02 14:38:17      7.0       live        1      US         7.00   \n",
       "66683  2018-01-02 15:02:31   3694.0       live       82      ES      4435.93   \n",
       "\n",
       "        usd_pledged_real  usd_goal_real            duration  \n",
       "75397               0.00         700.00 14749 days 23:00:00  \n",
       "319002              0.00        1905.97 16738 days 23:00:00  \n",
       "2842                0.00        5000.00 14866 days 23:00:00  \n",
       "94579               0.00        4000.00 14760 days 23:00:00  \n",
       "247913              0.00       10000.00 14732 days 23:00:00  \n",
       "...                  ...            ...                 ...  \n",
       "95778               0.00         500.00    13 days 09:46:51  \n",
       "373787            269.00       15000.00    37 days 09:44:22  \n",
       "217150            165.00       10000.00    13 days 09:42:14  \n",
       "163161              7.00         650.00    29 days 09:21:43  \n",
       "66683            4483.39       24273.91    23 days 08:57:29  \n",
       "\n",
       "[378661 rows x 16 columns]"
      ]
     },
     "execution_count": 39,
     "metadata": {},
     "output_type": "execute_result"
    }
   ],
   "source": [
    "df.sort_values('launched')"
   ]
  },
  {
   "cell_type": "code",
   "execution_count": 40,
   "metadata": {},
   "outputs": [],
   "source": [
    "df.drop(df.loc[df['launched']< \"2008-01-01\"].index, inplace=True)"
   ]
  },
  {
   "cell_type": "code",
   "execution_count": 41,
   "metadata": {},
   "outputs": [
    {
     "data": {
      "text/html": [
       "<div>\n",
       "<style scoped>\n",
       "    .dataframe tbody tr th:only-of-type {\n",
       "        vertical-align: middle;\n",
       "    }\n",
       "\n",
       "    .dataframe tbody tr th {\n",
       "        vertical-align: top;\n",
       "    }\n",
       "\n",
       "    .dataframe thead th {\n",
       "        text-align: right;\n",
       "    }\n",
       "</style>\n",
       "<table border=\"1\" class=\"dataframe\">\n",
       "  <thead>\n",
       "    <tr style=\"text-align: right;\">\n",
       "      <th></th>\n",
       "      <th>ID</th>\n",
       "      <th>name</th>\n",
       "      <th>category</th>\n",
       "      <th>main_category</th>\n",
       "      <th>currency</th>\n",
       "      <th>deadline</th>\n",
       "      <th>goal</th>\n",
       "      <th>launched</th>\n",
       "      <th>pledged</th>\n",
       "      <th>state</th>\n",
       "      <th>backers</th>\n",
       "      <th>country</th>\n",
       "      <th>usd pledged</th>\n",
       "      <th>usd_pledged_real</th>\n",
       "      <th>usd_goal_real</th>\n",
       "      <th>duration</th>\n",
       "    </tr>\n",
       "  </thead>\n",
       "  <tbody>\n",
       "    <tr>\n",
       "      <th>169268</th>\n",
       "      <td>1860890148</td>\n",
       "      <td>Grace Jones Does Not Give A F$#% T-Shirt (limi...</td>\n",
       "      <td>Fashion</td>\n",
       "      <td>Fashion</td>\n",
       "      <td>USD</td>\n",
       "      <td>2009-05-31</td>\n",
       "      <td>1000.0</td>\n",
       "      <td>2009-04-21 21:02:48</td>\n",
       "      <td>625.0</td>\n",
       "      <td>failed</td>\n",
       "      <td>30</td>\n",
       "      <td>US</td>\n",
       "      <td>625.00</td>\n",
       "      <td>625.00</td>\n",
       "      <td>1000.00</td>\n",
       "      <td>39 days 02:57:12</td>\n",
       "    </tr>\n",
       "    <tr>\n",
       "      <th>322000</th>\n",
       "      <td>709707365</td>\n",
       "      <td>CRYSTAL ANTLERS UNTITLED MOVIE</td>\n",
       "      <td>Shorts</td>\n",
       "      <td>Film &amp; Video</td>\n",
       "      <td>USD</td>\n",
       "      <td>2009-07-20</td>\n",
       "      <td>80000.0</td>\n",
       "      <td>2009-04-23 00:07:53</td>\n",
       "      <td>22.0</td>\n",
       "      <td>failed</td>\n",
       "      <td>3</td>\n",
       "      <td>US</td>\n",
       "      <td>22.00</td>\n",
       "      <td>22.00</td>\n",
       "      <td>80000.00</td>\n",
       "      <td>87 days 23:52:07</td>\n",
       "    </tr>\n",
       "    <tr>\n",
       "      <th>138572</th>\n",
       "      <td>1703704063</td>\n",
       "      <td>drawing for dollars</td>\n",
       "      <td>Illustration</td>\n",
       "      <td>Art</td>\n",
       "      <td>USD</td>\n",
       "      <td>2009-05-03</td>\n",
       "      <td>20.0</td>\n",
       "      <td>2009-04-24 21:52:03</td>\n",
       "      <td>35.0</td>\n",
       "      <td>successful</td>\n",
       "      <td>3</td>\n",
       "      <td>US</td>\n",
       "      <td>35.00</td>\n",
       "      <td>35.00</td>\n",
       "      <td>20.00</td>\n",
       "      <td>8 days 02:07:57</td>\n",
       "    </tr>\n",
       "    <tr>\n",
       "      <th>325391</th>\n",
       "      <td>727286</td>\n",
       "      <td>Offline Wikipedia iPhone app</td>\n",
       "      <td>Software</td>\n",
       "      <td>Technology</td>\n",
       "      <td>USD</td>\n",
       "      <td>2009-07-14</td>\n",
       "      <td>99.0</td>\n",
       "      <td>2009-04-25 17:36:21</td>\n",
       "      <td>145.0</td>\n",
       "      <td>successful</td>\n",
       "      <td>25</td>\n",
       "      <td>US</td>\n",
       "      <td>145.00</td>\n",
       "      <td>145.00</td>\n",
       "      <td>99.00</td>\n",
       "      <td>79 days 06:23:39</td>\n",
       "    </tr>\n",
       "    <tr>\n",
       "      <th>122662</th>\n",
       "      <td>1622952265</td>\n",
       "      <td>Pantshirts</td>\n",
       "      <td>Fashion</td>\n",
       "      <td>Fashion</td>\n",
       "      <td>USD</td>\n",
       "      <td>2009-05-26</td>\n",
       "      <td>1900.0</td>\n",
       "      <td>2009-04-27 14:10:39</td>\n",
       "      <td>387.0</td>\n",
       "      <td>failed</td>\n",
       "      <td>10</td>\n",
       "      <td>US</td>\n",
       "      <td>387.00</td>\n",
       "      <td>387.00</td>\n",
       "      <td>1900.00</td>\n",
       "      <td>28 days 09:49:21</td>\n",
       "    </tr>\n",
       "    <tr>\n",
       "      <th>...</th>\n",
       "      <td>...</td>\n",
       "      <td>...</td>\n",
       "      <td>...</td>\n",
       "      <td>...</td>\n",
       "      <td>...</td>\n",
       "      <td>...</td>\n",
       "      <td>...</td>\n",
       "      <td>...</td>\n",
       "      <td>...</td>\n",
       "      <td>...</td>\n",
       "      <td>...</td>\n",
       "      <td>...</td>\n",
       "      <td>...</td>\n",
       "      <td>...</td>\n",
       "      <td>...</td>\n",
       "      <td>...</td>\n",
       "    </tr>\n",
       "    <tr>\n",
       "      <th>95778</th>\n",
       "      <td>1486845240</td>\n",
       "      <td>Americas Got Talent - Serious MAK</td>\n",
       "      <td>Hip-Hop</td>\n",
       "      <td>Music</td>\n",
       "      <td>USD</td>\n",
       "      <td>2018-01-16</td>\n",
       "      <td>500.0</td>\n",
       "      <td>2018-01-02 14:13:09</td>\n",
       "      <td>0.0</td>\n",
       "      <td>live</td>\n",
       "      <td>0</td>\n",
       "      <td>US</td>\n",
       "      <td>0.00</td>\n",
       "      <td>0.00</td>\n",
       "      <td>500.00</td>\n",
       "      <td>13 days 09:46:51</td>\n",
       "    </tr>\n",
       "    <tr>\n",
       "      <th>373787</th>\n",
       "      <td>974738310</td>\n",
       "      <td>EVO Planner: The World's First Personalized Fl...</td>\n",
       "      <td>Product Design</td>\n",
       "      <td>Design</td>\n",
       "      <td>USD</td>\n",
       "      <td>2018-02-09</td>\n",
       "      <td>15000.0</td>\n",
       "      <td>2018-01-02 14:15:38</td>\n",
       "      <td>269.0</td>\n",
       "      <td>live</td>\n",
       "      <td>8</td>\n",
       "      <td>US</td>\n",
       "      <td>269.00</td>\n",
       "      <td>269.00</td>\n",
       "      <td>15000.00</td>\n",
       "      <td>37 days 09:44:22</td>\n",
       "    </tr>\n",
       "    <tr>\n",
       "      <th>217150</th>\n",
       "      <td>2106246194</td>\n",
       "      <td>Help save La Gattara, Arizona's first Cat Cafe!</td>\n",
       "      <td>Food</td>\n",
       "      <td>Food</td>\n",
       "      <td>USD</td>\n",
       "      <td>2018-01-16</td>\n",
       "      <td>10000.0</td>\n",
       "      <td>2018-01-02 14:17:46</td>\n",
       "      <td>165.0</td>\n",
       "      <td>live</td>\n",
       "      <td>3</td>\n",
       "      <td>US</td>\n",
       "      <td>165.00</td>\n",
       "      <td>165.00</td>\n",
       "      <td>10000.00</td>\n",
       "      <td>13 days 09:42:14</td>\n",
       "    </tr>\n",
       "    <tr>\n",
       "      <th>163161</th>\n",
       "      <td>1830173355</td>\n",
       "      <td>Digital Dagger Coin</td>\n",
       "      <td>Art</td>\n",
       "      <td>Art</td>\n",
       "      <td>USD</td>\n",
       "      <td>2018-02-01</td>\n",
       "      <td>650.0</td>\n",
       "      <td>2018-01-02 14:38:17</td>\n",
       "      <td>7.0</td>\n",
       "      <td>live</td>\n",
       "      <td>1</td>\n",
       "      <td>US</td>\n",
       "      <td>7.00</td>\n",
       "      <td>7.00</td>\n",
       "      <td>650.00</td>\n",
       "      <td>29 days 09:21:43</td>\n",
       "    </tr>\n",
       "    <tr>\n",
       "      <th>66683</th>\n",
       "      <td>1339173863</td>\n",
       "      <td>Spirits of the Forest</td>\n",
       "      <td>Tabletop Games</td>\n",
       "      <td>Games</td>\n",
       "      <td>EUR</td>\n",
       "      <td>2018-01-26</td>\n",
       "      <td>20000.0</td>\n",
       "      <td>2018-01-02 15:02:31</td>\n",
       "      <td>3694.0</td>\n",
       "      <td>live</td>\n",
       "      <td>82</td>\n",
       "      <td>ES</td>\n",
       "      <td>4435.93</td>\n",
       "      <td>4483.39</td>\n",
       "      <td>24273.91</td>\n",
       "      <td>23 days 08:57:29</td>\n",
       "    </tr>\n",
       "  </tbody>\n",
       "</table>\n",
       "<p>378654 rows × 16 columns</p>\n",
       "</div>"
      ],
      "text/plain": [
       "                ID                                               name  \\\n",
       "169268  1860890148  Grace Jones Does Not Give A F$#% T-Shirt (limi...   \n",
       "322000   709707365                     CRYSTAL ANTLERS UNTITLED MOVIE   \n",
       "138572  1703704063                                drawing for dollars   \n",
       "325391      727286                       Offline Wikipedia iPhone app   \n",
       "122662  1622952265                                         Pantshirts   \n",
       "...            ...                                                ...   \n",
       "95778   1486845240                  Americas Got Talent - Serious MAK   \n",
       "373787   974738310  EVO Planner: The World's First Personalized Fl...   \n",
       "217150  2106246194    Help save La Gattara, Arizona's first Cat Cafe!   \n",
       "163161  1830173355                                Digital Dagger Coin   \n",
       "66683   1339173863                              Spirits of the Forest   \n",
       "\n",
       "              category main_category currency   deadline     goal  \\\n",
       "169268         Fashion       Fashion      USD 2009-05-31   1000.0   \n",
       "322000          Shorts  Film & Video      USD 2009-07-20  80000.0   \n",
       "138572    Illustration           Art      USD 2009-05-03     20.0   \n",
       "325391        Software    Technology      USD 2009-07-14     99.0   \n",
       "122662         Fashion       Fashion      USD 2009-05-26   1900.0   \n",
       "...                ...           ...      ...        ...      ...   \n",
       "95778          Hip-Hop         Music      USD 2018-01-16    500.0   \n",
       "373787  Product Design        Design      USD 2018-02-09  15000.0   \n",
       "217150            Food          Food      USD 2018-01-16  10000.0   \n",
       "163161             Art           Art      USD 2018-02-01    650.0   \n",
       "66683   Tabletop Games         Games      EUR 2018-01-26  20000.0   \n",
       "\n",
       "                  launched  pledged       state  backers country  usd pledged  \\\n",
       "169268 2009-04-21 21:02:48    625.0      failed       30      US       625.00   \n",
       "322000 2009-04-23 00:07:53     22.0      failed        3      US        22.00   \n",
       "138572 2009-04-24 21:52:03     35.0  successful        3      US        35.00   \n",
       "325391 2009-04-25 17:36:21    145.0  successful       25      US       145.00   \n",
       "122662 2009-04-27 14:10:39    387.0      failed       10      US       387.00   \n",
       "...                    ...      ...         ...      ...     ...          ...   \n",
       "95778  2018-01-02 14:13:09      0.0        live        0      US         0.00   \n",
       "373787 2018-01-02 14:15:38    269.0        live        8      US       269.00   \n",
       "217150 2018-01-02 14:17:46    165.0        live        3      US       165.00   \n",
       "163161 2018-01-02 14:38:17      7.0        live        1      US         7.00   \n",
       "66683  2018-01-02 15:02:31   3694.0        live       82      ES      4435.93   \n",
       "\n",
       "        usd_pledged_real  usd_goal_real         duration  \n",
       "169268            625.00        1000.00 39 days 02:57:12  \n",
       "322000             22.00       80000.00 87 days 23:52:07  \n",
       "138572             35.00          20.00  8 days 02:07:57  \n",
       "325391            145.00          99.00 79 days 06:23:39  \n",
       "122662            387.00        1900.00 28 days 09:49:21  \n",
       "...                  ...            ...              ...  \n",
       "95778               0.00         500.00 13 days 09:46:51  \n",
       "373787            269.00       15000.00 37 days 09:44:22  \n",
       "217150            165.00       10000.00 13 days 09:42:14  \n",
       "163161              7.00         650.00 29 days 09:21:43  \n",
       "66683            4483.39       24273.91 23 days 08:57:29  \n",
       "\n",
       "[378654 rows x 16 columns]"
      ]
     },
     "execution_count": 41,
     "metadata": {},
     "output_type": "execute_result"
    }
   ],
   "source": [
    "df.sort_values('launched')"
   ]
  },
  {
   "cell_type": "code",
   "execution_count": 42,
   "metadata": {},
   "outputs": [
    {
     "data": {
      "text/plain": [
       "count                        378654\n",
       "mean     33 days 15:18:16.321927112\n",
       "std      12 days 19:16:25.822353455\n",
       "min                 0 days 00:07:17\n",
       "25%                29 days 02:20:36\n",
       "50%         29 days 16:32:21.500000\n",
       "75%                36 days 15:32:29\n",
       "max                91 days 23:06:13\n",
       "Name: duration, dtype: object"
      ]
     },
     "execution_count": 42,
     "metadata": {},
     "output_type": "execute_result"
    }
   ],
   "source": [
    "df.duration.describe()"
   ]
  },
  {
   "cell_type": "code",
   "execution_count": 43,
   "metadata": {},
   "outputs": [],
   "source": [
    "binsl = [pd.Timedelta ('0 days'),\n",
    "         pd.Timedelta ('7 days'),\n",
    "         pd.Timedelta ('22 days'),\n",
    "         pd.Timedelta ('37 days'),\n",
    "         pd.Timedelta ('52 days'),\n",
    "         pd.Timedelta ('67 days'),\n",
    "         pd.Timedelta ('82 days'),\n",
    "         pd.Timedelta ('92 days'),]\n",
    "names =  ['0-7','8-22','23-37','38-52','53-67','68-82','83-92']\n",
    "df['duration'] = pd.cut(df['duration'], binsl, labels = names)"
   ]
  },
  {
   "cell_type": "code",
   "execution_count": 45,
   "metadata": {},
   "outputs": [
    {
     "data": {
      "text/html": [
       "<div>\n",
       "<style scoped>\n",
       "    .dataframe tbody tr th:only-of-type {\n",
       "        vertical-align: middle;\n",
       "    }\n",
       "\n",
       "    .dataframe tbody tr th {\n",
       "        vertical-align: top;\n",
       "    }\n",
       "\n",
       "    .dataframe thead th {\n",
       "        text-align: right;\n",
       "    }\n",
       "</style>\n",
       "<table border=\"1\" class=\"dataframe\">\n",
       "  <thead>\n",
       "    <tr style=\"text-align: right;\">\n",
       "      <th></th>\n",
       "      <th>ID</th>\n",
       "      <th>name</th>\n",
       "      <th>category</th>\n",
       "      <th>main_category</th>\n",
       "      <th>currency</th>\n",
       "      <th>deadline</th>\n",
       "      <th>goal</th>\n",
       "      <th>launched</th>\n",
       "      <th>pledged</th>\n",
       "      <th>state</th>\n",
       "      <th>backers</th>\n",
       "      <th>country</th>\n",
       "      <th>usd pledged</th>\n",
       "      <th>usd_pledged_real</th>\n",
       "      <th>usd_goal_real</th>\n",
       "      <th>duration</th>\n",
       "    </tr>\n",
       "  </thead>\n",
       "  <tbody>\n",
       "    <tr>\n",
       "      <th>0</th>\n",
       "      <td>1000002330</td>\n",
       "      <td>The Songs of Adelaide &amp; Abullah</td>\n",
       "      <td>Poetry</td>\n",
       "      <td>Publishing</td>\n",
       "      <td>GBP</td>\n",
       "      <td>2015-10-09</td>\n",
       "      <td>1000.0</td>\n",
       "      <td>2015-08-11 12:12:28</td>\n",
       "      <td>0.0</td>\n",
       "      <td>failed</td>\n",
       "      <td>0</td>\n",
       "      <td>GB</td>\n",
       "      <td>0.0</td>\n",
       "      <td>0.0</td>\n",
       "      <td>1533.95</td>\n",
       "      <td>53-67</td>\n",
       "    </tr>\n",
       "    <tr>\n",
       "      <th>1</th>\n",
       "      <td>1000003930</td>\n",
       "      <td>Greeting From Earth: ZGAC Arts Capsule For ET</td>\n",
       "      <td>Narrative Film</td>\n",
       "      <td>Film &amp; Video</td>\n",
       "      <td>USD</td>\n",
       "      <td>2017-11-01</td>\n",
       "      <td>30000.0</td>\n",
       "      <td>2017-09-02 04:43:57</td>\n",
       "      <td>2421.0</td>\n",
       "      <td>failed</td>\n",
       "      <td>15</td>\n",
       "      <td>US</td>\n",
       "      <td>100.0</td>\n",
       "      <td>2421.0</td>\n",
       "      <td>30000.00</td>\n",
       "      <td>53-67</td>\n",
       "    </tr>\n",
       "    <tr>\n",
       "      <th>2</th>\n",
       "      <td>1000004038</td>\n",
       "      <td>Where is Hank?</td>\n",
       "      <td>Narrative Film</td>\n",
       "      <td>Film &amp; Video</td>\n",
       "      <td>USD</td>\n",
       "      <td>2013-02-26</td>\n",
       "      <td>45000.0</td>\n",
       "      <td>2013-01-12 00:20:50</td>\n",
       "      <td>220.0</td>\n",
       "      <td>failed</td>\n",
       "      <td>3</td>\n",
       "      <td>US</td>\n",
       "      <td>220.0</td>\n",
       "      <td>220.0</td>\n",
       "      <td>45000.00</td>\n",
       "      <td>38-52</td>\n",
       "    </tr>\n",
       "    <tr>\n",
       "      <th>3</th>\n",
       "      <td>1000007540</td>\n",
       "      <td>ToshiCapital Rekordz Needs Help to Complete Album</td>\n",
       "      <td>Music</td>\n",
       "      <td>Music</td>\n",
       "      <td>USD</td>\n",
       "      <td>2012-04-16</td>\n",
       "      <td>5000.0</td>\n",
       "      <td>2012-03-17 03:24:11</td>\n",
       "      <td>1.0</td>\n",
       "      <td>failed</td>\n",
       "      <td>1</td>\n",
       "      <td>US</td>\n",
       "      <td>1.0</td>\n",
       "      <td>1.0</td>\n",
       "      <td>5000.00</td>\n",
       "      <td>23-37</td>\n",
       "    </tr>\n",
       "    <tr>\n",
       "      <th>4</th>\n",
       "      <td>1000011046</td>\n",
       "      <td>Community Film Project: The Art of Neighborhoo...</td>\n",
       "      <td>Film &amp; Video</td>\n",
       "      <td>Film &amp; Video</td>\n",
       "      <td>USD</td>\n",
       "      <td>2015-08-29</td>\n",
       "      <td>19500.0</td>\n",
       "      <td>2015-07-04 08:35:03</td>\n",
       "      <td>1283.0</td>\n",
       "      <td>canceled</td>\n",
       "      <td>14</td>\n",
       "      <td>US</td>\n",
       "      <td>1283.0</td>\n",
       "      <td>1283.0</td>\n",
       "      <td>19500.00</td>\n",
       "      <td>53-67</td>\n",
       "    </tr>\n",
       "  </tbody>\n",
       "</table>\n",
       "</div>"
      ],
      "text/plain": [
       "           ID                                               name  \\\n",
       "0  1000002330                    The Songs of Adelaide & Abullah   \n",
       "1  1000003930      Greeting From Earth: ZGAC Arts Capsule For ET   \n",
       "2  1000004038                                     Where is Hank?   \n",
       "3  1000007540  ToshiCapital Rekordz Needs Help to Complete Album   \n",
       "4  1000011046  Community Film Project: The Art of Neighborhoo...   \n",
       "\n",
       "         category main_category currency   deadline     goal  \\\n",
       "0          Poetry    Publishing      GBP 2015-10-09   1000.0   \n",
       "1  Narrative Film  Film & Video      USD 2017-11-01  30000.0   \n",
       "2  Narrative Film  Film & Video      USD 2013-02-26  45000.0   \n",
       "3           Music         Music      USD 2012-04-16   5000.0   \n",
       "4    Film & Video  Film & Video      USD 2015-08-29  19500.0   \n",
       "\n",
       "             launched  pledged     state  backers country  usd pledged  \\\n",
       "0 2015-08-11 12:12:28      0.0    failed        0      GB          0.0   \n",
       "1 2017-09-02 04:43:57   2421.0    failed       15      US        100.0   \n",
       "2 2013-01-12 00:20:50    220.0    failed        3      US        220.0   \n",
       "3 2012-03-17 03:24:11      1.0    failed        1      US          1.0   \n",
       "4 2015-07-04 08:35:03   1283.0  canceled       14      US       1283.0   \n",
       "\n",
       "   usd_pledged_real  usd_goal_real duration  \n",
       "0               0.0        1533.95    53-67  \n",
       "1            2421.0       30000.00    53-67  \n",
       "2             220.0       45000.00    38-52  \n",
       "3               1.0        5000.00    23-37  \n",
       "4            1283.0       19500.00    53-67  "
      ]
     },
     "execution_count": 45,
     "metadata": {},
     "output_type": "execute_result"
    }
   ],
   "source": [
    "df.head()"
   ]
  },
  {
   "cell_type": "code",
   "execution_count": 46,
   "metadata": {
    "scrolled": true
   },
   "outputs": [
    {
     "data": {
      "text/plain": [
       "23-37    243408\n",
       "38-52     48145\n",
       "53-67     41779\n",
       "8-22      38077\n",
       "0-7        3308\n",
       "83-92      2917\n",
       "68-82      1020\n",
       "Name: duration, dtype: int64"
      ]
     },
     "execution_count": 46,
     "metadata": {},
     "output_type": "execute_result"
    }
   ],
   "source": [
    "df['duration'].value_counts()"
   ]
  },
  {
   "cell_type": "code",
   "execution_count": 47,
   "metadata": {},
   "outputs": [
    {
     "data": {
      "text/plain": [
       "23-37    243408\n",
       "38-52     48145\n",
       "53-67     41779\n",
       "8-22      38077\n",
       "0-7        3308\n",
       "83-92      2917\n",
       "68-82      1020\n",
       "Name: duration, dtype: int64"
      ]
     },
     "execution_count": 47,
     "metadata": {},
     "output_type": "execute_result"
    }
   ],
   "source": [
    "Time_cat = df['duration'].value_counts()\n",
    "Time_cat"
   ]
  },
  {
   "cell_type": "code",
   "execution_count": 48,
   "metadata": {},
   "outputs": [
    {
     "data": {
      "text/html": [
       "<div>\n",
       "<style scoped>\n",
       "    .dataframe tbody tr th:only-of-type {\n",
       "        vertical-align: middle;\n",
       "    }\n",
       "\n",
       "    .dataframe tbody tr th {\n",
       "        vertical-align: top;\n",
       "    }\n",
       "\n",
       "    .dataframe thead th {\n",
       "        text-align: right;\n",
       "    }\n",
       "</style>\n",
       "<table border=\"1\" class=\"dataframe\">\n",
       "  <thead>\n",
       "    <tr style=\"text-align: right;\">\n",
       "      <th></th>\n",
       "      <th>duration</th>\n",
       "    </tr>\n",
       "  </thead>\n",
       "  <tbody>\n",
       "    <tr>\n",
       "      <th>23-37</th>\n",
       "      <td>243408</td>\n",
       "    </tr>\n",
       "    <tr>\n",
       "      <th>38-52</th>\n",
       "      <td>48145</td>\n",
       "    </tr>\n",
       "    <tr>\n",
       "      <th>53-67</th>\n",
       "      <td>41779</td>\n",
       "    </tr>\n",
       "    <tr>\n",
       "      <th>8-22</th>\n",
       "      <td>38077</td>\n",
       "    </tr>\n",
       "    <tr>\n",
       "      <th>0-7</th>\n",
       "      <td>3308</td>\n",
       "    </tr>\n",
       "    <tr>\n",
       "      <th>83-92</th>\n",
       "      <td>2917</td>\n",
       "    </tr>\n",
       "    <tr>\n",
       "      <th>68-82</th>\n",
       "      <td>1020</td>\n",
       "    </tr>\n",
       "  </tbody>\n",
       "</table>\n",
       "</div>"
      ],
      "text/plain": [
       "       duration\n",
       "23-37    243408\n",
       "38-52     48145\n",
       "53-67     41779\n",
       "8-22      38077\n",
       "0-7        3308\n",
       "83-92      2917\n",
       "68-82      1020"
      ]
     },
     "execution_count": 48,
     "metadata": {},
     "output_type": "execute_result"
    }
   ],
   "source": [
    "dfTime_cat = pd.DataFrame(data = Time_cat) \n",
    "dfTime_cat"
   ]
  },
  {
   "cell_type": "code",
   "execution_count": 49,
   "metadata": {},
   "outputs": [
    {
     "data": {
      "text/plain": [
       "duration    378654\n",
       "dtype: int64"
      ]
     },
     "execution_count": 49,
     "metadata": {},
     "output_type": "execute_result"
    }
   ],
   "source": [
    "dfTime_cat.sum(axis = 0)"
   ]
  },
  {
   "cell_type": "code",
   "execution_count": 50,
   "metadata": {},
   "outputs": [
    {
     "data": {
      "text/plain": [
       "failed        197719\n",
       "successful    133956\n",
       "canceled       38773\n",
       "undefined       3562\n",
       "live            2799\n",
       "suspended       1845\n",
       "Name: state, dtype: int64"
      ]
     },
     "execution_count": 50,
     "metadata": {},
     "output_type": "execute_result"
    }
   ],
   "source": [
    "### Prueba graficas\n",
    "results = df.state.value_counts()\n",
    "results"
   ]
  },
  {
   "cell_type": "code",
   "execution_count": 51,
   "metadata": {},
   "outputs": [
    {
     "data": {
      "image/png": "[encoded data removed]",
      "text/plain": [
       "<Figure size 432x288 with 1 Axes>"
      ]
     },
     "metadata": {},
     "output_type": "display_data"
    }
   ],
   "source": [
    "plt.pie(results[:3], autopct='%1.2f%%',pctdistance = 1.2, startangle = 90, explode = (0,0.05,0), shadow = True)\n",
    "plt.legend(labels = results.index.tolist(), loc=\"best\")\n",
    "plt.axis('equal')\n",
    "plt.title('Campaigns state', fontsize = 16, y=1.08)\n",
    "plt.tight_layout()"
   ]
  },
  {
   "cell_type": "code",
   "execution_count": 52,
   "metadata": {},
   "outputs": [],
   "source": [
    "qty = len(df['duration'])"
   ]
  },
  {
   "cell_type": "code",
   "execution_count": 53,
   "metadata": {},
   "outputs": [
    {
     "data": {
      "text/html": [
       "<div>\n",
       "<style scoped>\n",
       "    .dataframe tbody tr th:only-of-type {\n",
       "        vertical-align: middle;\n",
       "    }\n",
       "\n",
       "    .dataframe tbody tr th {\n",
       "        vertical-align: top;\n",
       "    }\n",
       "\n",
       "    .dataframe thead th {\n",
       "        text-align: right;\n",
       "    }\n",
       "</style>\n",
       "<table border=\"1\" class=\"dataframe\">\n",
       "  <thead>\n",
       "    <tr style=\"text-align: right;\">\n",
       "      <th></th>\n",
       "      <th>duration</th>\n",
       "      <th>pctg</th>\n",
       "    </tr>\n",
       "  </thead>\n",
       "  <tbody>\n",
       "    <tr>\n",
       "      <th>23-37</th>\n",
       "      <td>243408</td>\n",
       "      <td>64.282432</td>\n",
       "    </tr>\n",
       "    <tr>\n",
       "      <th>38-52</th>\n",
       "      <td>48145</td>\n",
       "      <td>12.714774</td>\n",
       "    </tr>\n",
       "    <tr>\n",
       "      <th>53-67</th>\n",
       "      <td>41779</td>\n",
       "      <td>11.033556</td>\n",
       "    </tr>\n",
       "    <tr>\n",
       "      <th>8-22</th>\n",
       "      <td>38077</td>\n",
       "      <td>10.055882</td>\n",
       "    </tr>\n",
       "    <tr>\n",
       "      <th>0-7</th>\n",
       "      <td>3308</td>\n",
       "      <td>0.873621</td>\n",
       "    </tr>\n",
       "    <tr>\n",
       "      <th>83-92</th>\n",
       "      <td>2917</td>\n",
       "      <td>0.770360</td>\n",
       "    </tr>\n",
       "    <tr>\n",
       "      <th>68-82</th>\n",
       "      <td>1020</td>\n",
       "      <td>0.269375</td>\n",
       "    </tr>\n",
       "  </tbody>\n",
       "</table>\n",
       "</div>"
      ],
      "text/plain": [
       "       duration       pctg\n",
       "23-37    243408  64.282432\n",
       "38-52     48145  12.714774\n",
       "53-67     41779  11.033556\n",
       "8-22      38077  10.055882\n",
       "0-7        3308   0.873621\n",
       "83-92      2917   0.770360\n",
       "68-82      1020   0.269375"
      ]
     },
     "execution_count": 53,
     "metadata": {},
     "output_type": "execute_result"
    }
   ],
   "source": [
    "dfTime_cat['pctg'] = (dfTime_cat['duration']/ qty) * 100\n",
    "dfTime_cat"
   ]
  },
  {
   "cell_type": "code",
   "execution_count": 54,
   "metadata": {
    "scrolled": true
   },
   "outputs": [
    {
     "data": {
      "image/png": "[encoded data removed]",
      "text/plain": [
       "<Figure size 432x288 with 1 Axes>"
      ]
     },
     "metadata": {},
     "output_type": "display_data"
    }
   ],
   "source": [
    "matplotlib.pyplot.pie(Time_cat, explode=None, labels=Time_cat.index.tolist(), colors=None, \n",
    "                     autopct=None, pctdistance=0.6, shadow=False, \n",
    "                     labeldistance=1.2, startangle=60, radius=1, \n",
    "                     counterclock=True, wedgeprops=None, textprops=None, \n",
    "                     frame=False, rotatelabels=False,\n",
    "                     data=None)\n",
    "plt.legend(labels = Time_cat.index.tolist(), loc=\"best\")\n",
    "plt.title('Campaign duration groups', fontsize = 20, y=1.05)\n",
    "plt.axis('equal')\n",
    "plt.tight_layout()"
   ]
  },
  {
   "cell_type": "code",
   "execution_count": 55,
   "metadata": {},
   "outputs": [
    {
     "data": {
      "text/html": [
       "<div>\n",
       "<style scoped>\n",
       "    .dataframe tbody tr th:only-of-type {\n",
       "        vertical-align: middle;\n",
       "    }\n",
       "\n",
       "    .dataframe tbody tr th {\n",
       "        vertical-align: top;\n",
       "    }\n",
       "\n",
       "    .dataframe thead th {\n",
       "        text-align: right;\n",
       "    }\n",
       "</style>\n",
       "<table border=\"1\" class=\"dataframe\">\n",
       "  <thead>\n",
       "    <tr style=\"text-align: right;\">\n",
       "      <th></th>\n",
       "      <th>Tcampaigns</th>\n",
       "      <th>Tpctg</th>\n",
       "    </tr>\n",
       "  </thead>\n",
       "  <tbody>\n",
       "    <tr>\n",
       "      <th>failed</th>\n",
       "      <td>197719</td>\n",
       "      <td>52.216271</td>\n",
       "    </tr>\n",
       "    <tr>\n",
       "      <th>successful</th>\n",
       "      <td>133956</td>\n",
       "      <td>35.376888</td>\n",
       "    </tr>\n",
       "    <tr>\n",
       "      <th>canceled</th>\n",
       "      <td>38779</td>\n",
       "      <td>10.241276</td>\n",
       "    </tr>\n",
       "    <tr>\n",
       "      <th>undefined</th>\n",
       "      <td>3562</td>\n",
       "      <td>0.940700</td>\n",
       "    </tr>\n",
       "    <tr>\n",
       "      <th>live</th>\n",
       "      <td>2799</td>\n",
       "      <td>0.739197</td>\n",
       "    </tr>\n",
       "    <tr>\n",
       "      <th>suspended</th>\n",
       "      <td>1846</td>\n",
       "      <td>0.487516</td>\n",
       "    </tr>\n",
       "  </tbody>\n",
       "</table>\n",
       "</div>"
      ],
      "text/plain": [
       "            Tcampaigns      Tpctg\n",
       "failed          197719  52.216271\n",
       "successful      133956  35.376888\n",
       "canceled         38779  10.241276\n",
       "undefined         3562   0.940700\n",
       "live              2799   0.739197\n",
       "suspended         1846   0.487516"
      ]
     },
     "execution_count": 55,
     "metadata": {},
     "output_type": "execute_result"
    }
   ],
   "source": [
    "Main_State_df = pd.DataFrame(Main_State)\n",
    "Main_State_df['pctg']= Main_State_df['state']*100/qty\n",
    "Main_State_df.columns=['Tcampaigns','Tpctg']\n",
    "Main_State_df"
   ]
  },
  {
   "cell_type": "markdown",
   "metadata": {},
   "source": [
    "--------"
   ]
  },
  {
   "cell_type": "markdown",
   "metadata": {},
   "source": [
    "# 1. Does the campaign length impact the success rate?\n"
   ]
  },
  {
   "cell_type": "code",
   "execution_count": 56,
   "metadata": {},
   "outputs": [
    {
     "data": {
      "text/plain": [
       "Text(0.5, 0, 'Campaigns')"
      ]
     },
     "execution_count": 56,
     "metadata": {},
     "output_type": "execute_result"
    },
    {
     "data": {
      "image/png": "[encoded data removed]",
      "text/plain": [
       "<Figure size 864x576 with 1 Axes>"
      ]
     },
     "metadata": {
      "needs_background": "light"
     },
     "output_type": "display_data"
    }
   ],
   "source": [
    "x = Time_cat.index.tolist()\n",
    "y = Time_cat\n",
    "\n",
    "plt.figure(figsize=(12, 8)) #make it bigger\n",
    "plt.yticks(np.arange(len(x)),x, fontsize = 16)\n",
    "plt.gca().invert_yaxis() #make rank 1 show at the top\n",
    "plt.barh(np.arange(len(x)),y)\n",
    "plt.title('Successful Duration', fontsize = 20)\n",
    "plt.xlabel('Campaigns', fontsize = 16)"
   ]
  },
  {
   "cell_type": "code",
   "execution_count": 57,
   "metadata": {},
   "outputs": [],
   "source": [
    "df1f = df >> dfply.filter_by((df.duration == '0-7') & (df.state == 'failed'))\n",
    "df1s = df >> dfply.filter_by((df.duration == '0-7') & (df.state == 'successful'))\n",
    "df1c = df >> dfply.filter_by((df.duration == '0-7') & (df.state == 'canceled'))\n",
    "df1u = df >> dfply.filter_by((df.duration == '0-7') & (df.state == 'undefined'))\n",
    "df1l = df >> dfply.filter_by((df.duration == '0-7') & (df.state == 'live'))\n",
    "df1sus = df >> dfply.filter_by((df.duration == '0-7') & (df.state == 'suspended'))"
   ]
  },
  {
   "cell_type": "code",
   "execution_count": 58,
   "metadata": {},
   "outputs": [
    {
     "name": "stdout",
     "output_type": "stream",
     "text": [
      "(1618, 16) (1389, 16) (229, 16) (25, 16) (5, 16) (42, 16)\n"
     ]
    }
   ],
   "source": [
    "print(df1f.shape, df1s.shape, df1c.shape, df1u.shape, df1l.shape, df1sus.shape)"
   ]
  },
  {
   "cell_type": "code",
   "execution_count": 59,
   "metadata": {},
   "outputs": [
    {
     "name": "stdout",
     "output_type": "stream",
     "text": [
      "(16083, 16) (18559, 16) (2705, 16) (432, 16) (108, 16) (190, 16)\n"
     ]
    }
   ],
   "source": [
    "df2f = df >> dfply.filter_by((df.duration == '8-22') & (df.state == 'failed'))\n",
    "df2s = df >> dfply.filter_by((df.duration == '8-22') & (df.state == 'successful'))\n",
    "df2c = df >> dfply.filter_by((df.duration == '8-22') & (df.state == 'canceled'))\n",
    "df2u = df >> dfply.filter_by((df.duration == '8-22') & (df.state == 'undefined'))\n",
    "df2l = df >> dfply.filter_by((df.duration == '8-22') & (df.state == 'live'))\n",
    "df2sus = df >> dfply.filter_by((df.duration == '8-22') & (df.state == 'suspended'))\n",
    "print(df2f.shape, df2s.shape, df2c.shape, df2u.shape, df2l.shape, df2sus.shape)"
   ]
  },
  {
   "cell_type": "code",
   "execution_count": 60,
   "metadata": {},
   "outputs": [
    {
     "name": "stdout",
     "output_type": "stream",
     "text": [
      "(126379, 16) (87784, 16) (24398, 16) (2358, 16) (1449, 16) (1040, 16)\n"
     ]
    }
   ],
   "source": [
    "df3f = df >> dfply.filter_by((df.duration == '23-37') & (df.state == 'failed'))\n",
    "df3s = df >> dfply.filter_by((df.duration == '23-37') & (df.state == 'successful'))\n",
    "df3c = df >> dfply.filter_by((df.duration == '23-37') & (df.state == 'canceled'))\n",
    "df3u = df >> dfply.filter_by((df.duration == '23-37') & (df.state == 'undefined'))\n",
    "df3l = df >> dfply.filter_by((df.duration == '23-37') & (df.state == 'live'))\n",
    "df3sus = df >> dfply.filter_by((df.duration == '23-37') & (df.state == 'suspended'))\n",
    "print(df3f.shape, df3s.shape, df3c.shape, df3u.shape, df3l.shape, df3sus.shape)"
   ]
  },
  {
   "cell_type": "code",
   "execution_count": 61,
   "metadata": {},
   "outputs": [
    {
     "name": "stdout",
     "output_type": "stream",
     "text": [
      "(25140, 16) (16296, 16) (5546, 16) (371, 16) (550, 16) (242, 16)\n"
     ]
    }
   ],
   "source": [
    "df4f = df >> dfply.filter_by((df.duration == '38-52') & (df.state == 'failed'))\n",
    "df4s = df >> dfply.filter_by((df.duration == '38-52') & (df.state == 'successful'))\n",
    "df4c = df >> dfply.filter_by((df.duration == '38-52') & (df.state == 'canceled'))\n",
    "df4u = df >> dfply.filter_by((df.duration == '38-52') & (df.state == 'undefined'))\n",
    "df4l = df >> dfply.filter_by((df.duration == '38-52') & (df.state == 'live'))\n",
    "df4sus = df >> dfply.filter_by((df.duration == '38-52') & (df.state == 'suspended'))\n",
    "print(df4f.shape, df4s.shape, df4c.shape, df4u.shape, df4l.shape, df4sus.shape)"
   ]
  },
  {
   "cell_type": "code",
   "execution_count": 62,
   "metadata": {},
   "outputs": [
    {
     "name": "stdout",
     "output_type": "stream",
     "text": [
      "(26319, 16) (8685, 16) (5390, 16) (375, 16) (687, 16) (323, 16)\n"
     ]
    }
   ],
   "source": [
    "df5f = df >> dfply.filter_by((df.duration == '53-67') & (df.state == 'failed'))\n",
    "df5s = df >> dfply.filter_by((df.duration == '53-67') & (df.state == 'successful'))\n",
    "df5c = df >> dfply.filter_by((df.duration == '53-67') & (df.state == 'canceled'))\n",
    "df5u = df >> dfply.filter_by((df.duration == '53-67') & (df.state == 'undefined'))\n",
    "df5l = df >> dfply.filter_by((df.duration == '53-67') & (df.state == 'live'))\n",
    "df5sus = df >> dfply.filter_by((df.duration == '53-67') & (df.state == 'suspended'))\n",
    "print(df5f.shape, df5s.shape, df5c.shape, df5u.shape, df5l.shape, df5sus.shape)"
   ]
  },
  {
   "cell_type": "code",
   "execution_count": 63,
   "metadata": {},
   "outputs": [
    {
     "name": "stdout",
     "output_type": "stream",
     "text": [
      "(499, 16) (404, 16) (117, 16) (0, 16) (0, 16) (0, 16)\n"
     ]
    }
   ],
   "source": [
    "df6f = df >> dfply.filter_by((df.duration == '68-82') & (df.state == 'failed'))\n",
    "df6s = df >> dfply.filter_by((df.duration == '68-82') & (df.state == 'successful'))\n",
    "df6c = df >> dfply.filter_by((df.duration == '68-82') & (df.state == 'canceled'))\n",
    "df6u = df >> dfply.filter_by((df.duration == '68-82') & (df.state == 'undefined'))\n",
    "df6l = df >> dfply.filter_by((df.duration == '68-82') & (df.state == 'live'))\n",
    "df6sus = df >> dfply.filter_by((df.duration == '68-82') & (df.state == 'suspended'))\n",
    "print(df6f.shape, df6s.shape, df6c.shape, df6u.shape, df6l.shape, df6sus.shape)"
   ]
  },
  {
   "cell_type": "code",
   "execution_count": 64,
   "metadata": {},
   "outputs": [
    {
     "name": "stdout",
     "output_type": "stream",
     "text": [
      "(1681, 16) (839, 16) (388, 16) (1, 16) (0, 16) (8, 16)\n"
     ]
    }
   ],
   "source": [
    "df7f = df >> dfply.filter_by((df.duration == '83-92') & (df.state == 'failed'))\n",
    "df7s = df >> dfply.filter_by((df.duration == '83-92') & (df.state == 'successful'))\n",
    "df7c = df >> dfply.filter_by((df.duration == '83-92') & (df.state == 'canceled'))\n",
    "df7u = df >> dfply.filter_by((df.duration == '83-92') & (df.state == 'undefined'))\n",
    "df7l = df >> dfply.filter_by((df.duration == '83-92') & (df.state == 'live'))\n",
    "df7sus = df >> dfply.filter_by((df.duration == '83-92') & (df.state == 'suspended'))\n",
    "print(df7f.shape, df7s.shape, df7c.shape, df7u.shape, df7l.shape, df7sus.shape)"
   ]
  },
  {
   "cell_type": "code",
   "execution_count": 61,
   "metadata": {},
   "outputs": [
    {
     "name": "stdout",
     "output_type": "stream",
     "text": [
      "(1389, 16) (18559, 16) (87784, 16) (16296, 16) (8685, 16) (404, 16) (839, 16)\n"
     ]
    }
   ],
   "source": [
    "print(df1s.shape, df2s.shape, df3s.shape, df4s.shape, df5s.shape, df6s.shape, df7s.shape )"
   ]
  },
  {
   "cell_type": "code",
   "execution_count": 62,
   "metadata": {},
   "outputs": [
    {
     "data": {
      "text/plain": [
       "([1389], [18559], [87784], [16296], [8685], [404], [839])"
      ]
     },
     "execution_count": 62,
     "metadata": {},
     "output_type": "execute_result"
    }
   ],
   "source": [
    "[len(df1s.index)],[len(df2s.index)],[len(df3s.index)],[len(df4s.index)],[len(df5s.index)],[len(df6s.index)],[len(df7s.index)]"
   ]
  },
  {
   "cell_type": "code",
   "execution_count": 63,
   "metadata": {},
   "outputs": [
    {
     "data": {
      "text/plain": [
       "(1389, 18559, 87784, 16296, 8685, 404, 839)"
      ]
     },
     "execution_count": 63,
     "metadata": {},
     "output_type": "execute_result"
    }
   ],
   "source": [
    "a1 = len(df1s.index),len(df2s.index),len(df3s.index),len(df4s.index),len(df5s.index),len(df6s.index),len(df7s.index)\n",
    "a1"
   ]
  },
  {
   "cell_type": "code",
   "execution_count": 64,
   "metadata": {},
   "outputs": [
    {
     "data": {
      "text/plain": [
       "[1389, 18559, 87784, 16296, 8685, 404, 839]"
      ]
     },
     "execution_count": 64,
     "metadata": {},
     "output_type": "execute_result"
    }
   ],
   "source": [
    "a = ([len(df1s.index),len(df2s.index),len(df3s.index),len(df4s.index),len(df5s.index),len(df6s.index),len(df7s.index)])\n",
    "a"
   ]
  },
  {
   "cell_type": "code",
   "execution_count": 65,
   "metadata": {},
   "outputs": [
    {
     "data": {
      "text/plain": [
       "('0-7', '8-22', '23-37', '38-52', '53-67', '68-82', '83-92')"
      ]
     },
     "execution_count": 65,
     "metadata": {},
     "output_type": "execute_result"
    }
   ],
   "source": [
    "col = ('0-7','8-22','23-37','38-52','53-67','68-82','83-92')\n",
    "col"
   ]
  },
  {
   "cell_type": "markdown",
   "metadata": {},
   "source": [
    "### Successful campaigns vs Duration\n",
    "\n",
    "#### There are much more successful campaigns on the range of 23-37 days, but there are much more campaigns in that same range. So, it is hard to make an statement with those different values."
   ]
  },
  {
   "cell_type": "code",
   "execution_count": 65,
   "metadata": {},
   "outputs": [
    {
     "data": {
      "text/html": [
       "<div>\n",
       "<style scoped>\n",
       "    .dataframe tbody tr th:only-of-type {\n",
       "        vertical-align: middle;\n",
       "    }\n",
       "\n",
       "    .dataframe tbody tr th {\n",
       "        vertical-align: top;\n",
       "    }\n",
       "\n",
       "    .dataframe thead th {\n",
       "        text-align: right;\n",
       "    }\n",
       "</style>\n",
       "<table border=\"1\" class=\"dataframe\">\n",
       "  <thead>\n",
       "    <tr style=\"text-align: right;\">\n",
       "      <th></th>\n",
       "      <th>Duration</th>\n",
       "      <th>Campaigns</th>\n",
       "    </tr>\n",
       "  </thead>\n",
       "  <tbody>\n",
       "    <tr>\n",
       "      <th>0</th>\n",
       "      <td>0-7</td>\n",
       "      <td>1389</td>\n",
       "    </tr>\n",
       "    <tr>\n",
       "      <th>1</th>\n",
       "      <td>8-22</td>\n",
       "      <td>18559</td>\n",
       "    </tr>\n",
       "    <tr>\n",
       "      <th>2</th>\n",
       "      <td>23-37</td>\n",
       "      <td>87784</td>\n",
       "    </tr>\n",
       "    <tr>\n",
       "      <th>3</th>\n",
       "      <td>38-52</td>\n",
       "      <td>16296</td>\n",
       "    </tr>\n",
       "    <tr>\n",
       "      <th>4</th>\n",
       "      <td>53-67</td>\n",
       "      <td>8685</td>\n",
       "    </tr>\n",
       "    <tr>\n",
       "      <th>5</th>\n",
       "      <td>68-82</td>\n",
       "      <td>404</td>\n",
       "    </tr>\n",
       "    <tr>\n",
       "      <th>6</th>\n",
       "      <td>83-92</td>\n",
       "      <td>839</td>\n",
       "    </tr>\n",
       "  </tbody>\n",
       "</table>\n",
       "</div>"
      ],
      "text/plain": [
       "  Duration  Campaigns\n",
       "0      0-7       1389\n",
       "1     8-22      18559\n",
       "2    23-37      87784\n",
       "3    38-52      16296\n",
       "4    53-67       8685\n",
       "5    68-82        404\n",
       "6    83-92        839"
      ]
     },
     "execution_count": 65,
     "metadata": {},
     "output_type": "execute_result"
    }
   ],
   "source": [
    "Success = pd.DataFrame({\"Duration\":['0-7','8-22','23-37','38-52','53-67','68-82','83-92'],\"Campaigns\":[len(df1s.index),len(df2s.index),len(df3s.index),len(df4s.index),len(df5s.index),len(df6s.index),len(df7s.index)]})\n",
    "Success"
   ]
  },
  {
   "cell_type": "code",
   "execution_count": 66,
   "metadata": {},
   "outputs": [
    {
     "data": {
      "text/html": [
       "<div>\n",
       "<style scoped>\n",
       "    .dataframe tbody tr th:only-of-type {\n",
       "        vertical-align: middle;\n",
       "    }\n",
       "\n",
       "    .dataframe tbody tr th {\n",
       "        vertical-align: top;\n",
       "    }\n",
       "\n",
       "    .dataframe thead th {\n",
       "        text-align: right;\n",
       "    }\n",
       "</style>\n",
       "<table border=\"1\" class=\"dataframe\">\n",
       "  <thead>\n",
       "    <tr style=\"text-align: right;\">\n",
       "      <th></th>\n",
       "      <th>Campaigns</th>\n",
       "    </tr>\n",
       "    <tr>\n",
       "      <th>Duration</th>\n",
       "      <th></th>\n",
       "    </tr>\n",
       "  </thead>\n",
       "  <tbody>\n",
       "    <tr>\n",
       "      <th>0-7</th>\n",
       "      <td>1389</td>\n",
       "    </tr>\n",
       "    <tr>\n",
       "      <th>8-22</th>\n",
       "      <td>18559</td>\n",
       "    </tr>\n",
       "    <tr>\n",
       "      <th>23-37</th>\n",
       "      <td>87784</td>\n",
       "    </tr>\n",
       "    <tr>\n",
       "      <th>38-52</th>\n",
       "      <td>16296</td>\n",
       "    </tr>\n",
       "    <tr>\n",
       "      <th>53-67</th>\n",
       "      <td>8685</td>\n",
       "    </tr>\n",
       "    <tr>\n",
       "      <th>68-82</th>\n",
       "      <td>404</td>\n",
       "    </tr>\n",
       "    <tr>\n",
       "      <th>83-92</th>\n",
       "      <td>839</td>\n",
       "    </tr>\n",
       "  </tbody>\n",
       "</table>\n",
       "</div>"
      ],
      "text/plain": [
       "          Campaigns\n",
       "Duration           \n",
       "0-7            1389\n",
       "8-22          18559\n",
       "23-37         87784\n",
       "38-52         16296\n",
       "53-67          8685\n",
       "68-82           404\n",
       "83-92           839"
      ]
     },
     "execution_count": 66,
     "metadata": {},
     "output_type": "execute_result"
    }
   ],
   "source": [
    "Success_1 = Success.set_index('Duration')\n",
    "Success_1"
   ]
  },
  {
   "cell_type": "code",
   "execution_count": 67,
   "metadata": {},
   "outputs": [
    {
     "data": {
      "text/html": [
       "<div>\n",
       "<style scoped>\n",
       "    .dataframe tbody tr th:only-of-type {\n",
       "        vertical-align: middle;\n",
       "    }\n",
       "\n",
       "    .dataframe tbody tr th {\n",
       "        vertical-align: top;\n",
       "    }\n",
       "\n",
       "    .dataframe thead th {\n",
       "        text-align: right;\n",
       "    }\n",
       "</style>\n",
       "<table border=\"1\" class=\"dataframe\">\n",
       "  <thead>\n",
       "    <tr style=\"text-align: right;\">\n",
       "      <th></th>\n",
       "      <th>Campaigns</th>\n",
       "    </tr>\n",
       "    <tr>\n",
       "      <th>Duration</th>\n",
       "      <th></th>\n",
       "    </tr>\n",
       "  </thead>\n",
       "  <tbody>\n",
       "    <tr>\n",
       "      <th>0-7</th>\n",
       "      <td>1389</td>\n",
       "    </tr>\n",
       "    <tr>\n",
       "      <th>8-22</th>\n",
       "      <td>18559</td>\n",
       "    </tr>\n",
       "    <tr>\n",
       "      <th>23-37</th>\n",
       "      <td>87784</td>\n",
       "    </tr>\n",
       "    <tr>\n",
       "      <th>38-52</th>\n",
       "      <td>16296</td>\n",
       "    </tr>\n",
       "    <tr>\n",
       "      <th>53-67</th>\n",
       "      <td>8685</td>\n",
       "    </tr>\n",
       "    <tr>\n",
       "      <th>68-82</th>\n",
       "      <td>404</td>\n",
       "    </tr>\n",
       "    <tr>\n",
       "      <th>83-92</th>\n",
       "      <td>839</td>\n",
       "    </tr>\n",
       "  </tbody>\n",
       "</table>\n",
       "</div>"
      ],
      "text/plain": [
       "          Campaigns\n",
       "Duration           \n",
       "0-7            1389\n",
       "8-22          18559\n",
       "23-37         87784\n",
       "38-52         16296\n",
       "53-67          8685\n",
       "68-82           404\n",
       "83-92           839"
      ]
     },
     "execution_count": 67,
     "metadata": {},
     "output_type": "execute_result"
    }
   ],
   "source": [
    "Success_1.rename(columns={\"Campaigns\":\"SuccCamp\"})\n",
    "Success_1"
   ]
  },
  {
   "cell_type": "code",
   "execution_count": 68,
   "metadata": {},
   "outputs": [
    {
     "data": {
      "text/plain": [
       "Index(['Campaigns'], dtype='object')"
      ]
     },
     "execution_count": 68,
     "metadata": {},
     "output_type": "execute_result"
    }
   ],
   "source": [
    "Success_1.columns"
   ]
  },
  {
   "cell_type": "code",
   "execution_count": 69,
   "metadata": {},
   "outputs": [
    {
     "data": {
      "text/html": [
       "<div>\n",
       "<style scoped>\n",
       "    .dataframe tbody tr th:only-of-type {\n",
       "        vertical-align: middle;\n",
       "    }\n",
       "\n",
       "    .dataframe tbody tr th {\n",
       "        vertical-align: top;\n",
       "    }\n",
       "\n",
       "    .dataframe thead th {\n",
       "        text-align: right;\n",
       "    }\n",
       "</style>\n",
       "<table border=\"1\" class=\"dataframe\">\n",
       "  <thead>\n",
       "    <tr style=\"text-align: right;\">\n",
       "      <th></th>\n",
       "      <th>duration</th>\n",
       "      <th>pctg</th>\n",
       "    </tr>\n",
       "  </thead>\n",
       "  <tbody>\n",
       "    <tr>\n",
       "      <th>23-37</th>\n",
       "      <td>243408</td>\n",
       "      <td>64.282432</td>\n",
       "    </tr>\n",
       "    <tr>\n",
       "      <th>38-52</th>\n",
       "      <td>48145</td>\n",
       "      <td>12.714774</td>\n",
       "    </tr>\n",
       "    <tr>\n",
       "      <th>53-67</th>\n",
       "      <td>41779</td>\n",
       "      <td>11.033556</td>\n",
       "    </tr>\n",
       "    <tr>\n",
       "      <th>8-22</th>\n",
       "      <td>38077</td>\n",
       "      <td>10.055882</td>\n",
       "    </tr>\n",
       "    <tr>\n",
       "      <th>0-7</th>\n",
       "      <td>3308</td>\n",
       "      <td>0.873621</td>\n",
       "    </tr>\n",
       "    <tr>\n",
       "      <th>83-92</th>\n",
       "      <td>2917</td>\n",
       "      <td>0.770360</td>\n",
       "    </tr>\n",
       "    <tr>\n",
       "      <th>68-82</th>\n",
       "      <td>1020</td>\n",
       "      <td>0.269375</td>\n",
       "    </tr>\n",
       "  </tbody>\n",
       "</table>\n",
       "</div>"
      ],
      "text/plain": [
       "       duration       pctg\n",
       "23-37    243408  64.282432\n",
       "38-52     48145  12.714774\n",
       "53-67     41779  11.033556\n",
       "8-22      38077  10.055882\n",
       "0-7        3308   0.873621\n",
       "83-92      2917   0.770360\n",
       "68-82      1020   0.269375"
      ]
     },
     "execution_count": 69,
     "metadata": {},
     "output_type": "execute_result"
    }
   ],
   "source": [
    "dfTime_cat"
   ]
  },
  {
   "cell_type": "code",
   "execution_count": 70,
   "metadata": {},
   "outputs": [
    {
     "data": {
      "text/plain": [
       "Index(['Campaigns'], dtype='object')"
      ]
     },
     "execution_count": 70,
     "metadata": {},
     "output_type": "execute_result"
    }
   ],
   "source": [
    "Success_1.columns"
   ]
  },
  {
   "cell_type": "code",
   "execution_count": 71,
   "metadata": {},
   "outputs": [
    {
     "data": {
      "text/plain": [
       "Index(['duration', 'pctg'], dtype='object')"
      ]
     },
     "execution_count": 71,
     "metadata": {},
     "output_type": "execute_result"
    }
   ],
   "source": [
    "dfTime_cat.columns"
   ]
  },
  {
   "cell_type": "code",
   "execution_count": 72,
   "metadata": {},
   "outputs": [
    {
     "data": {
      "text/html": [
       "<div>\n",
       "<style scoped>\n",
       "    .dataframe tbody tr th:only-of-type {\n",
       "        vertical-align: middle;\n",
       "    }\n",
       "\n",
       "    .dataframe tbody tr th {\n",
       "        vertical-align: top;\n",
       "    }\n",
       "\n",
       "    .dataframe thead th {\n",
       "        text-align: right;\n",
       "    }\n",
       "</style>\n",
       "<table border=\"1\" class=\"dataframe\">\n",
       "  <thead>\n",
       "    <tr style=\"text-align: right;\">\n",
       "      <th></th>\n",
       "      <th>TotalCampaigns</th>\n",
       "      <th>pctg</th>\n",
       "    </tr>\n",
       "  </thead>\n",
       "  <tbody>\n",
       "    <tr>\n",
       "      <th>23-37</th>\n",
       "      <td>243408</td>\n",
       "      <td>64.282432</td>\n",
       "    </tr>\n",
       "    <tr>\n",
       "      <th>38-52</th>\n",
       "      <td>48145</td>\n",
       "      <td>12.714774</td>\n",
       "    </tr>\n",
       "    <tr>\n",
       "      <th>53-67</th>\n",
       "      <td>41779</td>\n",
       "      <td>11.033556</td>\n",
       "    </tr>\n",
       "    <tr>\n",
       "      <th>8-22</th>\n",
       "      <td>38077</td>\n",
       "      <td>10.055882</td>\n",
       "    </tr>\n",
       "    <tr>\n",
       "      <th>0-7</th>\n",
       "      <td>3308</td>\n",
       "      <td>0.873621</td>\n",
       "    </tr>\n",
       "    <tr>\n",
       "      <th>83-92</th>\n",
       "      <td>2917</td>\n",
       "      <td>0.770360</td>\n",
       "    </tr>\n",
       "    <tr>\n",
       "      <th>68-82</th>\n",
       "      <td>1020</td>\n",
       "      <td>0.269375</td>\n",
       "    </tr>\n",
       "  </tbody>\n",
       "</table>\n",
       "</div>"
      ],
      "text/plain": [
       "       TotalCampaigns       pctg\n",
       "23-37          243408  64.282432\n",
       "38-52           48145  12.714774\n",
       "53-67           41779  11.033556\n",
       "8-22            38077  10.055882\n",
       "0-7              3308   0.873621\n",
       "83-92            2917   0.770360\n",
       "68-82            1020   0.269375"
      ]
     },
     "execution_count": 72,
     "metadata": {},
     "output_type": "execute_result"
    }
   ],
   "source": [
    "dfTime_cat.rename(columns={\"duration\":\"TotalCampaigns\"})"
   ]
  },
  {
   "cell_type": "code",
   "execution_count": 73,
   "metadata": {},
   "outputs": [
    {
     "data": {
      "text/plain": [
       "<AxesSubplot:xlabel='Duration'>"
      ]
     },
     "execution_count": 73,
     "metadata": {},
     "output_type": "execute_result"
    },
    {
     "data": {
      "image/png": "[encoded data removed]",
      "text/plain": [
       "<Figure size 432x288 with 1 Axes>"
      ]
     },
     "metadata": {
      "needs_background": "light"
     },
     "output_type": "display_data"
    }
   ],
   "source": [
    "Success_1.plot(kind ='bar')"
   ]
  },
  {
   "cell_type": "code",
   "execution_count": 74,
   "metadata": {},
   "outputs": [
    {
     "data": {
      "text/html": [
       "<div>\n",
       "<style scoped>\n",
       "    .dataframe tbody tr th:only-of-type {\n",
       "        vertical-align: middle;\n",
       "    }\n",
       "\n",
       "    .dataframe tbody tr th {\n",
       "        vertical-align: top;\n",
       "    }\n",
       "\n",
       "    .dataframe thead th {\n",
       "        text-align: right;\n",
       "    }\n",
       "</style>\n",
       "<table border=\"1\" class=\"dataframe\">\n",
       "  <thead>\n",
       "    <tr style=\"text-align: right;\">\n",
       "      <th></th>\n",
       "      <th>duration</th>\n",
       "      <th>pctg</th>\n",
       "      <th>Campaigns</th>\n",
       "    </tr>\n",
       "  </thead>\n",
       "  <tbody>\n",
       "    <tr>\n",
       "      <th>23-37</th>\n",
       "      <td>243408</td>\n",
       "      <td>64.282432</td>\n",
       "      <td>87784</td>\n",
       "    </tr>\n",
       "    <tr>\n",
       "      <th>38-52</th>\n",
       "      <td>48145</td>\n",
       "      <td>12.714774</td>\n",
       "      <td>16296</td>\n",
       "    </tr>\n",
       "    <tr>\n",
       "      <th>53-67</th>\n",
       "      <td>41779</td>\n",
       "      <td>11.033556</td>\n",
       "      <td>8685</td>\n",
       "    </tr>\n",
       "    <tr>\n",
       "      <th>8-22</th>\n",
       "      <td>38077</td>\n",
       "      <td>10.055882</td>\n",
       "      <td>18559</td>\n",
       "    </tr>\n",
       "    <tr>\n",
       "      <th>0-7</th>\n",
       "      <td>3308</td>\n",
       "      <td>0.873621</td>\n",
       "      <td>1389</td>\n",
       "    </tr>\n",
       "    <tr>\n",
       "      <th>83-92</th>\n",
       "      <td>2917</td>\n",
       "      <td>0.770360</td>\n",
       "      <td>839</td>\n",
       "    </tr>\n",
       "    <tr>\n",
       "      <th>68-82</th>\n",
       "      <td>1020</td>\n",
       "      <td>0.269375</td>\n",
       "      <td>404</td>\n",
       "    </tr>\n",
       "  </tbody>\n",
       "</table>\n",
       "</div>"
      ],
      "text/plain": [
       "       duration       pctg  Campaigns\n",
       "23-37    243408  64.282432      87784\n",
       "38-52     48145  12.714774      16296\n",
       "53-67     41779  11.033556       8685\n",
       "8-22      38077  10.055882      18559\n",
       "0-7        3308   0.873621       1389\n",
       "83-92      2917   0.770360        839\n",
       "68-82      1020   0.269375        404"
      ]
     },
     "execution_count": 74,
     "metadata": {},
     "output_type": "execute_result"
    }
   ],
   "source": [
    "ds_ratio = dfTime_cat.join(Success_1)\n",
    "ds_ratio"
   ]
  },
  {
   "cell_type": "code",
   "execution_count": 75,
   "metadata": {},
   "outputs": [
    {
     "data": {
      "text/plain": [
       "Index(['duration', 'pctg', 'Campaigns'], dtype='object')"
      ]
     },
     "execution_count": 75,
     "metadata": {},
     "output_type": "execute_result"
    }
   ],
   "source": [
    "ds_ratio.columns"
   ]
  },
  {
   "cell_type": "code",
   "execution_count": 76,
   "metadata": {},
   "outputs": [
    {
     "data": {
      "text/plain": [
       "Index(['TCampaigns', 'Pctg', 'SuccessCampaigns'], dtype='object')"
      ]
     },
     "execution_count": 76,
     "metadata": {},
     "output_type": "execute_result"
    }
   ],
   "source": [
    "ds_ratio = ds_ratio.rename(columns={'duration':'TCampaigns','pctg':'Pctg','Campaigns':'SuccessCampaigns'})\n",
    "#df = df.rename(columns={'oldName1': 'newName1', 'oldName2': 'newName2'})\n",
    "ds_ratio.columns"
   ]
  },
  {
   "cell_type": "code",
   "execution_count": 77,
   "metadata": {},
   "outputs": [
    {
     "data": {
      "text/html": [
       "<div>\n",
       "<style scoped>\n",
       "    .dataframe tbody tr th:only-of-type {\n",
       "        vertical-align: middle;\n",
       "    }\n",
       "\n",
       "    .dataframe tbody tr th {\n",
       "        vertical-align: top;\n",
       "    }\n",
       "\n",
       "    .dataframe thead th {\n",
       "        text-align: right;\n",
       "    }\n",
       "</style>\n",
       "<table border=\"1\" class=\"dataframe\">\n",
       "  <thead>\n",
       "    <tr style=\"text-align: right;\">\n",
       "      <th></th>\n",
       "      <th>TCampaigns</th>\n",
       "      <th>Pctg</th>\n",
       "      <th>SuccessCampaigns</th>\n",
       "    </tr>\n",
       "  </thead>\n",
       "  <tbody>\n",
       "    <tr>\n",
       "      <th>23-37</th>\n",
       "      <td>243408</td>\n",
       "      <td>64.282432</td>\n",
       "      <td>87784</td>\n",
       "    </tr>\n",
       "    <tr>\n",
       "      <th>38-52</th>\n",
       "      <td>48145</td>\n",
       "      <td>12.714774</td>\n",
       "      <td>16296</td>\n",
       "    </tr>\n",
       "    <tr>\n",
       "      <th>53-67</th>\n",
       "      <td>41779</td>\n",
       "      <td>11.033556</td>\n",
       "      <td>8685</td>\n",
       "    </tr>\n",
       "    <tr>\n",
       "      <th>8-22</th>\n",
       "      <td>38077</td>\n",
       "      <td>10.055882</td>\n",
       "      <td>18559</td>\n",
       "    </tr>\n",
       "    <tr>\n",
       "      <th>0-7</th>\n",
       "      <td>3308</td>\n",
       "      <td>0.873621</td>\n",
       "      <td>1389</td>\n",
       "    </tr>\n",
       "    <tr>\n",
       "      <th>83-92</th>\n",
       "      <td>2917</td>\n",
       "      <td>0.770360</td>\n",
       "      <td>839</td>\n",
       "    </tr>\n",
       "    <tr>\n",
       "      <th>68-82</th>\n",
       "      <td>1020</td>\n",
       "      <td>0.269375</td>\n",
       "      <td>404</td>\n",
       "    </tr>\n",
       "  </tbody>\n",
       "</table>\n",
       "</div>"
      ],
      "text/plain": [
       "       TCampaigns       Pctg  SuccessCampaigns\n",
       "23-37      243408  64.282432             87784\n",
       "38-52       48145  12.714774             16296\n",
       "53-67       41779  11.033556              8685\n",
       "8-22        38077  10.055882             18559\n",
       "0-7          3308   0.873621              1389\n",
       "83-92        2917   0.770360               839\n",
       "68-82        1020   0.269375               404"
      ]
     },
     "execution_count": 77,
     "metadata": {},
     "output_type": "execute_result"
    }
   ],
   "source": [
    "ds_ratio"
   ]
  },
  {
   "cell_type": "code",
   "execution_count": 78,
   "metadata": {},
   "outputs": [
    {
     "data": {
      "text/html": [
       "<div>\n",
       "<style scoped>\n",
       "    .dataframe tbody tr th:only-of-type {\n",
       "        vertical-align: middle;\n",
       "    }\n",
       "\n",
       "    .dataframe tbody tr th {\n",
       "        vertical-align: top;\n",
       "    }\n",
       "\n",
       "    .dataframe thead th {\n",
       "        text-align: right;\n",
       "    }\n",
       "</style>\n",
       "<table border=\"1\" class=\"dataframe\">\n",
       "  <thead>\n",
       "    <tr style=\"text-align: right;\">\n",
       "      <th></th>\n",
       "      <th>TCampaigns</th>\n",
       "      <th>Pctg</th>\n",
       "      <th>SuccessCampaigns</th>\n",
       "      <th>SuccessRatio</th>\n",
       "    </tr>\n",
       "  </thead>\n",
       "  <tbody>\n",
       "    <tr>\n",
       "      <th>23-37</th>\n",
       "      <td>243408</td>\n",
       "      <td>64.282432</td>\n",
       "      <td>87784</td>\n",
       "      <td>0.360646</td>\n",
       "    </tr>\n",
       "    <tr>\n",
       "      <th>38-52</th>\n",
       "      <td>48145</td>\n",
       "      <td>12.714774</td>\n",
       "      <td>16296</td>\n",
       "      <td>0.338478</td>\n",
       "    </tr>\n",
       "    <tr>\n",
       "      <th>53-67</th>\n",
       "      <td>41779</td>\n",
       "      <td>11.033556</td>\n",
       "      <td>8685</td>\n",
       "      <td>0.207880</td>\n",
       "    </tr>\n",
       "    <tr>\n",
       "      <th>8-22</th>\n",
       "      <td>38077</td>\n",
       "      <td>10.055882</td>\n",
       "      <td>18559</td>\n",
       "      <td>0.487407</td>\n",
       "    </tr>\n",
       "    <tr>\n",
       "      <th>0-7</th>\n",
       "      <td>3308</td>\n",
       "      <td>0.873621</td>\n",
       "      <td>1389</td>\n",
       "      <td>0.419891</td>\n",
       "    </tr>\n",
       "    <tr>\n",
       "      <th>83-92</th>\n",
       "      <td>2917</td>\n",
       "      <td>0.770360</td>\n",
       "      <td>839</td>\n",
       "      <td>0.287624</td>\n",
       "    </tr>\n",
       "    <tr>\n",
       "      <th>68-82</th>\n",
       "      <td>1020</td>\n",
       "      <td>0.269375</td>\n",
       "      <td>404</td>\n",
       "      <td>0.396078</td>\n",
       "    </tr>\n",
       "  </tbody>\n",
       "</table>\n",
       "</div>"
      ],
      "text/plain": [
       "       TCampaigns       Pctg  SuccessCampaigns  SuccessRatio\n",
       "23-37      243408  64.282432             87784      0.360646\n",
       "38-52       48145  12.714774             16296      0.338478\n",
       "53-67       41779  11.033556              8685      0.207880\n",
       "8-22        38077  10.055882             18559      0.487407\n",
       "0-7          3308   0.873621              1389      0.419891\n",
       "83-92        2917   0.770360               839      0.287624\n",
       "68-82        1020   0.269375               404      0.396078"
      ]
     },
     "execution_count": 78,
     "metadata": {},
     "output_type": "execute_result"
    }
   ],
   "source": [
    "ds_ratio['SuccessRatio'] = ds_ratio['SuccessCampaigns']/ds_ratio['TCampaigns']\n",
    "ds_ratio"
   ]
  },
  {
   "cell_type": "code",
   "execution_count": 79,
   "metadata": {},
   "outputs": [
    {
     "data": {
      "text/plain": [
       "<AxesSubplot:ylabel='SuccessRatio'>"
      ]
     },
     "execution_count": 79,
     "metadata": {},
     "output_type": "execute_result"
    },
    {
     "data": {
      "image/png": "[encoded data removed]",
      "text/plain": [
       "<Figure size 432x432 with 1 Axes>"
      ]
     },
     "metadata": {},
     "output_type": "display_data"
    }
   ],
   "source": [
    "ds_ratio.plot.pie(y = 'SuccessRatio', figsize = (6,6))"
   ]
  },
  {
   "cell_type": "code",
   "execution_count": 80,
   "metadata": {},
   "outputs": [
    {
     "data": {
      "text/plain": [
       "TCampaigns          378654.000000\n",
       "Pctg                   100.000000\n",
       "SuccessCampaigns    133956.000000\n",
       "SuccessRatio             2.498004\n",
       "dtype: float64"
      ]
     },
     "execution_count": 80,
     "metadata": {},
     "output_type": "execute_result"
    }
   ],
   "source": [
    "ds_ratio.sum()"
   ]
  },
  {
   "cell_type": "code",
   "execution_count": 81,
   "metadata": {},
   "outputs": [
    {
     "data": {
      "text/plain": [
       "Index(['TCampaigns', 'Pctg', 'SuccessCampaigns', 'SuccessRatio'], dtype='object')"
      ]
     },
     "execution_count": 81,
     "metadata": {},
     "output_type": "execute_result"
    }
   ],
   "source": [
    "ds_ratio.columns"
   ]
  },
  {
   "cell_type": "code",
   "execution_count": 82,
   "metadata": {},
   "outputs": [
    {
     "data": {
      "text/plain": [
       "<AxesSubplot:>"
      ]
     },
     "execution_count": 82,
     "metadata": {},
     "output_type": "execute_result"
    },
    {
     "data": {
      "image/png": "[encoded data removed]",
      "text/plain": [
       "<Figure size 432x288 with 1 Axes>"
      ]
     },
     "metadata": {
      "needs_background": "light"
     },
     "output_type": "display_data"
    }
   ],
   "source": [
    "ds_ratio.plot(kind ='bar')"
   ]
  },
  {
   "cell_type": "code",
   "execution_count": 83,
   "metadata": {},
   "outputs": [
    {
     "data": {
      "text/plain": [
       "Index(['23-37', '38-52', '53-67', '8-22', '0-7', '83-92', '68-82'], dtype='object')"
      ]
     },
     "execution_count": 83,
     "metadata": {},
     "output_type": "execute_result"
    }
   ],
   "source": [
    "ds_ratio.index"
   ]
  },
  {
   "cell_type": "code",
   "execution_count": 84,
   "metadata": {},
   "outputs": [
    {
     "data": {
      "text/plain": [
       "Index(['TCampaigns', 'Pctg', 'SuccessCampaigns', 'SuccessRatio'], dtype='object')"
      ]
     },
     "execution_count": 84,
     "metadata": {},
     "output_type": "execute_result"
    }
   ],
   "source": [
    "ds_ratio.columns"
   ]
  },
  {
   "cell_type": "code",
   "execution_count": 85,
   "metadata": {},
   "outputs": [
    {
     "data": {
      "text/plain": [
       "<AxesSubplot:xlabel='index'>"
      ]
     },
     "execution_count": 85,
     "metadata": {},
     "output_type": "execute_result"
    },
    {
     "data": {
      "image/png": "[encoded data removed]",
      "text/plain": [
       "<Figure size 432x288 with 1 Axes>"
      ]
     },
     "metadata": {
      "needs_background": "light"
     },
     "output_type": "display_data"
    }
   ],
   "source": [
    "ds_ratio.reset_index().plot(x='index', y ='SuccessRatio', kind = 'bar')"
   ]
  },
  {
   "cell_type": "markdown",
   "metadata": {},
   "source": [
    "______________"
   ]
  },
  {
   "cell_type": "markdown",
   "metadata": {},
   "source": [
    "# 2. What is the relationship between the goal and the success of the campaign?\n"
   ]
  },
  {
   "cell_type": "markdown",
   "metadata": {},
   "source": [
    "### Dataframe will be segmented on different ranges of goal"
   ]
  },
  {
   "cell_type": "raw",
   "metadata": {},
   "source": [
    "Group 1: x <= 1,000 USD\n",
    "Group 2: 1,000 < x <= 10,000 USD\n",
    "Group 3: 10,000 < x <= 100,000 USD\n",
    "Group 4: 100,000 < x USD"
   ]
  },
  {
   "cell_type": "markdown",
   "metadata": {},
   "source": [
    "Group 1: x <= 1,000"
   ]
  },
  {
   "cell_type": "code",
   "execution_count": 87,
   "metadata": {},
   "outputs": [
    {
     "data": {
      "text/plain": [
       "60891"
      ]
     },
     "execution_count": 87,
     "metadata": {},
     "output_type": "execute_result"
    }
   ],
   "source": [
    "df.head()\n",
    "df1g = df >> dfply.filter_by((df.usd_goal_real <= 1000))\n",
    "len(df1g)"
   ]
  },
  {
   "cell_type": "markdown",
   "metadata": {},
   "source": [
    "Group 2: 1,000 < x <= 10,000"
   ]
  },
  {
   "cell_type": "code",
   "execution_count": 88,
   "metadata": {},
   "outputs": [
    {
     "data": {
      "text/plain": [
       "193347"
      ]
     },
     "execution_count": 88,
     "metadata": {},
     "output_type": "execute_result"
    }
   ],
   "source": [
    "df2g = df >> dfply.filter_by((df.usd_goal_real > 1000) & (df.usd_goal_real <=10000))\n",
    "len(df2g)"
   ]
  },
  {
   "cell_type": "markdown",
   "metadata": {},
   "source": [
    "Group 3: 10,000 < x <= 100,000"
   ]
  },
  {
   "cell_type": "code",
   "execution_count": 89,
   "metadata": {},
   "outputs": [
    {
     "data": {
      "text/plain": [
       "111732"
      ]
     },
     "execution_count": 89,
     "metadata": {},
     "output_type": "execute_result"
    }
   ],
   "source": [
    "df3g = df >> dfply.filter_by((df.usd_goal_real > 10000) & (df.usd_goal_real <=100000))\n",
    "len(df3g)"
   ]
  },
  {
   "cell_type": "markdown",
   "metadata": {},
   "source": [
    "Group 4: 100,000 < x"
   ]
  },
  {
   "cell_type": "code",
   "execution_count": 90,
   "metadata": {},
   "outputs": [
    {
     "data": {
      "text/plain": [
       "12684"
      ]
     },
     "execution_count": 90,
     "metadata": {},
     "output_type": "execute_result"
    }
   ],
   "source": [
    "df4g = df >> dfply.filter_by((df.usd_goal_real > 100000))\n",
    "len(df4g)"
   ]
  },
  {
   "cell_type": "markdown",
   "metadata": {},
   "source": [
    "Comparing data size to confirm no data has been lost"
   ]
  },
  {
   "cell_type": "code",
   "execution_count": 91,
   "metadata": {},
   "outputs": [],
   "source": [
    "p = len(df1g)+len(df2g)+len(df3g)+len(df4g)"
   ]
  },
  {
   "cell_type": "code",
   "execution_count": 92,
   "metadata": {},
   "outputs": [
    {
     "data": {
      "text/plain": [
       "True"
      ]
     },
     "execution_count": 92,
     "metadata": {},
     "output_type": "execute_result"
    }
   ],
   "source": [
    "qty == p"
   ]
  },
  {
   "cell_type": "code",
   "execution_count": 93,
   "metadata": {},
   "outputs": [
    {
     "data": {
      "text/html": [
       "<div>\n",
       "<style scoped>\n",
       "    .dataframe tbody tr th:only-of-type {\n",
       "        vertical-align: middle;\n",
       "    }\n",
       "\n",
       "    .dataframe tbody tr th {\n",
       "        vertical-align: top;\n",
       "    }\n",
       "\n",
       "    .dataframe thead th {\n",
       "        text-align: right;\n",
       "    }\n",
       "</style>\n",
       "<table border=\"1\" class=\"dataframe\">\n",
       "  <thead>\n",
       "    <tr style=\"text-align: right;\">\n",
       "      <th></th>\n",
       "      <th>Group</th>\n",
       "      <th>Campaigns</th>\n",
       "    </tr>\n",
       "  </thead>\n",
       "  <tbody>\n",
       "    <tr>\n",
       "      <th>0</th>\n",
       "      <td>1</td>\n",
       "      <td>60891</td>\n",
       "    </tr>\n",
       "    <tr>\n",
       "      <th>1</th>\n",
       "      <td>2</td>\n",
       "      <td>193347</td>\n",
       "    </tr>\n",
       "    <tr>\n",
       "      <th>2</th>\n",
       "      <td>3</td>\n",
       "      <td>111732</td>\n",
       "    </tr>\n",
       "    <tr>\n",
       "      <th>3</th>\n",
       "      <td>4</td>\n",
       "      <td>12684</td>\n",
       "    </tr>\n",
       "  </tbody>\n",
       "</table>\n",
       "</div>"
      ],
      "text/plain": [
       "  Group  Campaigns\n",
       "0     1      60891\n",
       "1     2     193347\n",
       "2     3     111732\n",
       "3     4      12684"
      ]
     },
     "execution_count": 93,
     "metadata": {},
     "output_type": "execute_result"
    }
   ],
   "source": [
    "dfG = pd.DataFrame({\"Group\":['1','2','3','4'],\"Campaigns\":[len(df1g),len(df2g),len(df3g),len(df4g)]})\n",
    "dfG"
   ]
  },
  {
   "cell_type": "code",
   "execution_count": 94,
   "metadata": {},
   "outputs": [
    {
     "data": {
      "text/plain": [
       "<AxesSubplot:>"
      ]
     },
     "execution_count": 94,
     "metadata": {},
     "output_type": "execute_result"
    },
    {
     "data": {
      "image/png": "[encoded data removed]",
      "text/plain": [
       "<Figure size 432x288 with 1 Axes>"
      ]
     },
     "metadata": {
      "needs_background": "light"
     },
     "output_type": "display_data"
    }
   ],
   "source": [
    "dfG.plot(kind = 'bar')"
   ]
  },
  {
   "cell_type": "code",
   "execution_count": 95,
   "metadata": {},
   "outputs": [
    {
     "data": {
      "text/html": [
       "<div>\n",
       "<style scoped>\n",
       "    .dataframe tbody tr th:only-of-type {\n",
       "        vertical-align: middle;\n",
       "    }\n",
       "\n",
       "    .dataframe tbody tr th {\n",
       "        vertical-align: top;\n",
       "    }\n",
       "\n",
       "    .dataframe thead th {\n",
       "        text-align: right;\n",
       "    }\n",
       "</style>\n",
       "<table border=\"1\" class=\"dataframe\">\n",
       "  <thead>\n",
       "    <tr style=\"text-align: right;\">\n",
       "      <th></th>\n",
       "      <th>Campaigns</th>\n",
       "      <th>TPctg</th>\n",
       "    </tr>\n",
       "    <tr>\n",
       "      <th>Group</th>\n",
       "      <th></th>\n",
       "      <th></th>\n",
       "    </tr>\n",
       "  </thead>\n",
       "  <tbody>\n",
       "    <tr>\n",
       "      <th>1</th>\n",
       "      <td>60891</td>\n",
       "      <td>16.080908</td>\n",
       "    </tr>\n",
       "    <tr>\n",
       "      <th>2</th>\n",
       "      <td>193347</td>\n",
       "      <td>51.061655</td>\n",
       "    </tr>\n",
       "    <tr>\n",
       "      <th>3</th>\n",
       "      <td>111732</td>\n",
       "      <td>29.507677</td>\n",
       "    </tr>\n",
       "    <tr>\n",
       "      <th>4</th>\n",
       "      <td>12684</td>\n",
       "      <td>3.349760</td>\n",
       "    </tr>\n",
       "  </tbody>\n",
       "</table>\n",
       "</div>"
      ],
      "text/plain": [
       "       Campaigns      TPctg\n",
       "Group                      \n",
       "1          60891  16.080908\n",
       "2         193347  51.061655\n",
       "3         111732  29.507677\n",
       "4          12684   3.349760"
      ]
     },
     "execution_count": 95,
     "metadata": {},
     "output_type": "execute_result"
    }
   ],
   "source": [
    "dfG1 = dfG.set_index('Group')\n",
    "dfG1['TPctg']= 100*dfG1['Campaigns']/qty\n",
    "dfG1"
   ]
  },
  {
   "cell_type": "code",
   "execution_count": 96,
   "metadata": {},
   "outputs": [
    {
     "data": {
      "text/plain": [
       "<AxesSubplot:xlabel='Group'>"
      ]
     },
     "execution_count": 96,
     "metadata": {},
     "output_type": "execute_result"
    },
    {
     "data": {
      "image/png": "[encoded data removed]",
      "text/plain": [
       "<Figure size 432x288 with 1 Axes>"
      ]
     },
     "metadata": {
      "needs_background": "light"
     },
     "output_type": "display_data"
    }
   ],
   "source": [
    "dfG1.plot(kind = 'bar')"
   ]
  },
  {
   "cell_type": "code",
   "execution_count": 97,
   "metadata": {
    "collapsed": true
   },
   "outputs": [
    {
     "data": {
      "text/html": [
       "<div>\n",
       "<style scoped>\n",
       "    .dataframe tbody tr th:only-of-type {\n",
       "        vertical-align: middle;\n",
       "    }\n",
       "\n",
       "    .dataframe tbody tr th {\n",
       "        vertical-align: top;\n",
       "    }\n",
       "\n",
       "    .dataframe thead th {\n",
       "        text-align: right;\n",
       "    }\n",
       "</style>\n",
       "<table border=\"1\" class=\"dataframe\">\n",
       "  <thead>\n",
       "    <tr style=\"text-align: right;\">\n",
       "      <th></th>\n",
       "      <th>ID</th>\n",
       "      <th>goal</th>\n",
       "      <th>pledged</th>\n",
       "      <th>backers</th>\n",
       "      <th>usd pledged</th>\n",
       "      <th>usd_pledged_real</th>\n",
       "      <th>usd_goal_real</th>\n",
       "    </tr>\n",
       "  </thead>\n",
       "  <tbody>\n",
       "    <tr>\n",
       "      <th>count</th>\n",
       "      <td>60891.000000</td>\n",
       "      <td>60891.000000</td>\n",
       "      <td>60891.000000</td>\n",
       "      <td>60891.000000</td>\n",
       "      <td>60886.000000</td>\n",
       "      <td>60891.000000</td>\n",
       "      <td>60891.000000</td>\n",
       "    </tr>\n",
       "    <tr>\n",
       "      <th>mean</th>\n",
       "      <td>1079803640.528157</td>\n",
       "      <td>645.713580</td>\n",
       "      <td>929.898522</td>\n",
       "      <td>24.241760</td>\n",
       "      <td>677.604951</td>\n",
       "      <td>869.680786</td>\n",
       "      <td>576.129032</td>\n",
       "    </tr>\n",
       "    <tr>\n",
       "      <th>std</th>\n",
       "      <td>618681426.503156</td>\n",
       "      <td>1037.590131</td>\n",
       "      <td>4686.933047</td>\n",
       "      <td>101.999417</td>\n",
       "      <td>3361.005091</td>\n",
       "      <td>4233.761748</td>\n",
       "      <td>317.804146</td>\n",
       "    </tr>\n",
       "    <tr>\n",
       "      <th>min</th>\n",
       "      <td>21109.000000</td>\n",
       "      <td>0.010000</td>\n",
       "      <td>0.000000</td>\n",
       "      <td>0.000000</td>\n",
       "      <td>0.000000</td>\n",
       "      <td>0.000000</td>\n",
       "      <td>0.010000</td>\n",
       "    </tr>\n",
       "    <tr>\n",
       "      <th>25%</th>\n",
       "      <td>544011074.000000</td>\n",
       "      <td>300.000000</td>\n",
       "      <td>14.680000</td>\n",
       "      <td>1.000000</td>\n",
       "      <td>5.000000</td>\n",
       "      <td>15.000000</td>\n",
       "      <td>300.000000</td>\n",
       "    </tr>\n",
       "    <tr>\n",
       "      <th>50%</th>\n",
       "      <td>1082237073.000000</td>\n",
       "      <td>500.000000</td>\n",
       "      <td>220.000000</td>\n",
       "      <td>7.000000</td>\n",
       "      <td>128.000000</td>\n",
       "      <td>225.000000</td>\n",
       "      <td>501.940000</td>\n",
       "    </tr>\n",
       "    <tr>\n",
       "      <th>75%</th>\n",
       "      <td>1612851478.500000</td>\n",
       "      <td>999.000000</td>\n",
       "      <td>851.000000</td>\n",
       "      <td>22.000000</td>\n",
       "      <td>705.000000</td>\n",
       "      <td>865.150000</td>\n",
       "      <td>900.000000</td>\n",
       "    </tr>\n",
       "    <tr>\n",
       "      <th>max</th>\n",
       "      <td>2147448229.000000</td>\n",
       "      <td>100000.000000</td>\n",
       "      <td>365538.000000</td>\n",
       "      <td>7857.000000</td>\n",
       "      <td>365538.000000</td>\n",
       "      <td>365538.000000</td>\n",
       "      <td>1000.000000</td>\n",
       "    </tr>\n",
       "  </tbody>\n",
       "</table>\n",
       "</div>"
      ],
      "text/plain": [
       "                      ID           goal        pledged       backers  \\\n",
       "count       60891.000000   60891.000000   60891.000000  60891.000000   \n",
       "mean   1079803640.528157     645.713580     929.898522     24.241760   \n",
       "std     618681426.503156    1037.590131    4686.933047    101.999417   \n",
       "min         21109.000000       0.010000       0.000000      0.000000   \n",
       "25%     544011074.000000     300.000000      14.680000      1.000000   \n",
       "50%    1082237073.000000     500.000000     220.000000      7.000000   \n",
       "75%    1612851478.500000     999.000000     851.000000     22.000000   \n",
       "max    2147448229.000000  100000.000000  365538.000000   7857.000000   \n",
       "\n",
       "         usd pledged usd_pledged_real usd_goal_real  \n",
       "count   60886.000000     60891.000000  60891.000000  \n",
       "mean      677.604951       869.680786    576.129032  \n",
       "std      3361.005091      4233.761748    317.804146  \n",
       "min         0.000000         0.000000      0.010000  \n",
       "25%         5.000000        15.000000    300.000000  \n",
       "50%       128.000000       225.000000    501.940000  \n",
       "75%       705.000000       865.150000    900.000000  \n",
       "max    365538.000000    365538.000000   1000.000000  "
      ]
     },
     "execution_count": 97,
     "metadata": {},
     "output_type": "execute_result"
    }
   ],
   "source": [
    "df1g.describe().apply(lambda s: s.apply('{0:5f}'.format))"
   ]
  },
  {
   "cell_type": "code",
   "execution_count": 98,
   "metadata": {
    "collapsed": true
   },
   "outputs": [
    {
     "data": {
      "text/html": [
       "<div>\n",
       "<style scoped>\n",
       "    .dataframe tbody tr th:only-of-type {\n",
       "        vertical-align: middle;\n",
       "    }\n",
       "\n",
       "    .dataframe tbody tr th {\n",
       "        vertical-align: top;\n",
       "    }\n",
       "\n",
       "    .dataframe thead th {\n",
       "        text-align: right;\n",
       "    }\n",
       "</style>\n",
       "<table border=\"1\" class=\"dataframe\">\n",
       "  <thead>\n",
       "    <tr style=\"text-align: right;\">\n",
       "      <th></th>\n",
       "      <th>ID</th>\n",
       "      <th>goal</th>\n",
       "      <th>pledged</th>\n",
       "      <th>backers</th>\n",
       "      <th>usd pledged</th>\n",
       "      <th>usd_pledged_real</th>\n",
       "      <th>usd_goal_real</th>\n",
       "    </tr>\n",
       "  </thead>\n",
       "  <tbody>\n",
       "    <tr>\n",
       "      <th>count</th>\n",
       "      <td>193347.000000</td>\n",
       "      <td>193347.000000</td>\n",
       "      <td>193347.000000</td>\n",
       "      <td>193347.000000</td>\n",
       "      <td>189584.000000</td>\n",
       "      <td>193347.000000</td>\n",
       "      <td>193347.000000</td>\n",
       "    </tr>\n",
       "    <tr>\n",
       "      <th>mean</th>\n",
       "      <td>1072248735.796402</td>\n",
       "      <td>5498.738262</td>\n",
       "      <td>4174.706763</td>\n",
       "      <td>65.484869</td>\n",
       "      <td>3022.712842</td>\n",
       "      <td>3790.500025</td>\n",
       "      <td>4826.403717</td>\n",
       "    </tr>\n",
       "    <tr>\n",
       "      <th>std</th>\n",
       "      <td>619178827.722190</td>\n",
       "      <td>10505.405336</td>\n",
       "      <td>30418.181384</td>\n",
       "      <td>632.950708</td>\n",
       "      <td>24551.226094</td>\n",
       "      <td>27331.282603</td>\n",
       "      <td>2750.986998</td>\n",
       "    </tr>\n",
       "    <tr>\n",
       "      <th>min</th>\n",
       "      <td>39036.000000</td>\n",
       "      <td>600.000000</td>\n",
       "      <td>0.000000</td>\n",
       "      <td>0.000000</td>\n",
       "      <td>0.000000</td>\n",
       "      <td>0.000000</td>\n",
       "      <td>1000.100000</td>\n",
       "    </tr>\n",
       "    <tr>\n",
       "      <th>25%</th>\n",
       "      <td>534748460.500000</td>\n",
       "      <td>2500.000000</td>\n",
       "      <td>46.000000</td>\n",
       "      <td>2.000000</td>\n",
       "      <td>25.000000</td>\n",
       "      <td>45.660000</td>\n",
       "      <td>2500.000000</td>\n",
       "    </tr>\n",
       "    <tr>\n",
       "      <th>50%</th>\n",
       "      <td>1072966948.000000</td>\n",
       "      <td>4500.000000</td>\n",
       "      <td>858.000000</td>\n",
       "      <td>14.000000</td>\n",
       "      <td>481.235000</td>\n",
       "      <td>845.000000</td>\n",
       "      <td>4500.000000</td>\n",
       "    </tr>\n",
       "    <tr>\n",
       "      <th>75%</th>\n",
       "      <td>1607383528.500000</td>\n",
       "      <td>7000.000000</td>\n",
       "      <td>4026.000000</td>\n",
       "      <td>58.000000</td>\n",
       "      <td>3173.000000</td>\n",
       "      <td>4022.000000</td>\n",
       "      <td>6926.060000</td>\n",
       "    </tr>\n",
       "    <tr>\n",
       "      <th>max</th>\n",
       "      <td>2147472329.000000</td>\n",
       "      <td>1100000.000000</td>\n",
       "      <td>8782571.990000</td>\n",
       "      <td>219382.000000</td>\n",
       "      <td>8782571.990000</td>\n",
       "      <td>8782571.990000</td>\n",
       "      <td>10000.000000</td>\n",
       "    </tr>\n",
       "  </tbody>\n",
       "</table>\n",
       "</div>"
      ],
      "text/plain": [
       "                      ID            goal         pledged        backers  \\\n",
       "count      193347.000000   193347.000000   193347.000000  193347.000000   \n",
       "mean   1072248735.796402     5498.738262     4174.706763      65.484869   \n",
       "std     619178827.722190    10505.405336    30418.181384     632.950708   \n",
       "min         39036.000000      600.000000        0.000000       0.000000   \n",
       "25%     534748460.500000     2500.000000       46.000000       2.000000   \n",
       "50%    1072966948.000000     4500.000000      858.000000      14.000000   \n",
       "75%    1607383528.500000     7000.000000     4026.000000      58.000000   \n",
       "max    2147472329.000000  1100000.000000  8782571.990000  219382.000000   \n",
       "\n",
       "          usd pledged usd_pledged_real  usd_goal_real  \n",
       "count   189584.000000    193347.000000  193347.000000  \n",
       "mean      3022.712842      3790.500025    4826.403717  \n",
       "std      24551.226094     27331.282603    2750.986998  \n",
       "min          0.000000         0.000000    1000.100000  \n",
       "25%         25.000000        45.660000    2500.000000  \n",
       "50%        481.235000       845.000000    4500.000000  \n",
       "75%       3173.000000      4022.000000    6926.060000  \n",
       "max    8782571.990000   8782571.990000   10000.000000  "
      ]
     },
     "execution_count": 98,
     "metadata": {},
     "output_type": "execute_result"
    }
   ],
   "source": [
    "df2g.describe().apply(lambda s: s.apply('{0:5f}'.format))"
   ]
  },
  {
   "cell_type": "code",
   "execution_count": 99,
   "metadata": {
    "collapsed": true
   },
   "outputs": [
    {
     "data": {
      "text/html": [
       "<div>\n",
       "<style scoped>\n",
       "    .dataframe tbody tr th:only-of-type {\n",
       "        vertical-align: middle;\n",
       "    }\n",
       "\n",
       "    .dataframe tbody tr th {\n",
       "        vertical-align: top;\n",
       "    }\n",
       "\n",
       "    .dataframe thead th {\n",
       "        text-align: right;\n",
       "    }\n",
       "</style>\n",
       "<table border=\"1\" class=\"dataframe\">\n",
       "  <thead>\n",
       "    <tr style=\"text-align: right;\">\n",
       "      <th></th>\n",
       "      <th>ID</th>\n",
       "      <th>goal</th>\n",
       "      <th>pledged</th>\n",
       "      <th>backers</th>\n",
       "      <th>usd pledged</th>\n",
       "      <th>usd_pledged_real</th>\n",
       "      <th>usd_goal_real</th>\n",
       "    </tr>\n",
       "  </thead>\n",
       "  <tbody>\n",
       "    <tr>\n",
       "      <th>count</th>\n",
       "      <td>111732.000000</td>\n",
       "      <td>111732.000000</td>\n",
       "      <td>111732.000000</td>\n",
       "      <td>111732.000000</td>\n",
       "      <td>111707.000000</td>\n",
       "      <td>111732.000000</td>\n",
       "      <td>111732.000000</td>\n",
       "    </tr>\n",
       "    <tr>\n",
       "      <th>mean</th>\n",
       "      <td>1077123984.133588</td>\n",
       "      <td>35536.085431</td>\n",
       "      <td>20239.032178</td>\n",
       "      <td>187.385521</td>\n",
       "      <td>14072.933841</td>\n",
       "      <td>18946.742274</td>\n",
       "      <td>32034.503341</td>\n",
       "    </tr>\n",
       "    <tr>\n",
       "      <th>std</th>\n",
       "      <td>619087203.826957</td>\n",
       "      <td>68864.074260</td>\n",
       "      <td>125501.491135</td>\n",
       "      <td>1001.828266</td>\n",
       "      <td>92500.834408</td>\n",
       "      <td>118965.482680</td>\n",
       "      <td>22158.688647</td>\n",
       "    </tr>\n",
       "    <tr>\n",
       "      <th>min</th>\n",
       "      <td>5971.000000</td>\n",
       "      <td>5947.000000</td>\n",
       "      <td>0.000000</td>\n",
       "      <td>0.000000</td>\n",
       "      <td>0.000000</td>\n",
       "      <td>0.000000</td>\n",
       "      <td>10001.000000</td>\n",
       "    </tr>\n",
       "    <tr>\n",
       "      <th>25%</th>\n",
       "      <td>540962728.500000</td>\n",
       "      <td>15000.000000</td>\n",
       "      <td>45.000000</td>\n",
       "      <td>2.000000</td>\n",
       "      <td>24.000000</td>\n",
       "      <td>45.000000</td>\n",
       "      <td>15000.000000</td>\n",
       "    </tr>\n",
       "    <tr>\n",
       "      <th>50%</th>\n",
       "      <td>1077944841.000000</td>\n",
       "      <td>25000.000000</td>\n",
       "      <td>1203.000000</td>\n",
       "      <td>15.000000</td>\n",
       "      <td>725.000000</td>\n",
       "      <td>1202.100000</td>\n",
       "      <td>25000.000000</td>\n",
       "    </tr>\n",
       "    <tr>\n",
       "      <th>75%</th>\n",
       "      <td>1613607751.500000</td>\n",
       "      <td>43000.000000</td>\n",
       "      <td>14316.000000</td>\n",
       "      <td>116.000000</td>\n",
       "      <td>9303.055000</td>\n",
       "      <td>14398.912500</td>\n",
       "      <td>40000.000000</td>\n",
       "    </tr>\n",
       "    <tr>\n",
       "      <th>max</th>\n",
       "      <td>2147476221.000000</td>\n",
       "      <td>11000000.000000</td>\n",
       "      <td>13285226.360000</td>\n",
       "      <td>154926.000000</td>\n",
       "      <td>13285226.360000</td>\n",
       "      <td>13285226.360000</td>\n",
       "      <td>100000.000000</td>\n",
       "    </tr>\n",
       "  </tbody>\n",
       "</table>\n",
       "</div>"
      ],
      "text/plain": [
       "                      ID             goal          pledged        backers  \\\n",
       "count      111732.000000    111732.000000    111732.000000  111732.000000   \n",
       "mean   1077123984.133588     35536.085431     20239.032178     187.385521   \n",
       "std     619087203.826957     68864.074260    125501.491135    1001.828266   \n",
       "min          5971.000000      5947.000000         0.000000       0.000000   \n",
       "25%     540962728.500000     15000.000000        45.000000       2.000000   \n",
       "50%    1077944841.000000     25000.000000      1203.000000      15.000000   \n",
       "75%    1613607751.500000     43000.000000     14316.000000     116.000000   \n",
       "max    2147476221.000000  11000000.000000  13285226.360000  154926.000000   \n",
       "\n",
       "           usd pledged usd_pledged_real  usd_goal_real  \n",
       "count    111707.000000    111732.000000  111732.000000  \n",
       "mean      14072.933841     18946.742274   32034.503341  \n",
       "std       92500.834408    118965.482680   22158.688647  \n",
       "min           0.000000         0.000000   10001.000000  \n",
       "25%          24.000000        45.000000   15000.000000  \n",
       "50%         725.000000      1202.100000   25000.000000  \n",
       "75%        9303.055000     14398.912500   40000.000000  \n",
       "max    13285226.360000  13285226.360000  100000.000000  "
      ]
     },
     "execution_count": 99,
     "metadata": {},
     "output_type": "execute_result"
    }
   ],
   "source": [
    "df3g.describe().apply(lambda s: s.apply('{0:5f}'.format))"
   ]
  },
  {
   "cell_type": "code",
   "execution_count": 100,
   "metadata": {
    "collapsed": true
   },
   "outputs": [
    {
     "data": {
      "text/html": [
       "<div>\n",
       "<style scoped>\n",
       "    .dataframe tbody tr th:only-of-type {\n",
       "        vertical-align: middle;\n",
       "    }\n",
       "\n",
       "    .dataframe tbody tr th {\n",
       "        vertical-align: top;\n",
       "    }\n",
       "\n",
       "    .dataframe thead th {\n",
       "        text-align: right;\n",
       "    }\n",
       "</style>\n",
       "<table border=\"1\" class=\"dataframe\">\n",
       "  <thead>\n",
       "    <tr style=\"text-align: right;\">\n",
       "      <th></th>\n",
       "      <th>ID</th>\n",
       "      <th>goal</th>\n",
       "      <th>pledged</th>\n",
       "      <th>backers</th>\n",
       "      <th>usd pledged</th>\n",
       "      <th>usd_pledged_real</th>\n",
       "      <th>usd_goal_real</th>\n",
       "    </tr>\n",
       "  </thead>\n",
       "  <tbody>\n",
       "    <tr>\n",
       "      <th>count</th>\n",
       "      <td>12684.000000</td>\n",
       "      <td>12684.000000</td>\n",
       "      <td>12684.000000</td>\n",
       "      <td>12684.000000</td>\n",
       "      <td>12680.000000</td>\n",
       "      <td>12684.000000</td>\n",
       "      <td>12684.000000</td>\n",
       "    </tr>\n",
       "    <tr>\n",
       "      <th>mean</th>\n",
       "      <td>1067264482.125039</td>\n",
       "      <td>1065274.669529</td>\n",
       "      <td>42686.030978</td>\n",
       "      <td>387.799748</td>\n",
       "      <td>35603.822003</td>\n",
       "      <td>41585.170286</td>\n",
       "      <td>998442.220727</td>\n",
       "    </tr>\n",
       "    <tr>\n",
       "      <th>std</th>\n",
       "      <td>619448420.044030</td>\n",
       "      <td>6379055.724281</td>\n",
       "      <td>342345.433763</td>\n",
       "      <td>3062.165455</td>\n",
       "      <td>310967.958805</td>\n",
       "      <td>329048.717675</td>\n",
       "      <td>6223977.449143</td>\n",
       "    </tr>\n",
       "    <tr>\n",
       "      <th>min</th>\n",
       "      <td>254501.000000</td>\n",
       "      <td>60000.000000</td>\n",
       "      <td>0.000000</td>\n",
       "      <td>0.000000</td>\n",
       "      <td>0.000000</td>\n",
       "      <td>0.000000</td>\n",
       "      <td>100001.000000</td>\n",
       "    </tr>\n",
       "    <tr>\n",
       "      <th>25%</th>\n",
       "      <td>537184116.750000</td>\n",
       "      <td>150000.000000</td>\n",
       "      <td>1.000000</td>\n",
       "      <td>1.000000</td>\n",
       "      <td>0.000000</td>\n",
       "      <td>1.000000</td>\n",
       "      <td>150000.000000</td>\n",
       "    </tr>\n",
       "    <tr>\n",
       "      <th>50%</th>\n",
       "      <td>1052880047.000000</td>\n",
       "      <td>200000.000000</td>\n",
       "      <td>111.000000</td>\n",
       "      <td>3.000000</td>\n",
       "      <td>82.000000</td>\n",
       "      <td>115.000000</td>\n",
       "      <td>200771.860000</td>\n",
       "    </tr>\n",
       "    <tr>\n",
       "      <th>75%</th>\n",
       "      <td>1611258487.750000</td>\n",
       "      <td>450000.000000</td>\n",
       "      <td>3371.250000</td>\n",
       "      <td>24.000000</td>\n",
       "      <td>2550.370000</td>\n",
       "      <td>3372.500000</td>\n",
       "      <td>400000.000000</td>\n",
       "    </tr>\n",
       "    <tr>\n",
       "      <th>max</th>\n",
       "      <td>2147437278.000000</td>\n",
       "      <td>100000000.000000</td>\n",
       "      <td>20338986.270000</td>\n",
       "      <td>105857.000000</td>\n",
       "      <td>20338986.270000</td>\n",
       "      <td>20338986.270000</td>\n",
       "      <td>166361390.710000</td>\n",
       "    </tr>\n",
       "  </tbody>\n",
       "</table>\n",
       "</div>"
      ],
      "text/plain": [
       "                      ID              goal          pledged        backers  \\\n",
       "count       12684.000000      12684.000000     12684.000000   12684.000000   \n",
       "mean   1067264482.125039    1065274.669529     42686.030978     387.799748   \n",
       "std     619448420.044030    6379055.724281    342345.433763    3062.165455   \n",
       "min        254501.000000      60000.000000         0.000000       0.000000   \n",
       "25%     537184116.750000     150000.000000         1.000000       1.000000   \n",
       "50%    1052880047.000000     200000.000000       111.000000       3.000000   \n",
       "75%    1611258487.750000     450000.000000      3371.250000      24.000000   \n",
       "max    2147437278.000000  100000000.000000  20338986.270000  105857.000000   \n",
       "\n",
       "           usd pledged usd_pledged_real     usd_goal_real  \n",
       "count     12680.000000     12684.000000      12684.000000  \n",
       "mean      35603.822003     41585.170286     998442.220727  \n",
       "std      310967.958805    329048.717675    6223977.449143  \n",
       "min           0.000000         0.000000     100001.000000  \n",
       "25%           0.000000         1.000000     150000.000000  \n",
       "50%          82.000000       115.000000     200771.860000  \n",
       "75%        2550.370000      3372.500000     400000.000000  \n",
       "max    20338986.270000  20338986.270000  166361390.710000  "
      ]
     },
     "execution_count": 100,
     "metadata": {},
     "output_type": "execute_result"
    }
   ],
   "source": [
    "df4g.describe().apply(lambda s: s.apply('{0:5f}'.format))"
   ]
  },
  {
   "cell_type": "code",
   "execution_count": 101,
   "metadata": {},
   "outputs": [],
   "source": [
    "df1gs = df >> dfply.filter_by((df.usd_goal_real <= 1000) & (df.state == 'successful'))\n",
    "df2gs = df >> dfply.filter_by((df.usd_goal_real > 1000) & (df.usd_goal_real <=10000) & (df.state == 'successful'))\n",
    "df3gs = df >> dfply.filter_by((df.usd_goal_real > 10000) & (df.usd_goal_real <=100000) & (df.state == 'successful'))\n",
    "df4gs = df >> dfply.filter_by((df.usd_goal_real > 100000) & (df.state == 'successful'))"
   ]
  },
  {
   "cell_type": "code",
   "execution_count": 102,
   "metadata": {
    "collapsed": true
   },
   "outputs": [
    {
     "data": {
      "text/html": [
       "<div>\n",
       "<style scoped>\n",
       "    .dataframe tbody tr th:only-of-type {\n",
       "        vertical-align: middle;\n",
       "    }\n",
       "\n",
       "    .dataframe tbody tr th {\n",
       "        vertical-align: top;\n",
       "    }\n",
       "\n",
       "    .dataframe thead th {\n",
       "        text-align: right;\n",
       "    }\n",
       "</style>\n",
       "<table border=\"1\" class=\"dataframe\">\n",
       "  <thead>\n",
       "    <tr style=\"text-align: right;\">\n",
       "      <th></th>\n",
       "      <th>ID</th>\n",
       "      <th>name</th>\n",
       "      <th>category</th>\n",
       "      <th>main_category</th>\n",
       "      <th>currency</th>\n",
       "      <th>deadline</th>\n",
       "      <th>goal</th>\n",
       "      <th>launched</th>\n",
       "      <th>pledged</th>\n",
       "      <th>state</th>\n",
       "      <th>backers</th>\n",
       "      <th>country</th>\n",
       "      <th>usd pledged</th>\n",
       "      <th>usd_pledged_real</th>\n",
       "      <th>usd_goal_real</th>\n",
       "      <th>duration</th>\n",
       "    </tr>\n",
       "  </thead>\n",
       "  <tbody>\n",
       "    <tr>\n",
       "      <th>6</th>\n",
       "      <td>1000023410</td>\n",
       "      <td>Support Solar Roasted Coffee &amp; Green Energy!  ...</td>\n",
       "      <td>Food</td>\n",
       "      <td>Food</td>\n",
       "      <td>USD</td>\n",
       "      <td>2014-12-21</td>\n",
       "      <td>1000.0</td>\n",
       "      <td>2014-12-01 18:30:44</td>\n",
       "      <td>1205.00</td>\n",
       "      <td>successful</td>\n",
       "      <td>16</td>\n",
       "      <td>US</td>\n",
       "      <td>1205.00</td>\n",
       "      <td>1205.00</td>\n",
       "      <td>1000.00</td>\n",
       "      <td>8-22</td>\n",
       "    </tr>\n",
       "    <tr>\n",
       "      <th>18</th>\n",
       "      <td>1000070642</td>\n",
       "      <td>Mike Corey's Darkness &amp; Light Album</td>\n",
       "      <td>Music</td>\n",
       "      <td>Music</td>\n",
       "      <td>USD</td>\n",
       "      <td>2012-08-17</td>\n",
       "      <td>250.0</td>\n",
       "      <td>2012-08-02 14:11:32</td>\n",
       "      <td>250.00</td>\n",
       "      <td>successful</td>\n",
       "      <td>7</td>\n",
       "      <td>US</td>\n",
       "      <td>250.00</td>\n",
       "      <td>250.00</td>\n",
       "      <td>250.00</td>\n",
       "      <td>8-22</td>\n",
       "    </tr>\n",
       "    <tr>\n",
       "      <th>24</th>\n",
       "      <td>1000091520</td>\n",
       "      <td>The Book Zoo - A Mini-Comic</td>\n",
       "      <td>Comics</td>\n",
       "      <td>Comics</td>\n",
       "      <td>USD</td>\n",
       "      <td>2014-11-12</td>\n",
       "      <td>175.0</td>\n",
       "      <td>2014-10-23 17:15:50</td>\n",
       "      <td>701.66</td>\n",
       "      <td>successful</td>\n",
       "      <td>66</td>\n",
       "      <td>US</td>\n",
       "      <td>701.66</td>\n",
       "      <td>701.66</td>\n",
       "      <td>175.00</td>\n",
       "      <td>8-22</td>\n",
       "    </tr>\n",
       "    <tr>\n",
       "      <th>28</th>\n",
       "      <td>1000104953</td>\n",
       "      <td>Rebel Army Origins: The Heroic Story Of Major ...</td>\n",
       "      <td>Comics</td>\n",
       "      <td>Comics</td>\n",
       "      <td>GBP</td>\n",
       "      <td>2016-01-28</td>\n",
       "      <td>100.0</td>\n",
       "      <td>2015-12-29 16:59:29</td>\n",
       "      <td>112.38</td>\n",
       "      <td>successful</td>\n",
       "      <td>27</td>\n",
       "      <td>GB</td>\n",
       "      <td>167.70</td>\n",
       "      <td>160.60</td>\n",
       "      <td>142.91</td>\n",
       "      <td>23-37</td>\n",
       "    </tr>\n",
       "    <tr>\n",
       "      <th>31</th>\n",
       "      <td>1000117861</td>\n",
       "      <td>Ledr workbook: one tough journal!</td>\n",
       "      <td>Product Design</td>\n",
       "      <td>Design</td>\n",
       "      <td>USD</td>\n",
       "      <td>2016-10-08</td>\n",
       "      <td>1000.0</td>\n",
       "      <td>2016-09-07 13:14:26</td>\n",
       "      <td>47266.00</td>\n",
       "      <td>successful</td>\n",
       "      <td>549</td>\n",
       "      <td>US</td>\n",
       "      <td>11253.00</td>\n",
       "      <td>47266.00</td>\n",
       "      <td>1000.00</td>\n",
       "      <td>23-37</td>\n",
       "    </tr>\n",
       "  </tbody>\n",
       "</table>\n",
       "</div>"
      ],
      "text/plain": [
       "            ID                                               name  \\\n",
       "6   1000023410  Support Solar Roasted Coffee & Green Energy!  ...   \n",
       "18  1000070642                Mike Corey's Darkness & Light Album   \n",
       "24  1000091520                        The Book Zoo - A Mini-Comic   \n",
       "28  1000104953  Rebel Army Origins: The Heroic Story Of Major ...   \n",
       "31  1000117861                  Ledr workbook: one tough journal!   \n",
       "\n",
       "          category main_category currency   deadline    goal  \\\n",
       "6             Food          Food      USD 2014-12-21  1000.0   \n",
       "18           Music         Music      USD 2012-08-17   250.0   \n",
       "24          Comics        Comics      USD 2014-11-12   175.0   \n",
       "28          Comics        Comics      GBP 2016-01-28   100.0   \n",
       "31  Product Design        Design      USD 2016-10-08  1000.0   \n",
       "\n",
       "              launched   pledged       state  backers country  usd pledged  \\\n",
       "6  2014-12-01 18:30:44   1205.00  successful       16      US      1205.00   \n",
       "18 2012-08-02 14:11:32    250.00  successful        7      US       250.00   \n",
       "24 2014-10-23 17:15:50    701.66  successful       66      US       701.66   \n",
       "28 2015-12-29 16:59:29    112.38  successful       27      GB       167.70   \n",
       "31 2016-09-07 13:14:26  47266.00  successful      549      US     11253.00   \n",
       "\n",
       "    usd_pledged_real  usd_goal_real duration  \n",
       "6            1205.00        1000.00     8-22  \n",
       "18            250.00         250.00     8-22  \n",
       "24            701.66         175.00     8-22  \n",
       "28            160.60         142.91    23-37  \n",
       "31          47266.00        1000.00    23-37  "
      ]
     },
     "execution_count": 102,
     "metadata": {},
     "output_type": "execute_result"
    }
   ],
   "source": [
    "df1gs.head()"
   ]
  },
  {
   "cell_type": "code",
   "execution_count": 103,
   "metadata": {
    "collapsed": true
   },
   "outputs": [
    {
     "data": {
      "text/html": [
       "<div>\n",
       "<style scoped>\n",
       "    .dataframe tbody tr th:only-of-type {\n",
       "        vertical-align: middle;\n",
       "    }\n",
       "\n",
       "    .dataframe tbody tr th {\n",
       "        vertical-align: top;\n",
       "    }\n",
       "\n",
       "    .dataframe thead th {\n",
       "        text-align: right;\n",
       "    }\n",
       "</style>\n",
       "<table border=\"1\" class=\"dataframe\">\n",
       "  <thead>\n",
       "    <tr style=\"text-align: right;\">\n",
       "      <th></th>\n",
       "      <th>ID</th>\n",
       "      <th>name</th>\n",
       "      <th>category</th>\n",
       "      <th>main_category</th>\n",
       "      <th>currency</th>\n",
       "      <th>deadline</th>\n",
       "      <th>goal</th>\n",
       "      <th>launched</th>\n",
       "      <th>pledged</th>\n",
       "      <th>state</th>\n",
       "      <th>backers</th>\n",
       "      <th>country</th>\n",
       "      <th>usd pledged</th>\n",
       "      <th>usd_pledged_real</th>\n",
       "      <th>usd_goal_real</th>\n",
       "      <th>duration</th>\n",
       "    </tr>\n",
       "  </thead>\n",
       "  <tbody>\n",
       "    <tr>\n",
       "      <th>14</th>\n",
       "      <td>1000057089</td>\n",
       "      <td>Tombstone: Old West tabletop game and miniatur...</td>\n",
       "      <td>Tabletop Games</td>\n",
       "      <td>Games</td>\n",
       "      <td>GBP</td>\n",
       "      <td>2017-05-03</td>\n",
       "      <td>5000.0</td>\n",
       "      <td>2017-04-05 19:44:18</td>\n",
       "      <td>94175.00</td>\n",
       "      <td>successful</td>\n",
       "      <td>761</td>\n",
       "      <td>GB</td>\n",
       "      <td>57763.78</td>\n",
       "      <td>121857.33</td>\n",
       "      <td>6469.73</td>\n",
       "      <td>23-37</td>\n",
       "    </tr>\n",
       "    <tr>\n",
       "      <th>25</th>\n",
       "      <td>1000102741</td>\n",
       "      <td>Matt Cavenaugh &amp; Jenny Powers make their 1st a...</td>\n",
       "      <td>Music</td>\n",
       "      <td>Music</td>\n",
       "      <td>USD</td>\n",
       "      <td>2011-01-06</td>\n",
       "      <td>10000.0</td>\n",
       "      <td>2010-12-07 23:16:50</td>\n",
       "      <td>15827.00</td>\n",
       "      <td>successful</td>\n",
       "      <td>147</td>\n",
       "      <td>US</td>\n",
       "      <td>15827.00</td>\n",
       "      <td>15827.00</td>\n",
       "      <td>10000.00</td>\n",
       "      <td>23-37</td>\n",
       "    </tr>\n",
       "    <tr>\n",
       "      <th>32</th>\n",
       "      <td>1000120151</td>\n",
       "      <td>Feather Cast Furled Fly Fishing Leaders</td>\n",
       "      <td>Product Design</td>\n",
       "      <td>Design</td>\n",
       "      <td>AUD</td>\n",
       "      <td>2015-08-22</td>\n",
       "      <td>2000.0</td>\n",
       "      <td>2015-07-23 03:09:43</td>\n",
       "      <td>2000.00</td>\n",
       "      <td>successful</td>\n",
       "      <td>18</td>\n",
       "      <td>AU</td>\n",
       "      <td>1473.62</td>\n",
       "      <td>1427.35</td>\n",
       "      <td>1427.35</td>\n",
       "      <td>23-37</td>\n",
       "    </tr>\n",
       "    <tr>\n",
       "      <th>36</th>\n",
       "      <td>1000131947</td>\n",
       "      <td>Arrows &amp; Sound Debut Album</td>\n",
       "      <td>Indie Rock</td>\n",
       "      <td>Music</td>\n",
       "      <td>USD</td>\n",
       "      <td>2012-05-19</td>\n",
       "      <td>4000.0</td>\n",
       "      <td>2012-04-19 01:04:31</td>\n",
       "      <td>8641.34</td>\n",
       "      <td>successful</td>\n",
       "      <td>157</td>\n",
       "      <td>US</td>\n",
       "      <td>8641.34</td>\n",
       "      <td>8641.34</td>\n",
       "      <td>4000.00</td>\n",
       "      <td>23-37</td>\n",
       "    </tr>\n",
       "    <tr>\n",
       "      <th>37</th>\n",
       "      <td>1000132945</td>\n",
       "      <td>Zen in America: a film on Zen Buddhism in Nort...</td>\n",
       "      <td>Documentary</td>\n",
       "      <td>Film &amp; Video</td>\n",
       "      <td>USD</td>\n",
       "      <td>2013-10-21</td>\n",
       "      <td>10000.0</td>\n",
       "      <td>2013-09-21 23:00:54</td>\n",
       "      <td>15663.00</td>\n",
       "      <td>successful</td>\n",
       "      <td>213</td>\n",
       "      <td>US</td>\n",
       "      <td>15663.00</td>\n",
       "      <td>15663.00</td>\n",
       "      <td>10000.00</td>\n",
       "      <td>23-37</td>\n",
       "    </tr>\n",
       "  </tbody>\n",
       "</table>\n",
       "</div>"
      ],
      "text/plain": [
       "            ID                                               name  \\\n",
       "14  1000057089  Tombstone: Old West tabletop game and miniatur...   \n",
       "25  1000102741  Matt Cavenaugh & Jenny Powers make their 1st a...   \n",
       "32  1000120151            Feather Cast Furled Fly Fishing Leaders   \n",
       "36  1000131947                         Arrows & Sound Debut Album   \n",
       "37  1000132945  Zen in America: a film on Zen Buddhism in Nort...   \n",
       "\n",
       "          category main_category currency   deadline     goal  \\\n",
       "14  Tabletop Games         Games      GBP 2017-05-03   5000.0   \n",
       "25           Music         Music      USD 2011-01-06  10000.0   \n",
       "32  Product Design        Design      AUD 2015-08-22   2000.0   \n",
       "36      Indie Rock         Music      USD 2012-05-19   4000.0   \n",
       "37     Documentary  Film & Video      USD 2013-10-21  10000.0   \n",
       "\n",
       "              launched   pledged       state  backers country  usd pledged  \\\n",
       "14 2017-04-05 19:44:18  94175.00  successful      761      GB     57763.78   \n",
       "25 2010-12-07 23:16:50  15827.00  successful      147      US     15827.00   \n",
       "32 2015-07-23 03:09:43   2000.00  successful       18      AU      1473.62   \n",
       "36 2012-04-19 01:04:31   8641.34  successful      157      US      8641.34   \n",
       "37 2013-09-21 23:00:54  15663.00  successful      213      US     15663.00   \n",
       "\n",
       "    usd_pledged_real  usd_goal_real duration  \n",
       "14         121857.33        6469.73    23-37  \n",
       "25          15827.00       10000.00    23-37  \n",
       "32           1427.35        1427.35    23-37  \n",
       "36           8641.34        4000.00    23-37  \n",
       "37          15663.00       10000.00    23-37  "
      ]
     },
     "execution_count": 103,
     "metadata": {},
     "output_type": "execute_result"
    }
   ],
   "source": [
    "df2gs.head()"
   ]
  },
  {
   "cell_type": "code",
   "execution_count": 104,
   "metadata": {
    "collapsed": true
   },
   "outputs": [
    {
     "data": {
      "text/html": [
       "<div>\n",
       "<style scoped>\n",
       "    .dataframe tbody tr th:only-of-type {\n",
       "        vertical-align: middle;\n",
       "    }\n",
       "\n",
       "    .dataframe tbody tr th {\n",
       "        vertical-align: top;\n",
       "    }\n",
       "\n",
       "    .dataframe thead th {\n",
       "        text-align: right;\n",
       "    }\n",
       "</style>\n",
       "<table border=\"1\" class=\"dataframe\">\n",
       "  <thead>\n",
       "    <tr style=\"text-align: right;\">\n",
       "      <th></th>\n",
       "      <th>ID</th>\n",
       "      <th>name</th>\n",
       "      <th>category</th>\n",
       "      <th>main_category</th>\n",
       "      <th>currency</th>\n",
       "      <th>deadline</th>\n",
       "      <th>goal</th>\n",
       "      <th>launched</th>\n",
       "      <th>pledged</th>\n",
       "      <th>state</th>\n",
       "      <th>backers</th>\n",
       "      <th>country</th>\n",
       "      <th>usd pledged</th>\n",
       "      <th>usd_pledged_real</th>\n",
       "      <th>usd_goal_real</th>\n",
       "      <th>duration</th>\n",
       "    </tr>\n",
       "  </thead>\n",
       "  <tbody>\n",
       "    <tr>\n",
       "      <th>98230</th>\n",
       "      <td>1498687730</td>\n",
       "      <td>PRAY FOR US SINNERS</td>\n",
       "      <td>Film &amp; Video</td>\n",
       "      <td>Film &amp; Video</td>\n",
       "      <td>USD</td>\n",
       "      <td>2013-08-23</td>\n",
       "      <td>15000.0</td>\n",
       "      <td>2013-07-24 15:49:14</td>\n",
       "      <td>15321.00</td>\n",
       "      <td>successful</td>\n",
       "      <td>44</td>\n",
       "      <td>US</td>\n",
       "      <td>15321.00</td>\n",
       "      <td>15321.00</td>\n",
       "      <td>15000.00</td>\n",
       "      <td>23-37</td>\n",
       "    </tr>\n",
       "    <tr>\n",
       "      <th>344055</th>\n",
       "      <td>822438938</td>\n",
       "      <td>Gracie's Backyard</td>\n",
       "      <td>Film &amp; Video</td>\n",
       "      <td>Film &amp; Video</td>\n",
       "      <td>EUR</td>\n",
       "      <td>2017-05-24</td>\n",
       "      <td>15000.0</td>\n",
       "      <td>2017-04-24 14:37:16</td>\n",
       "      <td>16467.00</td>\n",
       "      <td>successful</td>\n",
       "      <td>515</td>\n",
       "      <td>FR</td>\n",
       "      <td>775.46</td>\n",
       "      <td>18436.37</td>\n",
       "      <td>16793.93</td>\n",
       "      <td>23-37</td>\n",
       "    </tr>\n",
       "    <tr>\n",
       "      <th>348998</th>\n",
       "      <td>848110101</td>\n",
       "      <td>How to Disappear Completely | a Short Film</td>\n",
       "      <td>Shorts</td>\n",
       "      <td>Film &amp; Video</td>\n",
       "      <td>USD</td>\n",
       "      <td>2012-12-25</td>\n",
       "      <td>11027.0</td>\n",
       "      <td>2012-11-05 20:59:19</td>\n",
       "      <td>11765.44</td>\n",
       "      <td>successful</td>\n",
       "      <td>159</td>\n",
       "      <td>US</td>\n",
       "      <td>11765.44</td>\n",
       "      <td>11765.44</td>\n",
       "      <td>11027.00</td>\n",
       "      <td>38-52</td>\n",
       "    </tr>\n",
       "    <tr>\n",
       "      <th>186246</th>\n",
       "      <td>1948062860</td>\n",
       "      <td>Ballast</td>\n",
       "      <td>Journalism</td>\n",
       "      <td>Journalism</td>\n",
       "      <td>USD</td>\n",
       "      <td>2012-08-01</td>\n",
       "      <td>25000.0</td>\n",
       "      <td>2012-07-01 15:31:06</td>\n",
       "      <td>25385.00</td>\n",
       "      <td>successful</td>\n",
       "      <td>95</td>\n",
       "      <td>US</td>\n",
       "      <td>25385.00</td>\n",
       "      <td>25385.00</td>\n",
       "      <td>25000.00</td>\n",
       "      <td>23-37</td>\n",
       "    </tr>\n",
       "    <tr>\n",
       "      <th>79849</th>\n",
       "      <td>1406158509</td>\n",
       "      <td>The Suffers Are Releasing Their Debut Album</td>\n",
       "      <td>R&amp;B</td>\n",
       "      <td>Music</td>\n",
       "      <td>USD</td>\n",
       "      <td>2015-10-17</td>\n",
       "      <td>50000.0</td>\n",
       "      <td>2015-09-02 15:00:28</td>\n",
       "      <td>59654.75</td>\n",
       "      <td>successful</td>\n",
       "      <td>666</td>\n",
       "      <td>US</td>\n",
       "      <td>59654.75</td>\n",
       "      <td>59654.75</td>\n",
       "      <td>50000.00</td>\n",
       "      <td>38-52</td>\n",
       "    </tr>\n",
       "  </tbody>\n",
       "</table>\n",
       "</div>"
      ],
      "text/plain": [
       "                ID                                         name      category  \\\n",
       "98230   1498687730                          PRAY FOR US SINNERS  Film & Video   \n",
       "344055   822438938                            Gracie's Backyard  Film & Video   \n",
       "348998   848110101   How to Disappear Completely | a Short Film        Shorts   \n",
       "186246  1948062860                                      Ballast    Journalism   \n",
       "79849   1406158509  The Suffers Are Releasing Their Debut Album           R&B   \n",
       "\n",
       "       main_category currency   deadline     goal            launched  \\\n",
       "98230   Film & Video      USD 2013-08-23  15000.0 2013-07-24 15:49:14   \n",
       "344055  Film & Video      EUR 2017-05-24  15000.0 2017-04-24 14:37:16   \n",
       "348998  Film & Video      USD 2012-12-25  11027.0 2012-11-05 20:59:19   \n",
       "186246    Journalism      USD 2012-08-01  25000.0 2012-07-01 15:31:06   \n",
       "79849          Music      USD 2015-10-17  50000.0 2015-09-02 15:00:28   \n",
       "\n",
       "         pledged       state  backers country  usd pledged  usd_pledged_real  \\\n",
       "98230   15321.00  successful       44      US     15321.00          15321.00   \n",
       "344055  16467.00  successful      515      FR       775.46          18436.37   \n",
       "348998  11765.44  successful      159      US     11765.44          11765.44   \n",
       "186246  25385.00  successful       95      US     25385.00          25385.00   \n",
       "79849   59654.75  successful      666      US     59654.75          59654.75   \n",
       "\n",
       "        usd_goal_real duration  \n",
       "98230        15000.00    23-37  \n",
       "344055       16793.93    23-37  \n",
       "348998       11027.00    38-52  \n",
       "186246       25000.00    23-37  \n",
       "79849        50000.00    38-52  "
      ]
     },
     "execution_count": 104,
     "metadata": {},
     "output_type": "execute_result"
    }
   ],
   "source": [
    "df3gs.sample(5)"
   ]
  },
  {
   "cell_type": "code",
   "execution_count": 105,
   "metadata": {
    "collapsed": true
   },
   "outputs": [
    {
     "data": {
      "text/html": [
       "<div>\n",
       "<style scoped>\n",
       "    .dataframe tbody tr th:only-of-type {\n",
       "        vertical-align: middle;\n",
       "    }\n",
       "\n",
       "    .dataframe tbody tr th {\n",
       "        vertical-align: top;\n",
       "    }\n",
       "\n",
       "    .dataframe thead th {\n",
       "        text-align: right;\n",
       "    }\n",
       "</style>\n",
       "<table border=\"1\" class=\"dataframe\">\n",
       "  <thead>\n",
       "    <tr style=\"text-align: right;\">\n",
       "      <th></th>\n",
       "      <th>ID</th>\n",
       "      <th>name</th>\n",
       "      <th>category</th>\n",
       "      <th>main_category</th>\n",
       "      <th>currency</th>\n",
       "      <th>deadline</th>\n",
       "      <th>goal</th>\n",
       "      <th>launched</th>\n",
       "      <th>pledged</th>\n",
       "      <th>state</th>\n",
       "      <th>backers</th>\n",
       "      <th>country</th>\n",
       "      <th>usd pledged</th>\n",
       "      <th>usd_pledged_real</th>\n",
       "      <th>usd_goal_real</th>\n",
       "      <th>duration</th>\n",
       "    </tr>\n",
       "  </thead>\n",
       "  <tbody>\n",
       "    <tr>\n",
       "      <th>154</th>\n",
       "      <td>1000629643</td>\n",
       "      <td>ODIN: Android 'Smart' Projector to Carry in Yo...</td>\n",
       "      <td>Hardware</td>\n",
       "      <td>Technology</td>\n",
       "      <td>USD</td>\n",
       "      <td>2014-07-08</td>\n",
       "      <td>250000.0</td>\n",
       "      <td>2014-05-28 13:54:18</td>\n",
       "      <td>268192.00</td>\n",
       "      <td>successful</td>\n",
       "      <td>561</td>\n",
       "      <td>US</td>\n",
       "      <td>268192.00</td>\n",
       "      <td>268192.00</td>\n",
       "      <td>250000.00</td>\n",
       "      <td>38-52</td>\n",
       "    </tr>\n",
       "    <tr>\n",
       "      <th>330</th>\n",
       "      <td>1001502333</td>\n",
       "      <td>Pimax: The World's First 8K VR Headset</td>\n",
       "      <td>Hardware</td>\n",
       "      <td>Technology</td>\n",
       "      <td>USD</td>\n",
       "      <td>2017-11-03</td>\n",
       "      <td>200000.0</td>\n",
       "      <td>2017-09-19 19:02:23</td>\n",
       "      <td>4236618.49</td>\n",
       "      <td>successful</td>\n",
       "      <td>5946</td>\n",
       "      <td>US</td>\n",
       "      <td>608194.00</td>\n",
       "      <td>4236618.49</td>\n",
       "      <td>200000.00</td>\n",
       "      <td>38-52</td>\n",
       "    </tr>\n",
       "    <tr>\n",
       "      <th>932</th>\n",
       "      <td>1004668657</td>\n",
       "      <td>Moment: Make Your iPhone 7 A Better Camera</td>\n",
       "      <td>Product Design</td>\n",
       "      <td>Design</td>\n",
       "      <td>USD</td>\n",
       "      <td>2017-04-08</td>\n",
       "      <td>500000.0</td>\n",
       "      <td>2017-02-07 17:50:13</td>\n",
       "      <td>767897.09</td>\n",
       "      <td>successful</td>\n",
       "      <td>5149</td>\n",
       "      <td>US</td>\n",
       "      <td>269.00</td>\n",
       "      <td>767897.09</td>\n",
       "      <td>500000.00</td>\n",
       "      <td>53-67</td>\n",
       "    </tr>\n",
       "    <tr>\n",
       "      <th>1185</th>\n",
       "      <td>1006008989</td>\n",
       "      <td>War for the Overworld</td>\n",
       "      <td>Video Games</td>\n",
       "      <td>Games</td>\n",
       "      <td>GBP</td>\n",
       "      <td>2013-01-03</td>\n",
       "      <td>150000.0</td>\n",
       "      <td>2012-11-29 19:11:23</td>\n",
       "      <td>211371.50</td>\n",
       "      <td>successful</td>\n",
       "      <td>8351</td>\n",
       "      <td>GB</td>\n",
       "      <td>338527.51</td>\n",
       "      <td>338589.87</td>\n",
       "      <td>240280.65</td>\n",
       "      <td>23-37</td>\n",
       "    </tr>\n",
       "    <tr>\n",
       "      <th>1783</th>\n",
       "      <td>1009154287</td>\n",
       "      <td>ZIPPELIN: An inflatable, one-of-a-kind travel ...</td>\n",
       "      <td>Product Design</td>\n",
       "      <td>Design</td>\n",
       "      <td>EUR</td>\n",
       "      <td>2017-10-12</td>\n",
       "      <td>100000.0</td>\n",
       "      <td>2017-09-12 00:00:09</td>\n",
       "      <td>489019.45</td>\n",
       "      <td>successful</td>\n",
       "      <td>1071</td>\n",
       "      <td>DE</td>\n",
       "      <td>148197.14</td>\n",
       "      <td>577532.01</td>\n",
       "      <td>118100.01</td>\n",
       "      <td>23-37</td>\n",
       "    </tr>\n",
       "  </tbody>\n",
       "</table>\n",
       "</div>"
      ],
      "text/plain": [
       "              ID                                               name  \\\n",
       "154   1000629643  ODIN: Android 'Smart' Projector to Carry in Yo...   \n",
       "330   1001502333             Pimax: The World's First 8K VR Headset   \n",
       "932   1004668657         Moment: Make Your iPhone 7 A Better Camera   \n",
       "1185  1006008989                              War for the Overworld   \n",
       "1783  1009154287  ZIPPELIN: An inflatable, one-of-a-kind travel ...   \n",
       "\n",
       "            category main_category currency   deadline      goal  \\\n",
       "154         Hardware    Technology      USD 2014-07-08  250000.0   \n",
       "330         Hardware    Technology      USD 2017-11-03  200000.0   \n",
       "932   Product Design        Design      USD 2017-04-08  500000.0   \n",
       "1185     Video Games         Games      GBP 2013-01-03  150000.0   \n",
       "1783  Product Design        Design      EUR 2017-10-12  100000.0   \n",
       "\n",
       "                launched     pledged       state  backers country  \\\n",
       "154  2014-05-28 13:54:18   268192.00  successful      561      US   \n",
       "330  2017-09-19 19:02:23  4236618.49  successful     5946      US   \n",
       "932  2017-02-07 17:50:13   767897.09  successful     5149      US   \n",
       "1185 2012-11-29 19:11:23   211371.50  successful     8351      GB   \n",
       "1783 2017-09-12 00:00:09   489019.45  successful     1071      DE   \n",
       "\n",
       "      usd pledged  usd_pledged_real  usd_goal_real duration  \n",
       "154     268192.00         268192.00      250000.00    38-52  \n",
       "330     608194.00        4236618.49      200000.00    38-52  \n",
       "932        269.00         767897.09      500000.00    53-67  \n",
       "1185    338527.51         338589.87      240280.65    23-37  \n",
       "1783    148197.14         577532.01      118100.01    23-37  "
      ]
     },
     "execution_count": 105,
     "metadata": {},
     "output_type": "execute_result"
    }
   ],
   "source": [
    "df4gs.head()"
   ]
  },
  {
   "cell_type": "code",
   "execution_count": 106,
   "metadata": {},
   "outputs": [
    {
     "data": {
      "text/plain": [
       "(29847, 75776, 27598, 735)"
      ]
     },
     "execution_count": 106,
     "metadata": {},
     "output_type": "execute_result"
    }
   ],
   "source": [
    "len(df1gs),len(df2gs),len(df3gs),len(df4gs)"
   ]
  },
  {
   "cell_type": "code",
   "execution_count": 107,
   "metadata": {},
   "outputs": [
    {
     "data": {
      "text/html": [
       "<div>\n",
       "<style scoped>\n",
       "    .dataframe tbody tr th:only-of-type {\n",
       "        vertical-align: middle;\n",
       "    }\n",
       "\n",
       "    .dataframe tbody tr th {\n",
       "        vertical-align: top;\n",
       "    }\n",
       "\n",
       "    .dataframe thead th {\n",
       "        text-align: right;\n",
       "    }\n",
       "</style>\n",
       "<table border=\"1\" class=\"dataframe\">\n",
       "  <thead>\n",
       "    <tr style=\"text-align: right;\">\n",
       "      <th></th>\n",
       "      <th>Group</th>\n",
       "      <th>SuccCampaigns</th>\n",
       "    </tr>\n",
       "  </thead>\n",
       "  <tbody>\n",
       "    <tr>\n",
       "      <th>0</th>\n",
       "      <td>1</td>\n",
       "      <td>29847</td>\n",
       "    </tr>\n",
       "    <tr>\n",
       "      <th>1</th>\n",
       "      <td>2</td>\n",
       "      <td>75776</td>\n",
       "    </tr>\n",
       "    <tr>\n",
       "      <th>2</th>\n",
       "      <td>3</td>\n",
       "      <td>27598</td>\n",
       "    </tr>\n",
       "    <tr>\n",
       "      <th>3</th>\n",
       "      <td>4</td>\n",
       "      <td>735</td>\n",
       "    </tr>\n",
       "  </tbody>\n",
       "</table>\n",
       "</div>"
      ],
      "text/plain": [
       "  Group  SuccCampaigns\n",
       "0     1          29847\n",
       "1     2          75776\n",
       "2     3          27598\n",
       "3     4            735"
      ]
     },
     "execution_count": 107,
     "metadata": {},
     "output_type": "execute_result"
    }
   ],
   "source": [
    "dfGS = pd.DataFrame({\"Group\":['1','2','3','4'],\"SuccCampaigns\":[len(df1gs),len(df2gs),len(df3gs),len(df4gs)]})\n",
    "dfGS"
   ]
  },
  {
   "cell_type": "code",
   "execution_count": 108,
   "metadata": {},
   "outputs": [
    {
     "data": {
      "text/plain": [
       "<AxesSubplot:>"
      ]
     },
     "execution_count": 108,
     "metadata": {},
     "output_type": "execute_result"
    },
    {
     "data": {
      "image/png": "[encoded data removed]",
      "text/plain": [
       "<Figure size 432x288 with 1 Axes>"
      ]
     },
     "metadata": {
      "needs_background": "light"
     },
     "output_type": "display_data"
    }
   ],
   "source": [
    "dfGS.plot(kind='bar')"
   ]
  },
  {
   "cell_type": "code",
   "execution_count": 109,
   "metadata": {},
   "outputs": [
    {
     "data": {
      "text/html": [
       "<div>\n",
       "<style scoped>\n",
       "    .dataframe tbody tr th:only-of-type {\n",
       "        vertical-align: middle;\n",
       "    }\n",
       "\n",
       "    .dataframe tbody tr th {\n",
       "        vertical-align: top;\n",
       "    }\n",
       "\n",
       "    .dataframe thead th {\n",
       "        text-align: right;\n",
       "    }\n",
       "</style>\n",
       "<table border=\"1\" class=\"dataframe\">\n",
       "  <thead>\n",
       "    <tr style=\"text-align: right;\">\n",
       "      <th></th>\n",
       "      <th>SuccCampaigns</th>\n",
       "    </tr>\n",
       "    <tr>\n",
       "      <th>Group</th>\n",
       "      <th></th>\n",
       "    </tr>\n",
       "  </thead>\n",
       "  <tbody>\n",
       "    <tr>\n",
       "      <th>1</th>\n",
       "      <td>29847</td>\n",
       "    </tr>\n",
       "    <tr>\n",
       "      <th>2</th>\n",
       "      <td>75776</td>\n",
       "    </tr>\n",
       "    <tr>\n",
       "      <th>3</th>\n",
       "      <td>27598</td>\n",
       "    </tr>\n",
       "    <tr>\n",
       "      <th>4</th>\n",
       "      <td>735</td>\n",
       "    </tr>\n",
       "  </tbody>\n",
       "</table>\n",
       "</div>"
      ],
      "text/plain": [
       "       SuccCampaigns\n",
       "Group               \n",
       "1              29847\n",
       "2              75776\n",
       "3              27598\n",
       "4                735"
      ]
     },
     "execution_count": 109,
     "metadata": {},
     "output_type": "execute_result"
    }
   ],
   "source": [
    "dfGS1 = dfGS.set_index('Group')\n",
    "dfGS1"
   ]
  },
  {
   "cell_type": "code",
   "execution_count": 110,
   "metadata": {},
   "outputs": [
    {
     "data": {
      "text/html": [
       "<div>\n",
       "<style scoped>\n",
       "    .dataframe tbody tr th:only-of-type {\n",
       "        vertical-align: middle;\n",
       "    }\n",
       "\n",
       "    .dataframe tbody tr th {\n",
       "        vertical-align: top;\n",
       "    }\n",
       "\n",
       "    .dataframe thead th {\n",
       "        text-align: right;\n",
       "    }\n",
       "</style>\n",
       "<table border=\"1\" class=\"dataframe\">\n",
       "  <thead>\n",
       "    <tr style=\"text-align: right;\">\n",
       "      <th></th>\n",
       "      <th>Campaigns</th>\n",
       "      <th>TPctg</th>\n",
       "    </tr>\n",
       "    <tr>\n",
       "      <th>Group</th>\n",
       "      <th></th>\n",
       "      <th></th>\n",
       "    </tr>\n",
       "  </thead>\n",
       "  <tbody>\n",
       "    <tr>\n",
       "      <th>1</th>\n",
       "      <td>60891</td>\n",
       "      <td>16.080908</td>\n",
       "    </tr>\n",
       "    <tr>\n",
       "      <th>2</th>\n",
       "      <td>193347</td>\n",
       "      <td>51.061655</td>\n",
       "    </tr>\n",
       "    <tr>\n",
       "      <th>3</th>\n",
       "      <td>111732</td>\n",
       "      <td>29.507677</td>\n",
       "    </tr>\n",
       "    <tr>\n",
       "      <th>4</th>\n",
       "      <td>12684</td>\n",
       "      <td>3.349760</td>\n",
       "    </tr>\n",
       "  </tbody>\n",
       "</table>\n",
       "</div>"
      ],
      "text/plain": [
       "       Campaigns      TPctg\n",
       "Group                      \n",
       "1          60891  16.080908\n",
       "2         193347  51.061655\n",
       "3         111732  29.507677\n",
       "4          12684   3.349760"
      ]
     },
     "execution_count": 110,
     "metadata": {},
     "output_type": "execute_result"
    }
   ],
   "source": [
    "dfG1"
   ]
  },
  {
   "cell_type": "code",
   "execution_count": 111,
   "metadata": {},
   "outputs": [
    {
     "data": {
      "text/html": [
       "<div>\n",
       "<style scoped>\n",
       "    .dataframe tbody tr th:only-of-type {\n",
       "        vertical-align: middle;\n",
       "    }\n",
       "\n",
       "    .dataframe tbody tr th {\n",
       "        vertical-align: top;\n",
       "    }\n",
       "\n",
       "    .dataframe thead th {\n",
       "        text-align: right;\n",
       "    }\n",
       "</style>\n",
       "<table border=\"1\" class=\"dataframe\">\n",
       "  <thead>\n",
       "    <tr style=\"text-align: right;\">\n",
       "      <th></th>\n",
       "      <th>Campaigns</th>\n",
       "      <th>TPctg</th>\n",
       "      <th>SuccCampaigns</th>\n",
       "    </tr>\n",
       "    <tr>\n",
       "      <th>Group</th>\n",
       "      <th></th>\n",
       "      <th></th>\n",
       "      <th></th>\n",
       "    </tr>\n",
       "  </thead>\n",
       "  <tbody>\n",
       "    <tr>\n",
       "      <th>1</th>\n",
       "      <td>60891</td>\n",
       "      <td>16.080908</td>\n",
       "      <td>29847</td>\n",
       "    </tr>\n",
       "    <tr>\n",
       "      <th>2</th>\n",
       "      <td>193347</td>\n",
       "      <td>51.061655</td>\n",
       "      <td>75776</td>\n",
       "    </tr>\n",
       "    <tr>\n",
       "      <th>3</th>\n",
       "      <td>111732</td>\n",
       "      <td>29.507677</td>\n",
       "      <td>27598</td>\n",
       "    </tr>\n",
       "    <tr>\n",
       "      <th>4</th>\n",
       "      <td>12684</td>\n",
       "      <td>3.349760</td>\n",
       "      <td>735</td>\n",
       "    </tr>\n",
       "  </tbody>\n",
       "</table>\n",
       "</div>"
      ],
      "text/plain": [
       "       Campaigns      TPctg  SuccCampaigns\n",
       "Group                                     \n",
       "1          60891  16.080908          29847\n",
       "2         193347  51.061655          75776\n",
       "3         111732  29.507677          27598\n",
       "4          12684   3.349760            735"
      ]
     },
     "execution_count": 111,
     "metadata": {},
     "output_type": "execute_result"
    }
   ],
   "source": [
    "GS_ratio = dfG1.join(dfGS1)\n",
    "GS_ratio"
   ]
  },
  {
   "cell_type": "markdown",
   "metadata": {},
   "source": [
    "#### Let's check out the success ratio between Successful Campaigns vs the qty of Campaigns within the segmented Goal Group"
   ]
  },
  {
   "cell_type": "code",
   "execution_count": 112,
   "metadata": {},
   "outputs": [
    {
     "data": {
      "text/html": [
       "<div>\n",
       "<style scoped>\n",
       "    .dataframe tbody tr th:only-of-type {\n",
       "        vertical-align: middle;\n",
       "    }\n",
       "\n",
       "    .dataframe tbody tr th {\n",
       "        vertical-align: top;\n",
       "    }\n",
       "\n",
       "    .dataframe thead th {\n",
       "        text-align: right;\n",
       "    }\n",
       "</style>\n",
       "<table border=\"1\" class=\"dataframe\">\n",
       "  <thead>\n",
       "    <tr style=\"text-align: right;\">\n",
       "      <th></th>\n",
       "      <th>Campaigns</th>\n",
       "      <th>TPctg</th>\n",
       "      <th>SuccCampaigns</th>\n",
       "      <th>ratio</th>\n",
       "    </tr>\n",
       "    <tr>\n",
       "      <th>Group</th>\n",
       "      <th></th>\n",
       "      <th></th>\n",
       "      <th></th>\n",
       "      <th></th>\n",
       "    </tr>\n",
       "  </thead>\n",
       "  <tbody>\n",
       "    <tr>\n",
       "      <th>1</th>\n",
       "      <td>60891</td>\n",
       "      <td>16.080908</td>\n",
       "      <td>29847</td>\n",
       "      <td>0.490171</td>\n",
       "    </tr>\n",
       "    <tr>\n",
       "      <th>2</th>\n",
       "      <td>193347</td>\n",
       "      <td>51.061655</td>\n",
       "      <td>75776</td>\n",
       "      <td>0.391917</td>\n",
       "    </tr>\n",
       "    <tr>\n",
       "      <th>3</th>\n",
       "      <td>111732</td>\n",
       "      <td>29.507677</td>\n",
       "      <td>27598</td>\n",
       "      <td>0.247002</td>\n",
       "    </tr>\n",
       "    <tr>\n",
       "      <th>4</th>\n",
       "      <td>12684</td>\n",
       "      <td>3.349760</td>\n",
       "      <td>735</td>\n",
       "      <td>0.057947</td>\n",
       "    </tr>\n",
       "  </tbody>\n",
       "</table>\n",
       "</div>"
      ],
      "text/plain": [
       "       Campaigns      TPctg  SuccCampaigns     ratio\n",
       "Group                                               \n",
       "1          60891  16.080908          29847  0.490171\n",
       "2         193347  51.061655          75776  0.391917\n",
       "3         111732  29.507677          27598  0.247002\n",
       "4          12684   3.349760            735  0.057947"
      ]
     },
     "execution_count": 112,
     "metadata": {},
     "output_type": "execute_result"
    }
   ],
   "source": [
    "GS_ratio['ratio'] = GS_ratio['SuccCampaigns']/GS_ratio['Campaigns']\n",
    "GS_ratio"
   ]
  },
  {
   "cell_type": "code",
   "execution_count": 113,
   "metadata": {},
   "outputs": [
    {
     "data": {
      "text/plain": [
       "<AxesSubplot:xlabel='Group'>"
      ]
     },
     "execution_count": 113,
     "metadata": {},
     "output_type": "execute_result"
    },
    {
     "data": {
      "image/png": "[encoded data removed]",
      "text/plain": [
       "<Figure size 432x288 with 1 Axes>"
      ]
     },
     "metadata": {
      "needs_background": "light"
     },
     "output_type": "display_data"
    }
   ],
   "source": [
    "GS_ratio.reset_index().plot(x='Group', y='ratio', kind = 'bar')"
   ]
  },
  {
   "cell_type": "code",
   "execution_count": 114,
   "metadata": {},
   "outputs": [
    {
     "data": {
      "text/plain": [
       "<AxesSubplot:xlabel='Group'>"
      ]
     },
     "execution_count": 114,
     "metadata": {},
     "output_type": "execute_result"
    },
    {
     "data": {
      "image/png": "[encoded data removed]",
      "text/plain": [
       "<Figure size 432x288 with 1 Axes>"
      ]
     },
     "metadata": {
      "needs_background": "light"
     },
     "output_type": "display_data"
    }
   ],
   "source": [
    "GS_ratio.reset_index().plot(x='Group', y='Campaigns', kind = 'bar')"
   ]
  },
  {
   "cell_type": "code",
   "execution_count": 115,
   "metadata": {},
   "outputs": [
    {
     "data": {
      "text/html": [
       "<div>\n",
       "<style scoped>\n",
       "    .dataframe tbody tr th:only-of-type {\n",
       "        vertical-align: middle;\n",
       "    }\n",
       "\n",
       "    .dataframe tbody tr th {\n",
       "        vertical-align: top;\n",
       "    }\n",
       "\n",
       "    .dataframe thead th {\n",
       "        text-align: right;\n",
       "    }\n",
       "</style>\n",
       "<table border=\"1\" class=\"dataframe\">\n",
       "  <thead>\n",
       "    <tr style=\"text-align: right;\">\n",
       "      <th></th>\n",
       "      <th>Campaigns</th>\n",
       "      <th>TPctg</th>\n",
       "      <th>SuccCampaigns</th>\n",
       "      <th>ratio</th>\n",
       "    </tr>\n",
       "    <tr>\n",
       "      <th>Group</th>\n",
       "      <th></th>\n",
       "      <th></th>\n",
       "      <th></th>\n",
       "      <th></th>\n",
       "    </tr>\n",
       "  </thead>\n",
       "  <tbody>\n",
       "    <tr>\n",
       "      <th>1</th>\n",
       "      <td>60891</td>\n",
       "      <td>16.080908</td>\n",
       "      <td>29847</td>\n",
       "      <td>0.490171</td>\n",
       "    </tr>\n",
       "    <tr>\n",
       "      <th>2</th>\n",
       "      <td>193347</td>\n",
       "      <td>51.061655</td>\n",
       "      <td>75776</td>\n",
       "      <td>0.391917</td>\n",
       "    </tr>\n",
       "    <tr>\n",
       "      <th>3</th>\n",
       "      <td>111732</td>\n",
       "      <td>29.507677</td>\n",
       "      <td>27598</td>\n",
       "      <td>0.247002</td>\n",
       "    </tr>\n",
       "    <tr>\n",
       "      <th>4</th>\n",
       "      <td>12684</td>\n",
       "      <td>3.349760</td>\n",
       "      <td>735</td>\n",
       "      <td>0.057947</td>\n",
       "    </tr>\n",
       "  </tbody>\n",
       "</table>\n",
       "</div>"
      ],
      "text/plain": [
       "       Campaigns      TPctg  SuccCampaigns     ratio\n",
       "Group                                               \n",
       "1          60891  16.080908          29847  0.490171\n",
       "2         193347  51.061655          75776  0.391917\n",
       "3         111732  29.507677          27598  0.247002\n",
       "4          12684   3.349760            735  0.057947"
      ]
     },
     "execution_count": 115,
     "metadata": {},
     "output_type": "execute_result"
    }
   ],
   "source": [
    "GS_ratio2 = GS_ratio\n",
    "#df.to_numpy(GS_ratio2)\n",
    "GS_ratio2"
   ]
  },
  {
   "cell_type": "code",
   "execution_count": 116,
   "metadata": {},
   "outputs": [
    {
     "data": {
      "text/html": [
       "<div>\n",
       "<style scoped>\n",
       "    .dataframe tbody tr th:only-of-type {\n",
       "        vertical-align: middle;\n",
       "    }\n",
       "\n",
       "    .dataframe tbody tr th {\n",
       "        vertical-align: top;\n",
       "    }\n",
       "\n",
       "    .dataframe thead th {\n",
       "        text-align: right;\n",
       "    }\n",
       "</style>\n",
       "<table border=\"1\" class=\"dataframe\">\n",
       "  <thead>\n",
       "    <tr style=\"text-align: right;\">\n",
       "      <th></th>\n",
       "      <th>Group</th>\n",
       "      <th>Campaigns</th>\n",
       "      <th>TPctg</th>\n",
       "      <th>SuccCampaigns</th>\n",
       "      <th>ratio</th>\n",
       "    </tr>\n",
       "  </thead>\n",
       "  <tbody>\n",
       "    <tr>\n",
       "      <th>0</th>\n",
       "      <td>1</td>\n",
       "      <td>60891</td>\n",
       "      <td>16.080908</td>\n",
       "      <td>29847</td>\n",
       "      <td>0.490171</td>\n",
       "    </tr>\n",
       "    <tr>\n",
       "      <th>1</th>\n",
       "      <td>2</td>\n",
       "      <td>193347</td>\n",
       "      <td>51.061655</td>\n",
       "      <td>75776</td>\n",
       "      <td>0.391917</td>\n",
       "    </tr>\n",
       "    <tr>\n",
       "      <th>2</th>\n",
       "      <td>3</td>\n",
       "      <td>111732</td>\n",
       "      <td>29.507677</td>\n",
       "      <td>27598</td>\n",
       "      <td>0.247002</td>\n",
       "    </tr>\n",
       "    <tr>\n",
       "      <th>3</th>\n",
       "      <td>4</td>\n",
       "      <td>12684</td>\n",
       "      <td>3.349760</td>\n",
       "      <td>735</td>\n",
       "      <td>0.057947</td>\n",
       "    </tr>\n",
       "  </tbody>\n",
       "</table>\n",
       "</div>"
      ],
      "text/plain": [
       "  Group  Campaigns      TPctg  SuccCampaigns     ratio\n",
       "0     1      60891  16.080908          29847  0.490171\n",
       "1     2     193347  51.061655          75776  0.391917\n",
       "2     3     111732  29.507677          27598  0.247002\n",
       "3     4      12684   3.349760            735  0.057947"
      ]
     },
     "execution_count": 116,
     "metadata": {},
     "output_type": "execute_result"
    }
   ],
   "source": [
    "GS_ratio2 = GS_ratio2.reset_index()\n",
    "GS_ratio2\n",
    "#plot(x='Group', y='Campaigns', kind = 'pie', label = \"GS_ratio\")"
   ]
  },
  {
   "cell_type": "code",
   "execution_count": 117,
   "metadata": {},
   "outputs": [
    {
     "data": {
      "text/plain": [
       "Text(0.5, 1.08, 'Successful Campaigns')"
      ]
     },
     "execution_count": 117,
     "metadata": {},
     "output_type": "execute_result"
    },
    {
     "data": {
      "image/png": "[encoded data removed]",
      "text/plain": [
       "<Figure size 432x432 with 1 Axes>"
      ]
     },
     "metadata": {},
     "output_type": "display_data"
    }
   ],
   "source": [
    "GS_ratio.plot.pie(y = 'SuccCampaigns', figsize = (6,6))\n",
    "plt.title('Successful Campaigns', fontsize = 16, y=1.08)"
   ]
  },
  {
   "cell_type": "code",
   "execution_count": 119,
   "metadata": {},
   "outputs": [
    {
     "data": {
      "text/plain": [
       "Text(0.5, 1.08, 'Ratio Successful Campaigns')"
      ]
     },
     "execution_count": 119,
     "metadata": {},
     "output_type": "execute_result"
    },
    {
     "data": {
      "image/png": "[encoded data removed]",
      "text/plain": [
       "<Figure size 432x432 with 1 Axes>"
      ]
     },
     "metadata": {},
     "output_type": "display_data"
    }
   ],
   "source": [
    "GS_ratio.plot.pie(y = 'ratio', figsize = (6,6), label = 'Ratio Successful Campaigns',\n",
    "                        fontsize = 15)\n",
    "plt.title('Ratio Successful Campaigns', fontsize = 16, y=1.08)"
   ]
  },
  {
   "cell_type": "markdown",
   "metadata": {},
   "source": [
    "### a. Distribution of (goal- raised amount)"
   ]
  },
  {
   "cell_type": "code",
   "execution_count": 121,
   "metadata": {},
   "outputs": [
    {
     "data": {
      "text/html": [
       "<div>\n",
       "<style scoped>\n",
       "    .dataframe tbody tr th:only-of-type {\n",
       "        vertical-align: middle;\n",
       "    }\n",
       "\n",
       "    .dataframe tbody tr th {\n",
       "        vertical-align: top;\n",
       "    }\n",
       "\n",
       "    .dataframe thead th {\n",
       "        text-align: right;\n",
       "    }\n",
       "</style>\n",
       "<table border=\"1\" class=\"dataframe\">\n",
       "  <thead>\n",
       "    <tr style=\"text-align: right;\">\n",
       "      <th></th>\n",
       "      <th>ID</th>\n",
       "      <th>name</th>\n",
       "      <th>category</th>\n",
       "      <th>main_category</th>\n",
       "      <th>currency</th>\n",
       "      <th>deadline</th>\n",
       "      <th>goal</th>\n",
       "      <th>launched</th>\n",
       "      <th>pledged</th>\n",
       "      <th>state</th>\n",
       "      <th>backers</th>\n",
       "      <th>country</th>\n",
       "      <th>usd pledged</th>\n",
       "      <th>usd_pledged_real</th>\n",
       "      <th>usd_goal_real</th>\n",
       "      <th>duration</th>\n",
       "    </tr>\n",
       "  </thead>\n",
       "  <tbody>\n",
       "    <tr>\n",
       "      <th>304489</th>\n",
       "      <td>620302213</td>\n",
       "      <td>LOVELAND Round 6: A Force More Powerful</td>\n",
       "      <td>Conceptual Art</td>\n",
       "      <td>Art</td>\n",
       "      <td>USD</td>\n",
       "      <td>2009-12-04</td>\n",
       "      <td>1.000000e-02</td>\n",
       "      <td>2009-11-25 07:54:49</td>\n",
       "      <td>100.0</td>\n",
       "      <td>successful</td>\n",
       "      <td>6</td>\n",
       "      <td>US</td>\n",
       "      <td>100.00</td>\n",
       "      <td>100.00</td>\n",
       "      <td>1.000000e-02</td>\n",
       "      <td>8-22</td>\n",
       "    </tr>\n",
       "    <tr>\n",
       "      <th>317771</th>\n",
       "      <td>688564643</td>\n",
       "      <td>Word-of-mouth publishing: get \"Corruptions\" ou...</td>\n",
       "      <td>Fiction</td>\n",
       "      <td>Publishing</td>\n",
       "      <td>USD</td>\n",
       "      <td>2011-12-13</td>\n",
       "      <td>1.000000e-02</td>\n",
       "      <td>2011-11-07 16:46:52</td>\n",
       "      <td>0.0</td>\n",
       "      <td>canceled</td>\n",
       "      <td>0</td>\n",
       "      <td>US</td>\n",
       "      <td>0.00</td>\n",
       "      <td>0.00</td>\n",
       "      <td>1.000000e-02</td>\n",
       "      <td>23-37</td>\n",
       "    </tr>\n",
       "    <tr>\n",
       "      <th>370401</th>\n",
       "      <td>9572984</td>\n",
       "      <td>Nana</td>\n",
       "      <td>Shorts</td>\n",
       "      <td>Film &amp; Video</td>\n",
       "      <td>USD</td>\n",
       "      <td>2012-03-16</td>\n",
       "      <td>1.500000e-01</td>\n",
       "      <td>2012-01-25 07:23:19</td>\n",
       "      <td>0.0</td>\n",
       "      <td>failed</td>\n",
       "      <td>0</td>\n",
       "      <td>US</td>\n",
       "      <td>0.00</td>\n",
       "      <td>0.00</td>\n",
       "      <td>1.500000e-01</td>\n",
       "      <td>38-52</td>\n",
       "    </tr>\n",
       "    <tr>\n",
       "      <th>74446</th>\n",
       "      <td>1379346088</td>\n",
       "      <td>Bug's Big Adventure: Mexico Edition</td>\n",
       "      <td>Art</td>\n",
       "      <td>Art</td>\n",
       "      <td>MXN</td>\n",
       "      <td>2016-11-12</td>\n",
       "      <td>1.000000e+01</td>\n",
       "      <td>2016-11-11 16:30:00</td>\n",
       "      <td>335.0</td>\n",
       "      <td>successful</td>\n",
       "      <td>7</td>\n",
       "      <td>MX</td>\n",
       "      <td>18.05</td>\n",
       "      <td>16.41</td>\n",
       "      <td>4.900000e-01</td>\n",
       "      <td>0-7</td>\n",
       "    </tr>\n",
       "    <tr>\n",
       "      <th>226171</th>\n",
       "      <td>219760504</td>\n",
       "      <td>RocknRoll NoisePollution</td>\n",
       "      <td>Documentary</td>\n",
       "      <td>Film &amp; Video</td>\n",
       "      <td>USD</td>\n",
       "      <td>2011-07-19</td>\n",
       "      <td>5.000000e-01</td>\n",
       "      <td>2011-07-12 15:59:39</td>\n",
       "      <td>0.0</td>\n",
       "      <td>failed</td>\n",
       "      <td>0</td>\n",
       "      <td>US</td>\n",
       "      <td>0.00</td>\n",
       "      <td>0.00</td>\n",
       "      <td>5.000000e-01</td>\n",
       "      <td>0-7</td>\n",
       "    </tr>\n",
       "    <tr>\n",
       "      <th>...</th>\n",
       "      <td>...</td>\n",
       "      <td>...</td>\n",
       "      <td>...</td>\n",
       "      <td>...</td>\n",
       "      <td>...</td>\n",
       "      <td>...</td>\n",
       "      <td>...</td>\n",
       "      <td>...</td>\n",
       "      <td>...</td>\n",
       "      <td>...</td>\n",
       "      <td>...</td>\n",
       "      <td>...</td>\n",
       "      <td>...</td>\n",
       "      <td>...</td>\n",
       "      <td>...</td>\n",
       "      <td>...</td>\n",
       "    </tr>\n",
       "    <tr>\n",
       "      <th>226161</th>\n",
       "      <td>219702078</td>\n",
       "      <td>Kitchen from Austria in Switzerland</td>\n",
       "      <td>Restaurants</td>\n",
       "      <td>Food</td>\n",
       "      <td>CHF</td>\n",
       "      <td>2015-10-05</td>\n",
       "      <td>1.000000e+08</td>\n",
       "      <td>2015-08-06 19:12:10</td>\n",
       "      <td>0.0</td>\n",
       "      <td>failed</td>\n",
       "      <td>0</td>\n",
       "      <td>CH</td>\n",
       "      <td>0.00</td>\n",
       "      <td>0.00</td>\n",
       "      <td>1.040572e+08</td>\n",
       "      <td>53-67</td>\n",
       "    </tr>\n",
       "    <tr>\n",
       "      <th>222208</th>\n",
       "      <td>2132015082</td>\n",
       "      <td>DER NEANDERTALER (Kinofilm mit Starbesetzung i...</td>\n",
       "      <td>Movie Theaters</td>\n",
       "      <td>Film &amp; Video</td>\n",
       "      <td>EUR</td>\n",
       "      <td>2017-03-14</td>\n",
       "      <td>1.000000e+08</td>\n",
       "      <td>2017-01-13 20:08:41</td>\n",
       "      <td>36.0</td>\n",
       "      <td>failed</td>\n",
       "      <td>2</td>\n",
       "      <td>DE</td>\n",
       "      <td>1.06</td>\n",
       "      <td>38.65</td>\n",
       "      <td>1.073699e+08</td>\n",
       "      <td>53-67</td>\n",
       "    </tr>\n",
       "    <tr>\n",
       "      <th>367928</th>\n",
       "      <td>944541075</td>\n",
       "      <td>Hydroponic's Skyscraper(un gratte-ciel hydropo...</td>\n",
       "      <td>Technology</td>\n",
       "      <td>Technology</td>\n",
       "      <td>EUR</td>\n",
       "      <td>2015-10-24</td>\n",
       "      <td>1.000000e+08</td>\n",
       "      <td>2015-08-25 23:52:30</td>\n",
       "      <td>2.0</td>\n",
       "      <td>failed</td>\n",
       "      <td>2</td>\n",
       "      <td>FR</td>\n",
       "      <td>2.29</td>\n",
       "      <td>2.20</td>\n",
       "      <td>1.101698e+08</td>\n",
       "      <td>53-67</td>\n",
       "    </tr>\n",
       "    <tr>\n",
       "      <th>196531</th>\n",
       "      <td>2000749004</td>\n",
       "      <td>A Celtic Lovestory</td>\n",
       "      <td>Drama</td>\n",
       "      <td>Film &amp; Video</td>\n",
       "      <td>GBP</td>\n",
       "      <td>2015-11-30</td>\n",
       "      <td>1.000000e+08</td>\n",
       "      <td>2015-11-17 00:47:15</td>\n",
       "      <td>0.0</td>\n",
       "      <td>failed</td>\n",
       "      <td>0</td>\n",
       "      <td>GB</td>\n",
       "      <td>0.00</td>\n",
       "      <td>0.00</td>\n",
       "      <td>1.513959e+08</td>\n",
       "      <td>8-22</td>\n",
       "    </tr>\n",
       "    <tr>\n",
       "      <th>47803</th>\n",
       "      <td>1243678698</td>\n",
       "      <td>FUCK Potato Salad. Paleo Potato Brownies!</td>\n",
       "      <td>Food</td>\n",
       "      <td>Food</td>\n",
       "      <td>GBP</td>\n",
       "      <td>2014-08-08</td>\n",
       "      <td>9.900000e+07</td>\n",
       "      <td>2014-07-09 00:24:34</td>\n",
       "      <td>0.0</td>\n",
       "      <td>failed</td>\n",
       "      <td>0</td>\n",
       "      <td>GB</td>\n",
       "      <td>0.00</td>\n",
       "      <td>0.00</td>\n",
       "      <td>1.663614e+08</td>\n",
       "      <td>23-37</td>\n",
       "    </tr>\n",
       "  </tbody>\n",
       "</table>\n",
       "<p>378654 rows × 16 columns</p>\n",
       "</div>"
      ],
      "text/plain": [
       "                ID                                               name  \\\n",
       "304489   620302213            LOVELAND Round 6: A Force More Powerful   \n",
       "317771   688564643  Word-of-mouth publishing: get \"Corruptions\" ou...   \n",
       "370401     9572984                                               Nana   \n",
       "74446   1379346088                Bug's Big Adventure: Mexico Edition   \n",
       "226171   219760504                           RocknRoll NoisePollution   \n",
       "...            ...                                                ...   \n",
       "226161   219702078                Kitchen from Austria in Switzerland   \n",
       "222208  2132015082  DER NEANDERTALER (Kinofilm mit Starbesetzung i...   \n",
       "367928   944541075  Hydroponic's Skyscraper(un gratte-ciel hydropo...   \n",
       "196531  2000749004                                 A Celtic Lovestory   \n",
       "47803   1243678698          FUCK Potato Salad. Paleo Potato Brownies!   \n",
       "\n",
       "              category main_category currency   deadline          goal  \\\n",
       "304489  Conceptual Art           Art      USD 2009-12-04  1.000000e-02   \n",
       "317771         Fiction    Publishing      USD 2011-12-13  1.000000e-02   \n",
       "370401          Shorts  Film & Video      USD 2012-03-16  1.500000e-01   \n",
       "74446              Art           Art      MXN 2016-11-12  1.000000e+01   \n",
       "226171     Documentary  Film & Video      USD 2011-07-19  5.000000e-01   \n",
       "...                ...           ...      ...        ...           ...   \n",
       "226161     Restaurants          Food      CHF 2015-10-05  1.000000e+08   \n",
       "222208  Movie Theaters  Film & Video      EUR 2017-03-14  1.000000e+08   \n",
       "367928      Technology    Technology      EUR 2015-10-24  1.000000e+08   \n",
       "196531           Drama  Film & Video      GBP 2015-11-30  1.000000e+08   \n",
       "47803             Food          Food      GBP 2014-08-08  9.900000e+07   \n",
       "\n",
       "                  launched  pledged       state  backers country  usd pledged  \\\n",
       "304489 2009-11-25 07:54:49    100.0  successful        6      US       100.00   \n",
       "317771 2011-11-07 16:46:52      0.0    canceled        0      US         0.00   \n",
       "370401 2012-01-25 07:23:19      0.0      failed        0      US         0.00   \n",
       "74446  2016-11-11 16:30:00    335.0  successful        7      MX        18.05   \n",
       "226171 2011-07-12 15:59:39      0.0      failed        0      US         0.00   \n",
       "...                    ...      ...         ...      ...     ...          ...   \n",
       "226161 2015-08-06 19:12:10      0.0      failed        0      CH         0.00   \n",
       "222208 2017-01-13 20:08:41     36.0      failed        2      DE         1.06   \n",
       "367928 2015-08-25 23:52:30      2.0      failed        2      FR         2.29   \n",
       "196531 2015-11-17 00:47:15      0.0      failed        0      GB         0.00   \n",
       "47803  2014-07-09 00:24:34      0.0      failed        0      GB         0.00   \n",
       "\n",
       "        usd_pledged_real  usd_goal_real duration  \n",
       "304489            100.00   1.000000e-02     8-22  \n",
       "317771              0.00   1.000000e-02    23-37  \n",
       "370401              0.00   1.500000e-01    38-52  \n",
       "74446              16.41   4.900000e-01      0-7  \n",
       "226171              0.00   5.000000e-01      0-7  \n",
       "...                  ...            ...      ...  \n",
       "226161              0.00   1.040572e+08    53-67  \n",
       "222208             38.65   1.073699e+08    53-67  \n",
       "367928              2.20   1.101698e+08    53-67  \n",
       "196531              0.00   1.513959e+08     8-22  \n",
       "47803               0.00   1.663614e+08    23-37  \n",
       "\n",
       "[378654 rows x 16 columns]"
      ]
     },
     "execution_count": 121,
     "metadata": {},
     "output_type": "execute_result"
    }
   ],
   "source": [
    "df >> dfply.arrange('usd_goal_real')"
   ]
  },
  {
   "cell_type": "code",
   "execution_count": 163,
   "metadata": {},
   "outputs": [
    {
     "data": {
      "text/html": [
       "<div>\n",
       "<style scoped>\n",
       "    .dataframe tbody tr th:only-of-type {\n",
       "        vertical-align: middle;\n",
       "    }\n",
       "\n",
       "    .dataframe tbody tr th {\n",
       "        vertical-align: top;\n",
       "    }\n",
       "\n",
       "    .dataframe thead th {\n",
       "        text-align: right;\n",
       "    }\n",
       "</style>\n",
       "<table border=\"1\" class=\"dataframe\">\n",
       "  <thead>\n",
       "    <tr style=\"text-align: right;\">\n",
       "      <th></th>\n",
       "      <th>ID</th>\n",
       "      <th>name</th>\n",
       "      <th>category</th>\n",
       "      <th>main_category</th>\n",
       "      <th>currency</th>\n",
       "      <th>deadline</th>\n",
       "      <th>goal</th>\n",
       "      <th>launched</th>\n",
       "      <th>pledged</th>\n",
       "      <th>state</th>\n",
       "      <th>backers</th>\n",
       "      <th>country</th>\n",
       "      <th>usd pledged</th>\n",
       "      <th>usd_pledged_real</th>\n",
       "      <th>usd_goal_real</th>\n",
       "      <th>duration</th>\n",
       "      <th>diff</th>\n",
       "    </tr>\n",
       "  </thead>\n",
       "  <tbody>\n",
       "    <tr>\n",
       "      <th>0</th>\n",
       "      <td>1000002330</td>\n",
       "      <td>The Songs of Adelaide &amp; Abullah</td>\n",
       "      <td>Poetry</td>\n",
       "      <td>Publishing</td>\n",
       "      <td>GBP</td>\n",
       "      <td>2015-10-09</td>\n",
       "      <td>1000.0</td>\n",
       "      <td>2015-08-11 12:12:28</td>\n",
       "      <td>0.0</td>\n",
       "      <td>failed</td>\n",
       "      <td>0</td>\n",
       "      <td>GB</td>\n",
       "      <td>0.0</td>\n",
       "      <td>0.0</td>\n",
       "      <td>1533.95</td>\n",
       "      <td>53-67</td>\n",
       "      <td>-1533.95</td>\n",
       "    </tr>\n",
       "    <tr>\n",
       "      <th>1</th>\n",
       "      <td>1000003930</td>\n",
       "      <td>Greeting From Earth: ZGAC Arts Capsule For ET</td>\n",
       "      <td>Narrative Film</td>\n",
       "      <td>Film &amp; Video</td>\n",
       "      <td>USD</td>\n",
       "      <td>2017-11-01</td>\n",
       "      <td>30000.0</td>\n",
       "      <td>2017-09-02 04:43:57</td>\n",
       "      <td>2421.0</td>\n",
       "      <td>failed</td>\n",
       "      <td>15</td>\n",
       "      <td>US</td>\n",
       "      <td>100.0</td>\n",
       "      <td>2421.0</td>\n",
       "      <td>30000.00</td>\n",
       "      <td>53-67</td>\n",
       "      <td>-27579.00</td>\n",
       "    </tr>\n",
       "    <tr>\n",
       "      <th>2</th>\n",
       "      <td>1000004038</td>\n",
       "      <td>Where is Hank?</td>\n",
       "      <td>Narrative Film</td>\n",
       "      <td>Film &amp; Video</td>\n",
       "      <td>USD</td>\n",
       "      <td>2013-02-26</td>\n",
       "      <td>45000.0</td>\n",
       "      <td>2013-01-12 00:20:50</td>\n",
       "      <td>220.0</td>\n",
       "      <td>failed</td>\n",
       "      <td>3</td>\n",
       "      <td>US</td>\n",
       "      <td>220.0</td>\n",
       "      <td>220.0</td>\n",
       "      <td>45000.00</td>\n",
       "      <td>38-52</td>\n",
       "      <td>-44780.00</td>\n",
       "    </tr>\n",
       "    <tr>\n",
       "      <th>3</th>\n",
       "      <td>1000007540</td>\n",
       "      <td>ToshiCapital Rekordz Needs Help to Complete Album</td>\n",
       "      <td>Music</td>\n",
       "      <td>Music</td>\n",
       "      <td>USD</td>\n",
       "      <td>2012-04-16</td>\n",
       "      <td>5000.0</td>\n",
       "      <td>2012-03-17 03:24:11</td>\n",
       "      <td>1.0</td>\n",
       "      <td>failed</td>\n",
       "      <td>1</td>\n",
       "      <td>US</td>\n",
       "      <td>1.0</td>\n",
       "      <td>1.0</td>\n",
       "      <td>5000.00</td>\n",
       "      <td>23-37</td>\n",
       "      <td>-4999.00</td>\n",
       "    </tr>\n",
       "    <tr>\n",
       "      <th>4</th>\n",
       "      <td>1000011046</td>\n",
       "      <td>Community Film Project: The Art of Neighborhoo...</td>\n",
       "      <td>Film &amp; Video</td>\n",
       "      <td>Film &amp; Video</td>\n",
       "      <td>USD</td>\n",
       "      <td>2015-08-29</td>\n",
       "      <td>19500.0</td>\n",
       "      <td>2015-07-04 08:35:03</td>\n",
       "      <td>1283.0</td>\n",
       "      <td>canceled</td>\n",
       "      <td>14</td>\n",
       "      <td>US</td>\n",
       "      <td>1283.0</td>\n",
       "      <td>1283.0</td>\n",
       "      <td>19500.00</td>\n",
       "      <td>53-67</td>\n",
       "      <td>-18217.00</td>\n",
       "    </tr>\n",
       "    <tr>\n",
       "      <th>...</th>\n",
       "      <td>...</td>\n",
       "      <td>...</td>\n",
       "      <td>...</td>\n",
       "      <td>...</td>\n",
       "      <td>...</td>\n",
       "      <td>...</td>\n",
       "      <td>...</td>\n",
       "      <td>...</td>\n",
       "      <td>...</td>\n",
       "      <td>...</td>\n",
       "      <td>...</td>\n",
       "      <td>...</td>\n",
       "      <td>...</td>\n",
       "      <td>...</td>\n",
       "      <td>...</td>\n",
       "      <td>...</td>\n",
       "      <td>...</td>\n",
       "    </tr>\n",
       "    <tr>\n",
       "      <th>378656</th>\n",
       "      <td>999976400</td>\n",
       "      <td>ChknTruk Nationwide Charity Drive 2014 (Canceled)</td>\n",
       "      <td>Documentary</td>\n",
       "      <td>Film &amp; Video</td>\n",
       "      <td>USD</td>\n",
       "      <td>2014-10-17</td>\n",
       "      <td>50000.0</td>\n",
       "      <td>2014-09-17 02:35:30</td>\n",
       "      <td>25.0</td>\n",
       "      <td>canceled</td>\n",
       "      <td>1</td>\n",
       "      <td>US</td>\n",
       "      <td>25.0</td>\n",
       "      <td>25.0</td>\n",
       "      <td>50000.00</td>\n",
       "      <td>23-37</td>\n",
       "      <td>-49975.00</td>\n",
       "    </tr>\n",
       "    <tr>\n",
       "      <th>378657</th>\n",
       "      <td>999977640</td>\n",
       "      <td>The Tribe</td>\n",
       "      <td>Narrative Film</td>\n",
       "      <td>Film &amp; Video</td>\n",
       "      <td>USD</td>\n",
       "      <td>2011-07-19</td>\n",
       "      <td>1500.0</td>\n",
       "      <td>2011-06-22 03:35:14</td>\n",
       "      <td>155.0</td>\n",
       "      <td>failed</td>\n",
       "      <td>5</td>\n",
       "      <td>US</td>\n",
       "      <td>155.0</td>\n",
       "      <td>155.0</td>\n",
       "      <td>1500.00</td>\n",
       "      <td>23-37</td>\n",
       "      <td>-1345.00</td>\n",
       "    </tr>\n",
       "    <tr>\n",
       "      <th>378658</th>\n",
       "      <td>999986353</td>\n",
       "      <td>Walls of Remedy- New lesbian Romantic Comedy f...</td>\n",
       "      <td>Narrative Film</td>\n",
       "      <td>Film &amp; Video</td>\n",
       "      <td>USD</td>\n",
       "      <td>2010-08-16</td>\n",
       "      <td>15000.0</td>\n",
       "      <td>2010-07-01 19:40:30</td>\n",
       "      <td>20.0</td>\n",
       "      <td>failed</td>\n",
       "      <td>1</td>\n",
       "      <td>US</td>\n",
       "      <td>20.0</td>\n",
       "      <td>20.0</td>\n",
       "      <td>15000.00</td>\n",
       "      <td>38-52</td>\n",
       "      <td>-14980.00</td>\n",
       "    </tr>\n",
       "    <tr>\n",
       "      <th>378659</th>\n",
       "      <td>999987933</td>\n",
       "      <td>BioDefense Education Kit</td>\n",
       "      <td>Technology</td>\n",
       "      <td>Technology</td>\n",
       "      <td>USD</td>\n",
       "      <td>2016-02-13</td>\n",
       "      <td>15000.0</td>\n",
       "      <td>2016-01-13 18:13:53</td>\n",
       "      <td>200.0</td>\n",
       "      <td>failed</td>\n",
       "      <td>6</td>\n",
       "      <td>US</td>\n",
       "      <td>200.0</td>\n",
       "      <td>200.0</td>\n",
       "      <td>15000.00</td>\n",
       "      <td>23-37</td>\n",
       "      <td>-14800.00</td>\n",
       "    </tr>\n",
       "    <tr>\n",
       "      <th>378660</th>\n",
       "      <td>999988282</td>\n",
       "      <td>Nou Renmen Ayiti!  We Love Haiti!</td>\n",
       "      <td>Performance Art</td>\n",
       "      <td>Art</td>\n",
       "      <td>USD</td>\n",
       "      <td>2011-08-16</td>\n",
       "      <td>2000.0</td>\n",
       "      <td>2011-07-19 09:07:47</td>\n",
       "      <td>524.0</td>\n",
       "      <td>failed</td>\n",
       "      <td>17</td>\n",
       "      <td>US</td>\n",
       "      <td>524.0</td>\n",
       "      <td>524.0</td>\n",
       "      <td>2000.00</td>\n",
       "      <td>23-37</td>\n",
       "      <td>-1476.00</td>\n",
       "    </tr>\n",
       "  </tbody>\n",
       "</table>\n",
       "<p>378654 rows × 17 columns</p>\n",
       "</div>"
      ],
      "text/plain": [
       "                ID                                               name  \\\n",
       "0       1000002330                    The Songs of Adelaide & Abullah   \n",
       "1       1000003930      Greeting From Earth: ZGAC Arts Capsule For ET   \n",
       "2       1000004038                                     Where is Hank?   \n",
       "3       1000007540  ToshiCapital Rekordz Needs Help to Complete Album   \n",
       "4       1000011046  Community Film Project: The Art of Neighborhoo...   \n",
       "...            ...                                                ...   \n",
       "378656   999976400  ChknTruk Nationwide Charity Drive 2014 (Canceled)   \n",
       "378657   999977640                                          The Tribe   \n",
       "378658   999986353  Walls of Remedy- New lesbian Romantic Comedy f...   \n",
       "378659   999987933                           BioDefense Education Kit   \n",
       "378660   999988282                  Nou Renmen Ayiti!  We Love Haiti!   \n",
       "\n",
       "               category main_category currency   deadline     goal  \\\n",
       "0                Poetry    Publishing      GBP 2015-10-09   1000.0   \n",
       "1        Narrative Film  Film & Video      USD 2017-11-01  30000.0   \n",
       "2        Narrative Film  Film & Video      USD 2013-02-26  45000.0   \n",
       "3                 Music         Music      USD 2012-04-16   5000.0   \n",
       "4          Film & Video  Film & Video      USD 2015-08-29  19500.0   \n",
       "...                 ...           ...      ...        ...      ...   \n",
       "378656      Documentary  Film & Video      USD 2014-10-17  50000.0   \n",
       "378657   Narrative Film  Film & Video      USD 2011-07-19   1500.0   \n",
       "378658   Narrative Film  Film & Video      USD 2010-08-16  15000.0   \n",
       "378659       Technology    Technology      USD 2016-02-13  15000.0   \n",
       "378660  Performance Art           Art      USD 2011-08-16   2000.0   \n",
       "\n",
       "                  launched  pledged     state  backers country  usd pledged  \\\n",
       "0      2015-08-11 12:12:28      0.0    failed        0      GB          0.0   \n",
       "1      2017-09-02 04:43:57   2421.0    failed       15      US        100.0   \n",
       "2      2013-01-12 00:20:50    220.0    failed        3      US        220.0   \n",
       "3      2012-03-17 03:24:11      1.0    failed        1      US          1.0   \n",
       "4      2015-07-04 08:35:03   1283.0  canceled       14      US       1283.0   \n",
       "...                    ...      ...       ...      ...     ...          ...   \n",
       "378656 2014-09-17 02:35:30     25.0  canceled        1      US         25.0   \n",
       "378657 2011-06-22 03:35:14    155.0    failed        5      US        155.0   \n",
       "378658 2010-07-01 19:40:30     20.0    failed        1      US         20.0   \n",
       "378659 2016-01-13 18:13:53    200.0    failed        6      US        200.0   \n",
       "378660 2011-07-19 09:07:47    524.0    failed       17      US        524.0   \n",
       "\n",
       "        usd_pledged_real  usd_goal_real duration      diff  \n",
       "0                    0.0        1533.95    53-67  -1533.95  \n",
       "1                 2421.0       30000.00    53-67 -27579.00  \n",
       "2                  220.0       45000.00    38-52 -44780.00  \n",
       "3                    1.0        5000.00    23-37  -4999.00  \n",
       "4                 1283.0       19500.00    53-67 -18217.00  \n",
       "...                  ...            ...      ...       ...  \n",
       "378656              25.0       50000.00    23-37 -49975.00  \n",
       "378657             155.0        1500.00    23-37  -1345.00  \n",
       "378658              20.0       15000.00    38-52 -14980.00  \n",
       "378659             200.0       15000.00    23-37 -14800.00  \n",
       "378660             524.0        2000.00    23-37  -1476.00  \n",
       "\n",
       "[378654 rows x 17 columns]"
      ]
     },
     "execution_count": 163,
     "metadata": {},
     "output_type": "execute_result"
    }
   ],
   "source": [
    "df_01 = df\n",
    "df_01"
   ]
  },
  {
   "cell_type": "code",
   "execution_count": 125,
   "metadata": {},
   "outputs": [
    {
     "data": {
      "text/plain": [
       "ID                           int64\n",
       "name                        object\n",
       "category                    object\n",
       "main_category               object\n",
       "currency                    object\n",
       "deadline            datetime64[ns]\n",
       "goal                       float64\n",
       "launched            datetime64[ns]\n",
       "pledged                    float64\n",
       "state                       object\n",
       "backers                      int64\n",
       "country                     object\n",
       "usd pledged                float64\n",
       "usd_pledged_real           float64\n",
       "usd_goal_real              float64\n",
       "duration                  category\n",
       "dtype: object"
      ]
     },
     "execution_count": 125,
     "metadata": {},
     "output_type": "execute_result"
    }
   ],
   "source": [
    "df_01.dtypes"
   ]
  },
  {
   "cell_type": "markdown",
   "metadata": {},
   "source": [
    "### Next plot, shows us:"
   ]
  },
  {
   "cell_type": "markdown",
   "metadata": {},
   "source": [
    "#### Smaller goal's campaings are more likely to pledge more funds."
   ]
  },
  {
   "cell_type": "code",
   "execution_count": 132,
   "metadata": {},
   "outputs": [
    {
     "data": {
      "text/plain": [
       "<AxesSubplot:xlabel='usd_goal_real'>"
      ]
     },
     "execution_count": 132,
     "metadata": {},
     "output_type": "execute_result"
    },
    {
     "data": {
      "image/png": "[encoded data removed]",
      "text/plain": [
       "<Figure size 432x288 with 1 Axes>"
      ]
     },
     "metadata": {
      "needs_background": "light"
     },
     "output_type": "display_data"
    }
   ],
   "source": [
    "df_01.plot(x ='usd_goal_real',y='usd_pledged_real')\n",
    "#plot(x='Group', y='Campaigns', kind = 'bar')"
   ]
  },
  {
   "cell_type": "code",
   "execution_count": 139,
   "metadata": {},
   "outputs": [
    {
     "data": {
      "text/plain": [
       "<AxesSubplot:xlabel='usd_pledged_real'>"
      ]
     },
     "execution_count": 139,
     "metadata": {},
     "output_type": "execute_result"
    },
    {
     "data": {
      "image/png": "[encoded data removed]",
      "text/plain": [
       "<Figure size 432x288 with 1 Axes>"
      ]
     },
     "metadata": {
      "needs_background": "light"
     },
     "output_type": "display_data"
    }
   ],
   "source": [
    "df_01.plot(y ='usd_goal_real',x='usd_pledged_real',logy=True)"
   ]
  },
  {
   "cell_type": "code",
   "execution_count": 143,
   "metadata": {},
   "outputs": [
    {
     "data": {
      "text/plain": [
       "<AxesSubplot:xlabel='usd_pledged_real', ylabel='usd_goal_real'>"
      ]
     },
     "execution_count": 143,
     "metadata": {},
     "output_type": "execute_result"
    },
    {
     "data": {
      "image/png": "[encoded data removed]",
      "text/plain": [
       "<Figure size 432x288 with 1 Axes>"
      ]
     },
     "metadata": {
      "needs_background": "light"
     },
     "output_type": "display_data"
    }
   ],
   "source": [
    "df_01.plot(y ='usd_goal_real',x='usd_pledged_real',logy=True, kind = 'scatter')"
   ]
  },
  {
   "cell_type": "code",
   "execution_count": 169,
   "metadata": {},
   "outputs": [
    {
     "data": {
      "text/plain": [
       "Text(0.5, 1.08, 'Goal vs diff')"
      ]
     },
     "execution_count": 169,
     "metadata": {},
     "output_type": "execute_result"
    },
    {
     "data": {
      "image/png": "[encoded data removed]",
      "text/plain": [
       "<Figure size 432x288 with 1 Axes>"
      ]
     },
     "metadata": {
      "needs_background": "light"
     },
     "output_type": "display_data"
    }
   ],
   "source": [
    "df_01_s = df_01 >> dfply.filter_by(df.state == 'successful') \n",
    "df_01_s\n",
    "df_01_s.plot(y ='usd_goal_real',x='diff',logy=True, kind = 'scatter')\n",
    "plt.title('Goal vs diff', fontsize = 16, y=1.08)"
   ]
  },
  {
   "cell_type": "code",
   "execution_count": 152,
   "metadata": {},
   "outputs": [],
   "source": [
    "df1gs['diff']=df1gs['usd_pledged_real']-df1gs['usd_goal_real']\n",
    "df2gs['diff']=df2gs['usd_pledged_real']-df2gs['usd_goal_real']\n",
    "df3gs['diff']=df3gs['usd_pledged_real']-df3gs['usd_goal_real']\n",
    "df4gs['diff']=df4gs['usd_pledged_real']-df4gs['usd_goal_real']"
   ]
  },
  {
   "cell_type": "code",
   "execution_count": 155,
   "metadata": {},
   "outputs": [
    {
     "data": {
      "text/plain": [
       "Text(0.5, 1.08, 'Goal: x <= $1,000 USD')"
      ]
     },
     "execution_count": 155,
     "metadata": {},
     "output_type": "execute_result"
    },
    {
     "data": {
      "image/png": "[encoded data removed]",
      "text/plain": [
       "<Figure size 432x288 with 1 Axes>"
      ]
     },
     "metadata": {
      "needs_background": "light"
     },
     "output_type": "display_data"
    }
   ],
   "source": [
    "df1gs.plot(y ='usd_goal_real',x='diff',logy=True, kind = 'scatter')\n",
    "plt.title('Goal: x <= $1,000 USD', fontsize = 16, y=1.08)"
   ]
  },
  {
   "cell_type": "code",
   "execution_count": 156,
   "metadata": {},
   "outputs": [
    {
     "data": {
      "text/plain": [
       "Text(0.5, 1.08, 'Goal: $1,000 < x < $10,000 USD')"
      ]
     },
     "execution_count": 156,
     "metadata": {},
     "output_type": "execute_result"
    },
    {
     "data": {
      "image/png": "[encoded data removed]",
      "text/plain": [
       "<Figure size 432x288 with 1 Axes>"
      ]
     },
     "metadata": {
      "needs_background": "light"
     },
     "output_type": "display_data"
    }
   ],
   "source": [
    "df2gs.plot(y ='usd_goal_real',x='diff',logy=True, kind = 'scatter')\n",
    "plt.title('Goal: $1,000 < x < $10,000 USD', fontsize = 16, y=1.08)"
   ]
  },
  {
   "cell_type": "code",
   "execution_count": 157,
   "metadata": {},
   "outputs": [
    {
     "data": {
      "text/plain": [
       "Text(0.5, 1.08, 'Goal: $10,000 < x < $100,000 USD')"
      ]
     },
     "execution_count": 157,
     "metadata": {},
     "output_type": "execute_result"
    },
    {
     "data": {
      "image/png": "[encoded data removed]",
      "text/plain": [
       "<Figure size 432x288 with 1 Axes>"
      ]
     },
     "metadata": {
      "needs_background": "light"
     },
     "output_type": "display_data"
    }
   ],
   "source": [
    "df3gs.plot(y ='usd_goal_real',x='diff',logy=True, kind = 'scatter')\n",
    "plt.title('Goal: $10,000 < x < $100,000 USD', fontsize = 16, y=1.08)"
   ]
  },
  {
   "cell_type": "code",
   "execution_count": 158,
   "metadata": {},
   "outputs": [
    {
     "data": {
      "text/plain": [
       "Text(0.5, 1.08, 'Goal: $100,000 < x USD')"
      ]
     },
     "execution_count": 158,
     "metadata": {},
     "output_type": "execute_result"
    },
    {
     "data": {
      "image/png": "[encoded data removed]",
      "text/plain": [
       "<Figure size 432x288 with 1 Axes>"
      ]
     },
     "metadata": {
      "needs_background": "light"
     },
     "output_type": "display_data"
    }
   ],
   "source": [
    "df4gs.plot(y ='usd_goal_real',x='diff',logy=True, kind = 'scatter')\n",
    "plt.title('Goal: $100,000 < x USD', fontsize = 16, y=1.08)"
   ]
  },
  {
   "cell_type": "markdown",
   "metadata": {},
   "source": [
    "____"
   ]
  },
  {
   "cell_type": "markdown",
   "metadata": {},
   "source": [
    "# RESULTS"
   ]
  },
  {
   "cell_type": "markdown",
   "metadata": {},
   "source": [
    "## 1. Does the campaign length impact the success rate?"
   ]
  },
  {
   "cell_type": "markdown",
   "metadata": {},
   "source": [
    "#### Most succesful ratio Range of lenght is 8-22 days, while the worst succesfull ratio is the group of 53-67 days"
   ]
  },
  {
   "cell_type": "code",
   "execution_count": 177,
   "metadata": {},
   "outputs": [
    {
     "data": {
      "text/html": [
       "<div>\n",
       "<style scoped>\n",
       "    .dataframe tbody tr th:only-of-type {\n",
       "        vertical-align: middle;\n",
       "    }\n",
       "\n",
       "    .dataframe tbody tr th {\n",
       "        vertical-align: top;\n",
       "    }\n",
       "\n",
       "    .dataframe thead th {\n",
       "        text-align: right;\n",
       "    }\n",
       "</style>\n",
       "<table border=\"1\" class=\"dataframe\">\n",
       "  <thead>\n",
       "    <tr style=\"text-align: right;\">\n",
       "      <th></th>\n",
       "      <th>TCampaigns</th>\n",
       "      <th>Pctg</th>\n",
       "      <th>SuccessCampaigns</th>\n",
       "      <th>SuccessRatio</th>\n",
       "    </tr>\n",
       "  </thead>\n",
       "  <tbody>\n",
       "    <tr>\n",
       "      <th>53-67</th>\n",
       "      <td>41779</td>\n",
       "      <td>11.033556</td>\n",
       "      <td>8685</td>\n",
       "      <td>0.207880</td>\n",
       "    </tr>\n",
       "    <tr>\n",
       "      <th>83-92</th>\n",
       "      <td>2917</td>\n",
       "      <td>0.770360</td>\n",
       "      <td>839</td>\n",
       "      <td>0.287624</td>\n",
       "    </tr>\n",
       "    <tr>\n",
       "      <th>38-52</th>\n",
       "      <td>48145</td>\n",
       "      <td>12.714774</td>\n",
       "      <td>16296</td>\n",
       "      <td>0.338478</td>\n",
       "    </tr>\n",
       "    <tr>\n",
       "      <th>23-37</th>\n",
       "      <td>243408</td>\n",
       "      <td>64.282432</td>\n",
       "      <td>87784</td>\n",
       "      <td>0.360646</td>\n",
       "    </tr>\n",
       "    <tr>\n",
       "      <th>68-82</th>\n",
       "      <td>1020</td>\n",
       "      <td>0.269375</td>\n",
       "      <td>404</td>\n",
       "      <td>0.396078</td>\n",
       "    </tr>\n",
       "    <tr>\n",
       "      <th>0-7</th>\n",
       "      <td>3308</td>\n",
       "      <td>0.873621</td>\n",
       "      <td>1389</td>\n",
       "      <td>0.419891</td>\n",
       "    </tr>\n",
       "    <tr>\n",
       "      <th>8-22</th>\n",
       "      <td>38077</td>\n",
       "      <td>10.055882</td>\n",
       "      <td>18559</td>\n",
       "      <td>0.487407</td>\n",
       "    </tr>\n",
       "  </tbody>\n",
       "</table>\n",
       "</div>"
      ],
      "text/plain": [
       "       TCampaigns       Pctg  SuccessCampaigns  SuccessRatio\n",
       "53-67       41779  11.033556              8685      0.207880\n",
       "83-92        2917   0.770360               839      0.287624\n",
       "38-52       48145  12.714774             16296      0.338478\n",
       "23-37      243408  64.282432             87784      0.360646\n",
       "68-82        1020   0.269375               404      0.396078\n",
       "0-7          3308   0.873621              1389      0.419891\n",
       "8-22        38077  10.055882             18559      0.487407"
      ]
     },
     "execution_count": 177,
     "metadata": {},
     "output_type": "execute_result"
    }
   ],
   "source": [
    "ds_ratio >> dfply.arrange('SuccessRatio')"
   ]
  },
  {
   "cell_type": "code",
   "execution_count": 178,
   "metadata": {},
   "outputs": [
    {
     "data": {
      "text/plain": [
       "Text(0.5, 1.08, 'Success Ratio')"
      ]
     },
     "execution_count": 178,
     "metadata": {},
     "output_type": "execute_result"
    },
    {
     "data": {
      "image/png": "[encoded data removed]",
      "text/plain": [
       "<Figure size 432x432 with 1 Axes>"
      ]
     },
     "metadata": {},
     "output_type": "display_data"
    }
   ],
   "source": [
    "ds_ratio.plot.pie(y = 'SuccessRatio', figsize = (6,6))\n",
    "plt.title('Success Ratio', fontsize = 16, y=1.08)"
   ]
  },
  {
   "cell_type": "markdown",
   "metadata": {},
   "source": [
    "## 2. What is the relationship between the goal and the success of the campaign?"
   ]
  },
  {
   "cell_type": "markdown",
   "metadata": {},
   "source": [
    "### Goal Ranges are:"
   ]
  },
  {
   "cell_type": "markdown",
   "metadata": {},
   "source": [
    "#### Group 1: x <= 1,000 USD"
   ]
  },
  {
   "cell_type": "markdown",
   "metadata": {},
   "source": [
    "#### Group 2: 1,000 < x <= 10,000 USD"
   ]
  },
  {
   "cell_type": "markdown",
   "metadata": {},
   "source": [
    "#### Group 3: 10,000 < x <= 100,000 USD"
   ]
  },
  {
   "cell_type": "markdown",
   "metadata": {},
   "source": [
    "#### Group 4: 100,000 < x  USD"
   ]
  },
  {
   "cell_type": "markdown",
   "metadata": {},
   "source": [
    "### Group 2 of goal has the most successful ratio with nearly 50%. The worst successful ratio is on Group 4 with 5% on success."
   ]
  },
  {
   "cell_type": "code",
   "execution_count": 182,
   "metadata": {},
   "outputs": [
    {
     "data": {
      "text/html": [
       "<div>\n",
       "<style scoped>\n",
       "    .dataframe tbody tr th:only-of-type {\n",
       "        vertical-align: middle;\n",
       "    }\n",
       "\n",
       "    .dataframe tbody tr th {\n",
       "        vertical-align: top;\n",
       "    }\n",
       "\n",
       "    .dataframe thead th {\n",
       "        text-align: right;\n",
       "    }\n",
       "</style>\n",
       "<table border=\"1\" class=\"dataframe\">\n",
       "  <thead>\n",
       "    <tr style=\"text-align: right;\">\n",
       "      <th></th>\n",
       "      <th>Campaigns</th>\n",
       "      <th>TPctg</th>\n",
       "      <th>SuccCampaigns</th>\n",
       "      <th>ratio</th>\n",
       "    </tr>\n",
       "    <tr>\n",
       "      <th>Group</th>\n",
       "      <th></th>\n",
       "      <th></th>\n",
       "      <th></th>\n",
       "      <th></th>\n",
       "    </tr>\n",
       "  </thead>\n",
       "  <tbody>\n",
       "    <tr>\n",
       "      <th>4</th>\n",
       "      <td>12684</td>\n",
       "      <td>3.349760</td>\n",
       "      <td>735</td>\n",
       "      <td>0.057947</td>\n",
       "    </tr>\n",
       "    <tr>\n",
       "      <th>3</th>\n",
       "      <td>111732</td>\n",
       "      <td>29.507677</td>\n",
       "      <td>27598</td>\n",
       "      <td>0.247002</td>\n",
       "    </tr>\n",
       "    <tr>\n",
       "      <th>2</th>\n",
       "      <td>193347</td>\n",
       "      <td>51.061655</td>\n",
       "      <td>75776</td>\n",
       "      <td>0.391917</td>\n",
       "    </tr>\n",
       "    <tr>\n",
       "      <th>1</th>\n",
       "      <td>60891</td>\n",
       "      <td>16.080908</td>\n",
       "      <td>29847</td>\n",
       "      <td>0.490171</td>\n",
       "    </tr>\n",
       "  </tbody>\n",
       "</table>\n",
       "</div>"
      ],
      "text/plain": [
       "       Campaigns      TPctg  SuccCampaigns     ratio\n",
       "Group                                               \n",
       "4          12684   3.349760            735  0.057947\n",
       "3         111732  29.507677          27598  0.247002\n",
       "2         193347  51.061655          75776  0.391917\n",
       "1          60891  16.080908          29847  0.490171"
      ]
     },
     "execution_count": 182,
     "metadata": {},
     "output_type": "execute_result"
    }
   ],
   "source": [
    "GS_ratio >> dfply.arrange('ratio')"
   ]
  },
  {
   "cell_type": "code",
   "execution_count": 183,
   "metadata": {},
   "outputs": [
    {
     "data": {
      "text/plain": [
       "Text(0.5, 1.08, 'Goal Ratio Success Groups')"
      ]
     },
     "execution_count": 183,
     "metadata": {},
     "output_type": "execute_result"
    },
    {
     "data": {
      "image/png": "[encoded data removed]",
      "text/plain": [
       "<Figure size 432x432 with 1 Axes>"
      ]
     },
     "metadata": {},
     "output_type": "display_data"
    }
   ],
   "source": [
    "GS_ratio.plot.pie(y = 'ratio', figsize = (6,6))\n",
    "plt.title('Goal Ratio Success Groups', fontsize = 16, y=1.08)"
   ]
  },
  {
   "cell_type": "markdown",
   "metadata": {},
   "source": [
    "###  a. Distribution of (goal - raised amount)"
   ]
  },
  {
   "cell_type": "markdown",
   "metadata": {},
   "source": [
    "#### This plot shows the difference between the Goal and the Pledged amount. Plotting the difference on the X axis and the Goal requested on the Y axis."
   ]
  },
  {
   "cell_type": "markdown",
   "metadata": {},
   "source": [
    "#### Proyects with bigger goal requests tend to raise more funds than smaller ones."
   ]
  },
  {
   "cell_type": "code",
   "execution_count": 185,
   "metadata": {},
   "outputs": [
    {
     "data": {
      "text/plain": [
       "Text(0.5, 1.08, 'Goal vs diff')"
      ]
     },
     "execution_count": 185,
     "metadata": {},
     "output_type": "execute_result"
    },
    {
     "data": {
      "image/png": "[encoded data removed]",
      "text/plain": [
       "<Figure size 432x288 with 1 Axes>"
      ]
     },
     "metadata": {
      "needs_background": "light"
     },
     "output_type": "display_data"
    }
   ],
   "source": [
    "df_01_s = df_01 >> dfply.filter_by(df.state == 'successful') \n",
    "df_01_s\n",
    "df_01_s.plot(y ='usd_goal_real',x='diff',logy=True, kind = 'scatter')\n",
    "plt.title('Goal vs diff', fontsize = 16, y=1.08)"
   ]
  }
 ],
 "metadata": {
  "kernelspec": {
   "display_name": "Python 3",
   "language": "python",
   "name": "python3"
  }
 },
 "nbformat": 4,
 "nbformat_minor": 4
}
